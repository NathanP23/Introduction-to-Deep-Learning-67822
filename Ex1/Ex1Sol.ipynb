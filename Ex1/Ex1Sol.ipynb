{
 "cells": [
  {
   "cell_type": "markdown",
   "id": "6166850e",
   "metadata": {},
   "source": [
    "# Introduction to Deep Learning 67822 - [Ex1](https://docs.google.com/document/d/11Q1ejfwTH_tHjdQob0gYLA3bS88lNsBStpBWz085rB0/edit?tab=t.0)\n",
    "### NAME1 (ID1) & NAME2 (ID2)"
   ]
  },
  {
   "cell_type": "markdown",
   "id": "bd986d4c",
   "metadata": {},
   "source": [
    "### Section 1: Load and Prepare the Data\n",
    "#### Split training data (from the .txt files)\n",
    "We are training a model to classify 9-mer peptides based on whether they are detected by the immune system via specific HLA alleles. Each positive sample is associated with one of six common alleles. The negative samples are peptides not detected by any of the alleles.\n",
    "\n",
    "When splitting the data into training and test sets, it’s crucial to avoid introducing bias. One tempting idea is to take the first 90% of each file for training and the last 10% for testing. However, this assumes that the peptide order inside each file is random — which may not be true. The files might be sorted by binding strength, similarity, or even alphabetically, which could skew the distribution.\n",
    "\n",
    "To prevent such biases and ensure fair training and evaluation, we use a **stratified random split per allele**:\n",
    "\n",
    "1. We load and shuffle the peptides from each positive allele file individually.\n",
    "2. We split each file into a 90% training / 10% test set.\n",
    "3. We do the same for the negative examples (from `negs.txt`).\n",
    "4. Finally, we combine all subsets and shuffle them again.\n",
    "\n",
    "This approach ensures that all alleles are represented in both training and test sets, the overall class balance between positive and negative is maintained and no ordering bias from the original files leaks into the learning process."
   ]
  },
  {
   "cell_type": "code",
   "execution_count": 13,
   "id": "531f7145",
   "metadata": {},
   "outputs": [
    {
     "name": "stdout",
     "output_type": "stream",
     "text": [
      "Train set size: 33642 (89.99%))\n",
      "Test set size: 3741 (10.01%)\n",
      "\n",
      "Train set distribution:\n",
      "  NEG    (label 0): 22042 samples (65.52%)\n",
      "  A0101  (label 1): 1142 samples (3.39%)\n",
      "  A0201  (label 2): 2352 samples (6.99%)\n",
      "  A0203  (label 3): 1645 samples (4.89%)\n",
      "  A0207  (label 4): 2982 samples (8.86%)\n",
      "  A0301  (label 5): 1493 samples (4.44%)\n",
      "  A2402  (label 6): 1986 samples (5.90%)\n",
      "\n",
      "Test set distribution:\n",
      "  NEG    (label 0): 2450 samples (65.49%)\n",
      "  A0101  (label 1): 127 samples (3.39%)\n",
      "  A0201  (label 2): 262 samples (7.00%)\n",
      "  A0203  (label 3): 183 samples (4.89%)\n",
      "  A0207  (label 4): 332 samples (8.87%)\n",
      "  A0301  (label 5): 166 samples (4.44%)\n",
      "  A2402  (label 6): 221 samples (5.91%)\n"
     ]
    }
   ],
   "source": [
    "from dataset import load_and_split_data\n",
    "\n",
    "# Load and split data\n",
    "train_data, test_data = load_and_split_data()\n",
    "\n",
    "# Printing statistics will be handled inside the load_and_split_data function"
   ]
  },
  {
   "cell_type": "markdown",
   "id": "0caf2c18",
   "metadata": {},
   "source": [
    "### Section 2 – Peptide Representation\n",
    "\n",
    "#### How would you represent these 9-mers of amino acids?\n",
    "\n",
    "We considered two approaches:\n",
    "\n",
    "**1. One-hot encoding:**  \n",
    "Each amino acid is represented as a 20-dimensional one-hot vector. For a 9-mer peptide, this would require 180 input features. While this is straightforward, it’s sparse and does not capture biological similarities between amino acids.\n",
    "\n",
    "**2. Embedding (used):**  \n",
    "Instead, we map each amino acid to a dense embedding vector of size `d` (e.g., 4 or 8). This allows the model to learn meaningful representations during training, such as that hydrophobic or acidic amino acids may behave similarly.\n",
    "\n",
    "Each peptide is converted to 9 indices (integers from 0–19), then embedded to get a `9 × d` matrix, which is then flattened for input to an MLP.\n",
    "\n",
    "#### How would you represent the associate alleles?\n",
    "\n",
    "Each positive sample comes from a known allele, and each negative sample is from none. We label:\n",
    "- `0` → NEG (non-detecting)\n",
    "- `1–6` → Alleles A0101 to A2402\n",
    "\n",
    "This forms a 7-class multi-class classification problem.\n"
   ]
  },
  {
   "cell_type": "code",
   "execution_count": 14,
   "id": "d0bdd42b",
   "metadata": {},
   "outputs": [
    {
     "name": "stdout",
     "output_type": "stream",
     "text": [
      "X_train shape: torch.Size([33642, 9])\n",
      "y_train shape: torch.Size([33642])\n",
      "X_test shape: torch.Size([3741, 9])\n",
      "y_test shape: torch.Size([3741])\n",
      "\n",
      "Example input (peptide indices): tensor([17,  5,  7, 16,  7, 13,  6,  0, 19])\n",
      "Corresponding label (allele class): tensor(0)\n"
     ]
    }
   ],
   "source": [
    "from dataset import prepare_data\n",
    "\n",
    "# Prepare tensor datasets\n",
    "X_train, y_train, X_test, y_test = prepare_data(train_data, test_data)"
   ]
  },
  {
   "cell_type": "markdown",
   "id": "5b4ae60f",
   "metadata": {},
   "source": [
    "### Section 3 – Network Architecture\n",
    "\n",
    "#### What will the network’s input dimension be?\n",
    "With embeddings of size `d` and peptides of length 9, the input dimension is `9 × d`.  \n",
    "For example, using `d = 4`, the input to the MLP is of size 36.\n",
    "\n",
    "#### Implement an MLP that keeps this dimension for 2 inner layers\n",
    "We construct a small feedforward neural network (MLP) with the following layers:\n",
    "- **Embedding layer:** Maps 20 amino acid types to `d`-dimensional learnable vectors.\n",
    "- **Flatten layer:** Concatenates the 9 embedded amino acids into a single vector of size `9 × d`.\n",
    "- **Two hidden layers:** Fully connected, both using the same dimension (`9 × d`) with ReLU activations.\n",
    "- **Output layer:** A linear layer with 7 outputs, representing the 7 classification labels (6 alleles + NEG).\n",
    "\n",
    "We use `CrossEntropyLoss` as our loss function, and the `Adam` optimizer. During training, we track both training and validation loss.\n",
    "\n",
    "#### Does the input dimension cause training problems?\n",
    "In our setup, Each amino acid is embedded into a small vector (e.g. 4D), A peptide of length 9 becomes a 36D input vector (`9 × 4`) and the hidden layers also use this dimension.\n",
    "\n",
    "This is a relatively small dimensional space (especially compared to one-hot encoding with 180 features). The network trains quickly and converges within a few epochs. No numerical instability or overfitting is observed.\n",
    "\n",
    "**Conclusion:** The embedding-based representation allows the model to learn efficiently without overfitting or struggling with too high-dimensional sparse inputs.\n",
    "\n",
    "#### Architecture Overview\n",
    "We use a Multi-Layer Perceptron (MLP) that receives a 9-mer peptide encoded as indices of amino acids (integers from 0 to 19).\n",
    "- We pass the input through an `nn.Embedding` layer that maps each amino acid to a learnable dense vector of dimension `d` (e.g., 4 or 8).\n",
    "- The resulting tensor of shape `[batch_size, 9, d]` is flattened into `[batch_size, 9 × d]`.\n",
    "- This is passed through two fully connected layers of the same size, with ReLU activations.\n",
    "- The final layer outputs 7 logits corresponding to 7 classes (6 alleles + negative class).\n",
    "- We apply `CrossEntropyLoss`, which internally applies softmax + log likelihood.\n",
    "\n",
    "We also track training and test loss and accuracy over multiple epochs.\n"
   ]
  },
  {
   "cell_type": "markdown",
   "id": "03ccdbc7",
   "metadata": {},
   "source": [
    "#### Defining the MLP Model"
   ]
  },
  {
   "cell_type": "code",
   "execution_count": 15,
   "id": "02cac5fb",
   "metadata": {},
   "outputs": [],
   "source": [
    "from model import PeptideClassifier\n",
    "\n",
    "# Create model instance\n",
    "model = PeptideClassifier(emb_dim=4)"
   ]
  },
  {
   "cell_type": "markdown",
   "id": "5c478789",
   "metadata": {},
   "source": [
    "#### Loss & Optimization "
   ]
  },
  {
   "cell_type": "code",
   "execution_count": 16,
   "id": "c345e3a1",
   "metadata": {},
   "outputs": [
    {
     "name": "stdout",
     "output_type": "stream",
     "text": [
      "Model, optimizer, and loss function initialized!\n"
     ]
    }
   ],
   "source": [
    "from training import create_data_loaders, setup_training\n",
    "\n",
    "# Create data loaders\n",
    "train_loader, test_loader = create_data_loaders(X_train, y_train, X_test, y_test)\n",
    "\n",
    "# Setup loss function and optimizer\n",
    "loss_fn, optimizer = setup_training(model, y_train)"
   ]
  },
  {
   "cell_type": "markdown",
   "id": "ad72f4ca",
   "metadata": {},
   "source": [
    "#### Training Loop"
   ]
  },
  {
   "cell_type": "code",
   "execution_count": 17,
   "id": "0ab01a2d",
   "metadata": {},
   "outputs": [
    {
     "name": "stdout",
     "output_type": "stream",
     "text": [
      "Epoch  1/30 | Train Loss: 1.2981 | Test Loss: 1.1005 | Accuracy: 65.49%\n",
      "Epoch  2/30 | Train Loss: 1.0161 | Test Loss: 0.9639 | Accuracy: 65.28%\n",
      "Epoch  3/30 | Train Loss: 0.9263 | Test Loss: 0.9009 | Accuracy: 65.76%\n",
      "Epoch  4/30 | Train Loss: 0.8709 | Test Loss: 0.8562 | Accuracy: 66.37%\n",
      "Epoch  5/30 | Train Loss: 0.8340 | Test Loss: 0.8289 | Accuracy: 66.72%\n",
      "Epoch  6/30 | Train Loss: 0.8095 | Test Loss: 0.8034 | Accuracy: 67.33%\n",
      "Epoch  7/30 | Train Loss: 0.7874 | Test Loss: 0.7858 | Accuracy: 67.92%\n",
      "Epoch  8/30 | Train Loss: 0.7695 | Test Loss: 0.7715 | Accuracy: 68.48%\n",
      "Epoch  9/30 | Train Loss: 0.7542 | Test Loss: 0.7559 | Accuracy: 69.31%\n",
      "Epoch 10/30 | Train Loss: 0.7414 | Test Loss: 0.7456 | Accuracy: 69.50%\n",
      "Epoch 11/30 | Train Loss: 0.7296 | Test Loss: 0.7345 | Accuracy: 69.39%\n",
      "Epoch 12/30 | Train Loss: 0.7193 | Test Loss: 0.7268 | Accuracy: 70.01%\n",
      "Epoch 13/30 | Train Loss: 0.7106 | Test Loss: 0.7153 | Accuracy: 70.97%\n",
      "Epoch 14/30 | Train Loss: 0.7029 | Test Loss: 0.7120 | Accuracy: 70.22%\n",
      "Epoch 15/30 | Train Loss: 0.6969 | Test Loss: 0.7033 | Accuracy: 70.89%\n",
      "Epoch 16/30 | Train Loss: 0.6903 | Test Loss: 0.6996 | Accuracy: 71.10%\n",
      "Epoch 17/30 | Train Loss: 0.6849 | Test Loss: 0.6996 | Accuracy: 71.10%\n",
      "Epoch 18/30 | Train Loss: 0.6807 | Test Loss: 0.6953 | Accuracy: 71.34%\n",
      "Epoch 19/30 | Train Loss: 0.6773 | Test Loss: 0.6903 | Accuracy: 71.08%\n",
      "Epoch 20/30 | Train Loss: 0.6728 | Test Loss: 0.6910 | Accuracy: 70.28%\n",
      "Epoch 21/30 | Train Loss: 0.6697 | Test Loss: 0.6851 | Accuracy: 71.34%\n",
      "Epoch 22/30 | Train Loss: 0.6668 | Test Loss: 0.6834 | Accuracy: 71.61%\n",
      "Epoch 23/30 | Train Loss: 0.6634 | Test Loss: 0.6802 | Accuracy: 71.24%\n",
      "Epoch 24/30 | Train Loss: 0.6613 | Test Loss: 0.6791 | Accuracy: 71.56%\n",
      "Epoch 25/30 | Train Loss: 0.6587 | Test Loss: 0.6774 | Accuracy: 71.45%\n",
      "Epoch 26/30 | Train Loss: 0.6571 | Test Loss: 0.6768 | Accuracy: 71.29%\n",
      "Epoch 27/30 | Train Loss: 0.6546 | Test Loss: 0.6751 | Accuracy: 71.67%\n",
      "Epoch 28/30 | Train Loss: 0.6530 | Test Loss: 0.6746 | Accuracy: 71.69%\n",
      "Epoch 29/30 | Train Loss: 0.6516 | Test Loss: 0.6729 | Accuracy: 71.50%\n",
      "Epoch 30/30 | Train Loss: 0.6502 | Test Loss: 0.6739 | Accuracy: 71.05%\n"
     ]
    }
   ],
   "source": [
    "from config import EPOCHS\n",
    "from training import train_model\n",
    "\n",
    "# Train the model\n",
    "train_losses, test_losses, accuracies = train_model(\n",
    "    model, train_loader, test_loader, loss_fn, optimizer, epochs=EPOCHS\n",
    ")"
   ]
  },
  {
   "cell_type": "markdown",
   "id": "afa41ab9",
   "metadata": {},
   "source": [
    "####  Plot Train/Test Loss"
   ]
  },
  {
   "cell_type": "code",
   "execution_count": 18,
   "id": "0ea73426",
   "metadata": {},
   "outputs": [
    {
     "data": {
      "text/html": [
       "        <script type=\"text/javascript\">\n",
       "        window.PlotlyConfig = {MathJaxConfig: 'local'};\n",
       "        if (window.MathJax && window.MathJax.Hub && window.MathJax.Hub.Config) {window.MathJax.Hub.Config({SVG: {font: \"STIX-Web\"}});}\n",
       "        </script>\n",
       "        <script type=\"module\">import \"https://cdn.plot.ly/plotly-3.0.1.min\"</script>\n",
       "        "
      ]
     },
     "metadata": {},
     "output_type": "display_data"
    },
    {
     "data": {
      "application/vnd.plotly.v1+json": {
       "config": {
        "linkText": "Export to plot.ly",
        "plotlyServerURL": "https://plot.ly",
        "showLink": false
       },
       "data": [
        {
         "hoverinfo": "text",
         "hovertext": [
          "Epoch 1: 1.2981",
          "Epoch 2: 1.0161",
          "Epoch 3: 0.9263",
          "Epoch 4: 0.8709",
          "Epoch 5: 0.8340",
          "Epoch 6: 0.8095",
          "Epoch 7: 0.7874",
          "Epoch 8: 0.7695",
          "Epoch 9: 0.7542",
          "Epoch 10: 0.7414",
          "Epoch 11: 0.7296",
          "Epoch 12: 0.7193",
          "Epoch 13: 0.7106",
          "Epoch 14: 0.7029",
          "Epoch 15: 0.6969",
          "Epoch 16: 0.6903",
          "Epoch 17: 0.6849",
          "Epoch 18: 0.6807",
          "Epoch 19: 0.6773",
          "Epoch 20: 0.6728",
          "Epoch 21: 0.6697",
          "Epoch 22: 0.6668",
          "Epoch 23: 0.6634",
          "Epoch 24: 0.6613",
          "Epoch 25: 0.6587",
          "Epoch 26: 0.6571",
          "Epoch 27: 0.6546",
          "Epoch 28: 0.6530",
          "Epoch 29: 0.6516",
          "Epoch 30: 0.6502"
         ],
         "line": {
          "width": 3
         },
         "mode": "lines+markers",
         "name": "Train Loss",
         "type": "scatter",
         "x": [
          1,
          2,
          3,
          4,
          5,
          6,
          7,
          8,
          9,
          10,
          11,
          12,
          13,
          14,
          15,
          16,
          17,
          18,
          19,
          20,
          21,
          22,
          23,
          24,
          25,
          26,
          27,
          28,
          29,
          30
         ],
         "y": [
          1.2981051545344113,
          1.0160568751752195,
          0.926320413890162,
          0.8709494662223903,
          0.8340130193176369,
          0.8095009796125172,
          0.7873627392604046,
          0.7694796439541286,
          0.7542215859689424,
          0.7414082596527539,
          0.729626151811112,
          0.7193278936212677,
          0.7106461768009725,
          0.7028531129964998,
          0.6969228403108042,
          0.6902561152096871,
          0.6849127188214195,
          0.6807106995184296,
          0.6772547068426367,
          0.6727801689381024,
          0.6697183346062336,
          0.6667712991993533,
          0.6634037043576178,
          0.6613256172365343,
          0.6586811321823912,
          0.6570909209246018,
          0.6546301502696995,
          0.6530341437615436,
          0.6516446436948976,
          0.6502008943798412
         ]
        },
        {
         "hoverinfo": "text",
         "hovertext": [
          "Epoch 1: 1.1005",
          "Epoch 2: 0.9639",
          "Epoch 3: 0.9009",
          "Epoch 4: 0.8562",
          "Epoch 5: 0.8289",
          "Epoch 6: 0.8034",
          "Epoch 7: 0.7858",
          "Epoch 8: 0.7715",
          "Epoch 9: 0.7559",
          "Epoch 10: 0.7456",
          "Epoch 11: 0.7345",
          "Epoch 12: 0.7268",
          "Epoch 13: 0.7153",
          "Epoch 14: 0.7120",
          "Epoch 15: 0.7033",
          "Epoch 16: 0.6996",
          "Epoch 17: 0.6996",
          "Epoch 18: 0.6953",
          "Epoch 19: 0.6903",
          "Epoch 20: 0.6910",
          "Epoch 21: 0.6851",
          "Epoch 22: 0.6834",
          "Epoch 23: 0.6802",
          "Epoch 24: 0.6791",
          "Epoch 25: 0.6774",
          "Epoch 26: 0.6768",
          "Epoch 27: 0.6751",
          "Epoch 28: 0.6746",
          "Epoch 29: 0.6729",
          "Epoch 30: 0.6739"
         ],
         "line": {
          "width": 3
         },
         "mode": "lines+markers",
         "name": "Test Loss",
         "type": "scatter",
         "x": [
          1,
          2,
          3,
          4,
          5,
          6,
          7,
          8,
          9,
          10,
          11,
          12,
          13,
          14,
          15,
          16,
          17,
          18,
          19,
          20,
          21,
          22,
          23,
          24,
          25,
          26,
          27,
          28,
          29,
          30
         ],
         "y": [
          1.1005288116500456,
          0.9638774002723215,
          0.9009296790828873,
          0.8561565476412188,
          0.8289085208206565,
          0.8033710072876075,
          0.7857911794843983,
          0.771491490784446,
          0.7559120186953836,
          0.7456301504104286,
          0.7345318134154142,
          0.7268317503522533,
          0.7153364070211939,
          0.7119648508833105,
          0.703321003509186,
          0.6996467665088779,
          0.6995917876688945,
          0.6953278652521035,
          0.6903103185477534,
          0.6910386517289423,
          0.6850717039358103,
          0.6833998392017663,
          0.6802283861808552,
          0.6790731654419551,
          0.6774374642846291,
          0.676823480105024,
          0.6750501015708269,
          0.6746211329649808,
          0.6729012579243632,
          0.6738960623932344
         ]
        }
       ],
       "layout": {
        "height": 420,
        "legend": {
         "bgcolor": "rgba(0,0,0,0.3)",
         "bordercolor": "white",
         "borderwidth": 1,
         "x": 0.98,
         "xanchor": "right",
         "y": 0.98,
         "yanchor": "top"
        },
        "margin": {
         "b": 40,
         "l": 40,
         "r": 30,
         "t": 40
        },
        "paper_bgcolor": "rgba(30, 30, 30, 1)",
        "plot_bgcolor": "rgba(40, 40, 40, 1)",
        "template": {
         "data": {
          "bar": [
           {
            "error_x": {
             "color": "#f2f5fa"
            },
            "error_y": {
             "color": "#f2f5fa"
            },
            "marker": {
             "line": {
              "color": "rgb(17,17,17)",
              "width": 0.5
             },
             "pattern": {
              "fillmode": "overlay",
              "size": 10,
              "solidity": 0.2
             }
            },
            "type": "bar"
           }
          ],
          "barpolar": [
           {
            "marker": {
             "line": {
              "color": "rgb(17,17,17)",
              "width": 0.5
             },
             "pattern": {
              "fillmode": "overlay",
              "size": 10,
              "solidity": 0.2
             }
            },
            "type": "barpolar"
           }
          ],
          "carpet": [
           {
            "aaxis": {
             "endlinecolor": "#A2B1C6",
             "gridcolor": "#506784",
             "linecolor": "#506784",
             "minorgridcolor": "#506784",
             "startlinecolor": "#A2B1C6"
            },
            "baxis": {
             "endlinecolor": "#A2B1C6",
             "gridcolor": "#506784",
             "linecolor": "#506784",
             "minorgridcolor": "#506784",
             "startlinecolor": "#A2B1C6"
            },
            "type": "carpet"
           }
          ],
          "choropleth": [
           {
            "colorbar": {
             "outlinewidth": 0,
             "ticks": ""
            },
            "type": "choropleth"
           }
          ],
          "contour": [
           {
            "colorbar": {
             "outlinewidth": 0,
             "ticks": ""
            },
            "colorscale": [
             [
              0,
              "#0d0887"
             ],
             [
              0.1111111111111111,
              "#46039f"
             ],
             [
              0.2222222222222222,
              "#7201a8"
             ],
             [
              0.3333333333333333,
              "#9c179e"
             ],
             [
              0.4444444444444444,
              "#bd3786"
             ],
             [
              0.5555555555555556,
              "#d8576b"
             ],
             [
              0.6666666666666666,
              "#ed7953"
             ],
             [
              0.7777777777777778,
              "#fb9f3a"
             ],
             [
              0.8888888888888888,
              "#fdca26"
             ],
             [
              1,
              "#f0f921"
             ]
            ],
            "type": "contour"
           }
          ],
          "contourcarpet": [
           {
            "colorbar": {
             "outlinewidth": 0,
             "ticks": ""
            },
            "type": "contourcarpet"
           }
          ],
          "heatmap": [
           {
            "colorbar": {
             "outlinewidth": 0,
             "ticks": ""
            },
            "colorscale": [
             [
              0,
              "#0d0887"
             ],
             [
              0.1111111111111111,
              "#46039f"
             ],
             [
              0.2222222222222222,
              "#7201a8"
             ],
             [
              0.3333333333333333,
              "#9c179e"
             ],
             [
              0.4444444444444444,
              "#bd3786"
             ],
             [
              0.5555555555555556,
              "#d8576b"
             ],
             [
              0.6666666666666666,
              "#ed7953"
             ],
             [
              0.7777777777777778,
              "#fb9f3a"
             ],
             [
              0.8888888888888888,
              "#fdca26"
             ],
             [
              1,
              "#f0f921"
             ]
            ],
            "type": "heatmap"
           }
          ],
          "histogram": [
           {
            "marker": {
             "pattern": {
              "fillmode": "overlay",
              "size": 10,
              "solidity": 0.2
             }
            },
            "type": "histogram"
           }
          ],
          "histogram2d": [
           {
            "colorbar": {
             "outlinewidth": 0,
             "ticks": ""
            },
            "colorscale": [
             [
              0,
              "#0d0887"
             ],
             [
              0.1111111111111111,
              "#46039f"
             ],
             [
              0.2222222222222222,
              "#7201a8"
             ],
             [
              0.3333333333333333,
              "#9c179e"
             ],
             [
              0.4444444444444444,
              "#bd3786"
             ],
             [
              0.5555555555555556,
              "#d8576b"
             ],
             [
              0.6666666666666666,
              "#ed7953"
             ],
             [
              0.7777777777777778,
              "#fb9f3a"
             ],
             [
              0.8888888888888888,
              "#fdca26"
             ],
             [
              1,
              "#f0f921"
             ]
            ],
            "type": "histogram2d"
           }
          ],
          "histogram2dcontour": [
           {
            "colorbar": {
             "outlinewidth": 0,
             "ticks": ""
            },
            "colorscale": [
             [
              0,
              "#0d0887"
             ],
             [
              0.1111111111111111,
              "#46039f"
             ],
             [
              0.2222222222222222,
              "#7201a8"
             ],
             [
              0.3333333333333333,
              "#9c179e"
             ],
             [
              0.4444444444444444,
              "#bd3786"
             ],
             [
              0.5555555555555556,
              "#d8576b"
             ],
             [
              0.6666666666666666,
              "#ed7953"
             ],
             [
              0.7777777777777778,
              "#fb9f3a"
             ],
             [
              0.8888888888888888,
              "#fdca26"
             ],
             [
              1,
              "#f0f921"
             ]
            ],
            "type": "histogram2dcontour"
           }
          ],
          "mesh3d": [
           {
            "colorbar": {
             "outlinewidth": 0,
             "ticks": ""
            },
            "type": "mesh3d"
           }
          ],
          "parcoords": [
           {
            "line": {
             "colorbar": {
              "outlinewidth": 0,
              "ticks": ""
             }
            },
            "type": "parcoords"
           }
          ],
          "pie": [
           {
            "automargin": true,
            "type": "pie"
           }
          ],
          "scatter": [
           {
            "marker": {
             "line": {
              "color": "#283442"
             }
            },
            "type": "scatter"
           }
          ],
          "scatter3d": [
           {
            "line": {
             "colorbar": {
              "outlinewidth": 0,
              "ticks": ""
             }
            },
            "marker": {
             "colorbar": {
              "outlinewidth": 0,
              "ticks": ""
             }
            },
            "type": "scatter3d"
           }
          ],
          "scattercarpet": [
           {
            "marker": {
             "colorbar": {
              "outlinewidth": 0,
              "ticks": ""
             }
            },
            "type": "scattercarpet"
           }
          ],
          "scattergeo": [
           {
            "marker": {
             "colorbar": {
              "outlinewidth": 0,
              "ticks": ""
             }
            },
            "type": "scattergeo"
           }
          ],
          "scattergl": [
           {
            "marker": {
             "line": {
              "color": "#283442"
             }
            },
            "type": "scattergl"
           }
          ],
          "scattermap": [
           {
            "marker": {
             "colorbar": {
              "outlinewidth": 0,
              "ticks": ""
             }
            },
            "type": "scattermap"
           }
          ],
          "scattermapbox": [
           {
            "marker": {
             "colorbar": {
              "outlinewidth": 0,
              "ticks": ""
             }
            },
            "type": "scattermapbox"
           }
          ],
          "scatterpolar": [
           {
            "marker": {
             "colorbar": {
              "outlinewidth": 0,
              "ticks": ""
             }
            },
            "type": "scatterpolar"
           }
          ],
          "scatterpolargl": [
           {
            "marker": {
             "colorbar": {
              "outlinewidth": 0,
              "ticks": ""
             }
            },
            "type": "scatterpolargl"
           }
          ],
          "scatterternary": [
           {
            "marker": {
             "colorbar": {
              "outlinewidth": 0,
              "ticks": ""
             }
            },
            "type": "scatterternary"
           }
          ],
          "surface": [
           {
            "colorbar": {
             "outlinewidth": 0,
             "ticks": ""
            },
            "colorscale": [
             [
              0,
              "#0d0887"
             ],
             [
              0.1111111111111111,
              "#46039f"
             ],
             [
              0.2222222222222222,
              "#7201a8"
             ],
             [
              0.3333333333333333,
              "#9c179e"
             ],
             [
              0.4444444444444444,
              "#bd3786"
             ],
             [
              0.5555555555555556,
              "#d8576b"
             ],
             [
              0.6666666666666666,
              "#ed7953"
             ],
             [
              0.7777777777777778,
              "#fb9f3a"
             ],
             [
              0.8888888888888888,
              "#fdca26"
             ],
             [
              1,
              "#f0f921"
             ]
            ],
            "type": "surface"
           }
          ],
          "table": [
           {
            "cells": {
             "fill": {
              "color": "#506784"
             },
             "line": {
              "color": "rgb(17,17,17)"
             }
            },
            "header": {
             "fill": {
              "color": "#2a3f5f"
             },
             "line": {
              "color": "rgb(17,17,17)"
             }
            },
            "type": "table"
           }
          ]
         },
         "layout": {
          "annotationdefaults": {
           "arrowcolor": "#f2f5fa",
           "arrowhead": 0,
           "arrowwidth": 1
          },
          "autotypenumbers": "strict",
          "coloraxis": {
           "colorbar": {
            "outlinewidth": 0,
            "ticks": ""
           }
          },
          "colorscale": {
           "diverging": [
            [
             0,
             "#8e0152"
            ],
            [
             0.1,
             "#c51b7d"
            ],
            [
             0.2,
             "#de77ae"
            ],
            [
             0.3,
             "#f1b6da"
            ],
            [
             0.4,
             "#fde0ef"
            ],
            [
             0.5,
             "#f7f7f7"
            ],
            [
             0.6,
             "#e6f5d0"
            ],
            [
             0.7,
             "#b8e186"
            ],
            [
             0.8,
             "#7fbc41"
            ],
            [
             0.9,
             "#4d9221"
            ],
            [
             1,
             "#276419"
            ]
           ],
           "sequential": [
            [
             0,
             "#0d0887"
            ],
            [
             0.1111111111111111,
             "#46039f"
            ],
            [
             0.2222222222222222,
             "#7201a8"
            ],
            [
             0.3333333333333333,
             "#9c179e"
            ],
            [
             0.4444444444444444,
             "#bd3786"
            ],
            [
             0.5555555555555556,
             "#d8576b"
            ],
            [
             0.6666666666666666,
             "#ed7953"
            ],
            [
             0.7777777777777778,
             "#fb9f3a"
            ],
            [
             0.8888888888888888,
             "#fdca26"
            ],
            [
             1,
             "#f0f921"
            ]
           ],
           "sequentialminus": [
            [
             0,
             "#0d0887"
            ],
            [
             0.1111111111111111,
             "#46039f"
            ],
            [
             0.2222222222222222,
             "#7201a8"
            ],
            [
             0.3333333333333333,
             "#9c179e"
            ],
            [
             0.4444444444444444,
             "#bd3786"
            ],
            [
             0.5555555555555556,
             "#d8576b"
            ],
            [
             0.6666666666666666,
             "#ed7953"
            ],
            [
             0.7777777777777778,
             "#fb9f3a"
            ],
            [
             0.8888888888888888,
             "#fdca26"
            ],
            [
             1,
             "#f0f921"
            ]
           ]
          },
          "colorway": [
           "#636efa",
           "#EF553B",
           "#00cc96",
           "#ab63fa",
           "#FFA15A",
           "#19d3f3",
           "#FF6692",
           "#B6E880",
           "#FF97FF",
           "#FECB52"
          ],
          "font": {
           "color": "#f2f5fa"
          },
          "geo": {
           "bgcolor": "rgb(17,17,17)",
           "lakecolor": "rgb(17,17,17)",
           "landcolor": "rgb(17,17,17)",
           "showlakes": true,
           "showland": true,
           "subunitcolor": "#506784"
          },
          "hoverlabel": {
           "align": "left"
          },
          "hovermode": "closest",
          "mapbox": {
           "style": "dark"
          },
          "paper_bgcolor": "rgb(17,17,17)",
          "plot_bgcolor": "rgb(17,17,17)",
          "polar": {
           "angularaxis": {
            "gridcolor": "#506784",
            "linecolor": "#506784",
            "ticks": ""
           },
           "bgcolor": "rgb(17,17,17)",
           "radialaxis": {
            "gridcolor": "#506784",
            "linecolor": "#506784",
            "ticks": ""
           }
          },
          "scene": {
           "xaxis": {
            "backgroundcolor": "rgb(17,17,17)",
            "gridcolor": "#506784",
            "gridwidth": 2,
            "linecolor": "#506784",
            "showbackground": true,
            "ticks": "",
            "zerolinecolor": "#C8D4E3"
           },
           "yaxis": {
            "backgroundcolor": "rgb(17,17,17)",
            "gridcolor": "#506784",
            "gridwidth": 2,
            "linecolor": "#506784",
            "showbackground": true,
            "ticks": "",
            "zerolinecolor": "#C8D4E3"
           },
           "zaxis": {
            "backgroundcolor": "rgb(17,17,17)",
            "gridcolor": "#506784",
            "gridwidth": 2,
            "linecolor": "#506784",
            "showbackground": true,
            "ticks": "",
            "zerolinecolor": "#C8D4E3"
           }
          },
          "shapedefaults": {
           "line": {
            "color": "#f2f5fa"
           }
          },
          "sliderdefaults": {
           "bgcolor": "#C8D4E3",
           "bordercolor": "rgb(17,17,17)",
           "borderwidth": 1,
           "tickwidth": 0
          },
          "ternary": {
           "aaxis": {
            "gridcolor": "#506784",
            "linecolor": "#506784",
            "ticks": ""
           },
           "baxis": {
            "gridcolor": "#506784",
            "linecolor": "#506784",
            "ticks": ""
           },
           "bgcolor": "rgb(17,17,17)",
           "caxis": {
            "gridcolor": "#506784",
            "linecolor": "#506784",
            "ticks": ""
           }
          },
          "title": {
           "x": 0.05
          },
          "updatemenudefaults": {
           "bgcolor": "#506784",
           "borderwidth": 0
          },
          "xaxis": {
           "automargin": true,
           "gridcolor": "#283442",
           "linecolor": "#506784",
           "ticks": "",
           "title": {
            "standoff": 15
           },
           "zerolinecolor": "#283442",
           "zerolinewidth": 2
          },
          "yaxis": {
           "automargin": true,
           "gridcolor": "#283442",
           "linecolor": "#506784",
           "ticks": "",
           "title": {
            "standoff": 15
           },
           "zerolinecolor": "#283442",
           "zerolinewidth": 2
          }
         }
        },
        "title": {
         "text": "Train vs Test Loss"
        },
        "width": 800,
        "xaxis": {
         "gridcolor": "gray",
         "gridwidth": 1,
         "linecolor": "white",
         "linewidth": 2,
         "mirror": true,
         "showgrid": true,
         "tickmode": "array",
         "tickvals": [
          1,
          5,
          10,
          15,
          20,
          25,
          30
         ],
         "title": {
          "text": "Epoch"
         },
         "zeroline": true,
         "zerolinewidth": 2
        },
        "yaxis": {
         "gridcolor": "gray",
         "gridwidth": 1,
         "linecolor": "white",
         "linewidth": 2,
         "mirror": true,
         "showgrid": true,
         "title": {
          "text": "Loss"
         },
         "zeroline": true,
         "zerolinewidth": 2
        }
       }
      },
      "text/html": [
       "<div>            <script src=\"https://cdnjs.cloudflare.com/ajax/libs/mathjax/2.7.5/MathJax.js?config=TeX-AMS-MML_SVG\"></script><script type=\"text/javascript\">if (window.MathJax && window.MathJax.Hub && window.MathJax.Hub.Config) {window.MathJax.Hub.Config({SVG: {font: \"STIX-Web\"}});}</script>                <script type=\"text/javascript\">window.PlotlyConfig = {MathJaxConfig: 'local'};</script>\n",
       "        <script charset=\"utf-8\" src=\"https://cdn.plot.ly/plotly-3.0.1.min.js\"></script>                <div id=\"43373fc4-50e0-4f0a-a883-0719ec40f7a1\" class=\"plotly-graph-div\" style=\"height:420px; width:800px;\"></div>            <script type=\"text/javascript\">                window.PLOTLYENV=window.PLOTLYENV || {};                                if (document.getElementById(\"43373fc4-50e0-4f0a-a883-0719ec40f7a1\")) {                    Plotly.newPlot(                        \"43373fc4-50e0-4f0a-a883-0719ec40f7a1\",                        [{\"hoverinfo\":\"text\",\"hovertext\":[\"Epoch 1: 1.2981\",\"Epoch 2: 1.0161\",\"Epoch 3: 0.9263\",\"Epoch 4: 0.8709\",\"Epoch 5: 0.8340\",\"Epoch 6: 0.8095\",\"Epoch 7: 0.7874\",\"Epoch 8: 0.7695\",\"Epoch 9: 0.7542\",\"Epoch 10: 0.7414\",\"Epoch 11: 0.7296\",\"Epoch 12: 0.7193\",\"Epoch 13: 0.7106\",\"Epoch 14: 0.7029\",\"Epoch 15: 0.6969\",\"Epoch 16: 0.6903\",\"Epoch 17: 0.6849\",\"Epoch 18: 0.6807\",\"Epoch 19: 0.6773\",\"Epoch 20: 0.6728\",\"Epoch 21: 0.6697\",\"Epoch 22: 0.6668\",\"Epoch 23: 0.6634\",\"Epoch 24: 0.6613\",\"Epoch 25: 0.6587\",\"Epoch 26: 0.6571\",\"Epoch 27: 0.6546\",\"Epoch 28: 0.6530\",\"Epoch 29: 0.6516\",\"Epoch 30: 0.6502\"],\"line\":{\"width\":3},\"mode\":\"lines+markers\",\"name\":\"Train Loss\",\"x\":[1,2,3,4,5,6,7,8,9,10,11,12,13,14,15,16,17,18,19,20,21,22,23,24,25,26,27,28,29,30],\"y\":[1.2981051545344113,1.0160568751752195,0.926320413890162,0.8709494662223903,0.8340130193176369,0.8095009796125172,0.7873627392604046,0.7694796439541286,0.7542215859689424,0.7414082596527539,0.729626151811112,0.7193278936212677,0.7106461768009725,0.7028531129964998,0.6969228403108042,0.6902561152096871,0.6849127188214195,0.6807106995184296,0.6772547068426367,0.6727801689381024,0.6697183346062336,0.6667712991993533,0.6634037043576178,0.6613256172365343,0.6586811321823912,0.6570909209246018,0.6546301502696995,0.6530341437615436,0.6516446436948976,0.6502008943798412],\"type\":\"scatter\"},{\"hoverinfo\":\"text\",\"hovertext\":[\"Epoch 1: 1.1005\",\"Epoch 2: 0.9639\",\"Epoch 3: 0.9009\",\"Epoch 4: 0.8562\",\"Epoch 5: 0.8289\",\"Epoch 6: 0.8034\",\"Epoch 7: 0.7858\",\"Epoch 8: 0.7715\",\"Epoch 9: 0.7559\",\"Epoch 10: 0.7456\",\"Epoch 11: 0.7345\",\"Epoch 12: 0.7268\",\"Epoch 13: 0.7153\",\"Epoch 14: 0.7120\",\"Epoch 15: 0.7033\",\"Epoch 16: 0.6996\",\"Epoch 17: 0.6996\",\"Epoch 18: 0.6953\",\"Epoch 19: 0.6903\",\"Epoch 20: 0.6910\",\"Epoch 21: 0.6851\",\"Epoch 22: 0.6834\",\"Epoch 23: 0.6802\",\"Epoch 24: 0.6791\",\"Epoch 25: 0.6774\",\"Epoch 26: 0.6768\",\"Epoch 27: 0.6751\",\"Epoch 28: 0.6746\",\"Epoch 29: 0.6729\",\"Epoch 30: 0.6739\"],\"line\":{\"width\":3},\"mode\":\"lines+markers\",\"name\":\"Test Loss\",\"x\":[1,2,3,4,5,6,7,8,9,10,11,12,13,14,15,16,17,18,19,20,21,22,23,24,25,26,27,28,29,30],\"y\":[1.1005288116500456,0.9638774002723215,0.9009296790828873,0.8561565476412188,0.8289085208206565,0.8033710072876075,0.7857911794843983,0.771491490784446,0.7559120186953836,0.7456301504104286,0.7345318134154142,0.7268317503522533,0.7153364070211939,0.7119648508833105,0.703321003509186,0.6996467665088779,0.6995917876688945,0.6953278652521035,0.6903103185477534,0.6910386517289423,0.6850717039358103,0.6833998392017663,0.6802283861808552,0.6790731654419551,0.6774374642846291,0.676823480105024,0.6750501015708269,0.6746211329649808,0.6729012579243632,0.6738960623932344],\"type\":\"scatter\"}],                        {\"height\":420,\"legend\":{\"bgcolor\":\"rgba(0,0,0,0.3)\",\"bordercolor\":\"white\",\"borderwidth\":1,\"x\":0.98,\"xanchor\":\"right\",\"y\":0.98,\"yanchor\":\"top\"},\"margin\":{\"b\":40,\"l\":40,\"r\":30,\"t\":40},\"paper_bgcolor\":\"rgba(30, 30, 30, 1)\",\"plot_bgcolor\":\"rgba(40, 40, 40, 1)\",\"template\":{\"data\":{\"barpolar\":[{\"marker\":{\"line\":{\"color\":\"rgb(17,17,17)\",\"width\":0.5},\"pattern\":{\"fillmode\":\"overlay\",\"size\":10,\"solidity\":0.2}},\"type\":\"barpolar\"}],\"bar\":[{\"error_x\":{\"color\":\"#f2f5fa\"},\"error_y\":{\"color\":\"#f2f5fa\"},\"marker\":{\"line\":{\"color\":\"rgb(17,17,17)\",\"width\":0.5},\"pattern\":{\"fillmode\":\"overlay\",\"size\":10,\"solidity\":0.2}},\"type\":\"bar\"}],\"carpet\":[{\"aaxis\":{\"endlinecolor\":\"#A2B1C6\",\"gridcolor\":\"#506784\",\"linecolor\":\"#506784\",\"minorgridcolor\":\"#506784\",\"startlinecolor\":\"#A2B1C6\"},\"baxis\":{\"endlinecolor\":\"#A2B1C6\",\"gridcolor\":\"#506784\",\"linecolor\":\"#506784\",\"minorgridcolor\":\"#506784\",\"startlinecolor\":\"#A2B1C6\"},\"type\":\"carpet\"}],\"choropleth\":[{\"colorbar\":{\"outlinewidth\":0,\"ticks\":\"\"},\"type\":\"choropleth\"}],\"contourcarpet\":[{\"colorbar\":{\"outlinewidth\":0,\"ticks\":\"\"},\"type\":\"contourcarpet\"}],\"contour\":[{\"colorbar\":{\"outlinewidth\":0,\"ticks\":\"\"},\"colorscale\":[[0.0,\"#0d0887\"],[0.1111111111111111,\"#46039f\"],[0.2222222222222222,\"#7201a8\"],[0.3333333333333333,\"#9c179e\"],[0.4444444444444444,\"#bd3786\"],[0.5555555555555556,\"#d8576b\"],[0.6666666666666666,\"#ed7953\"],[0.7777777777777778,\"#fb9f3a\"],[0.8888888888888888,\"#fdca26\"],[1.0,\"#f0f921\"]],\"type\":\"contour\"}],\"heatmap\":[{\"colorbar\":{\"outlinewidth\":0,\"ticks\":\"\"},\"colorscale\":[[0.0,\"#0d0887\"],[0.1111111111111111,\"#46039f\"],[0.2222222222222222,\"#7201a8\"],[0.3333333333333333,\"#9c179e\"],[0.4444444444444444,\"#bd3786\"],[0.5555555555555556,\"#d8576b\"],[0.6666666666666666,\"#ed7953\"],[0.7777777777777778,\"#fb9f3a\"],[0.8888888888888888,\"#fdca26\"],[1.0,\"#f0f921\"]],\"type\":\"heatmap\"}],\"histogram2dcontour\":[{\"colorbar\":{\"outlinewidth\":0,\"ticks\":\"\"},\"colorscale\":[[0.0,\"#0d0887\"],[0.1111111111111111,\"#46039f\"],[0.2222222222222222,\"#7201a8\"],[0.3333333333333333,\"#9c179e\"],[0.4444444444444444,\"#bd3786\"],[0.5555555555555556,\"#d8576b\"],[0.6666666666666666,\"#ed7953\"],[0.7777777777777778,\"#fb9f3a\"],[0.8888888888888888,\"#fdca26\"],[1.0,\"#f0f921\"]],\"type\":\"histogram2dcontour\"}],\"histogram2d\":[{\"colorbar\":{\"outlinewidth\":0,\"ticks\":\"\"},\"colorscale\":[[0.0,\"#0d0887\"],[0.1111111111111111,\"#46039f\"],[0.2222222222222222,\"#7201a8\"],[0.3333333333333333,\"#9c179e\"],[0.4444444444444444,\"#bd3786\"],[0.5555555555555556,\"#d8576b\"],[0.6666666666666666,\"#ed7953\"],[0.7777777777777778,\"#fb9f3a\"],[0.8888888888888888,\"#fdca26\"],[1.0,\"#f0f921\"]],\"type\":\"histogram2d\"}],\"histogram\":[{\"marker\":{\"pattern\":{\"fillmode\":\"overlay\",\"size\":10,\"solidity\":0.2}},\"type\":\"histogram\"}],\"mesh3d\":[{\"colorbar\":{\"outlinewidth\":0,\"ticks\":\"\"},\"type\":\"mesh3d\"}],\"parcoords\":[{\"line\":{\"colorbar\":{\"outlinewidth\":0,\"ticks\":\"\"}},\"type\":\"parcoords\"}],\"pie\":[{\"automargin\":true,\"type\":\"pie\"}],\"scatter3d\":[{\"line\":{\"colorbar\":{\"outlinewidth\":0,\"ticks\":\"\"}},\"marker\":{\"colorbar\":{\"outlinewidth\":0,\"ticks\":\"\"}},\"type\":\"scatter3d\"}],\"scattercarpet\":[{\"marker\":{\"colorbar\":{\"outlinewidth\":0,\"ticks\":\"\"}},\"type\":\"scattercarpet\"}],\"scattergeo\":[{\"marker\":{\"colorbar\":{\"outlinewidth\":0,\"ticks\":\"\"}},\"type\":\"scattergeo\"}],\"scattergl\":[{\"marker\":{\"line\":{\"color\":\"#283442\"}},\"type\":\"scattergl\"}],\"scattermapbox\":[{\"marker\":{\"colorbar\":{\"outlinewidth\":0,\"ticks\":\"\"}},\"type\":\"scattermapbox\"}],\"scattermap\":[{\"marker\":{\"colorbar\":{\"outlinewidth\":0,\"ticks\":\"\"}},\"type\":\"scattermap\"}],\"scatterpolargl\":[{\"marker\":{\"colorbar\":{\"outlinewidth\":0,\"ticks\":\"\"}},\"type\":\"scatterpolargl\"}],\"scatterpolar\":[{\"marker\":{\"colorbar\":{\"outlinewidth\":0,\"ticks\":\"\"}},\"type\":\"scatterpolar\"}],\"scatter\":[{\"marker\":{\"line\":{\"color\":\"#283442\"}},\"type\":\"scatter\"}],\"scatterternary\":[{\"marker\":{\"colorbar\":{\"outlinewidth\":0,\"ticks\":\"\"}},\"type\":\"scatterternary\"}],\"surface\":[{\"colorbar\":{\"outlinewidth\":0,\"ticks\":\"\"},\"colorscale\":[[0.0,\"#0d0887\"],[0.1111111111111111,\"#46039f\"],[0.2222222222222222,\"#7201a8\"],[0.3333333333333333,\"#9c179e\"],[0.4444444444444444,\"#bd3786\"],[0.5555555555555556,\"#d8576b\"],[0.6666666666666666,\"#ed7953\"],[0.7777777777777778,\"#fb9f3a\"],[0.8888888888888888,\"#fdca26\"],[1.0,\"#f0f921\"]],\"type\":\"surface\"}],\"table\":[{\"cells\":{\"fill\":{\"color\":\"#506784\"},\"line\":{\"color\":\"rgb(17,17,17)\"}},\"header\":{\"fill\":{\"color\":\"#2a3f5f\"},\"line\":{\"color\":\"rgb(17,17,17)\"}},\"type\":\"table\"}]},\"layout\":{\"annotationdefaults\":{\"arrowcolor\":\"#f2f5fa\",\"arrowhead\":0,\"arrowwidth\":1},\"autotypenumbers\":\"strict\",\"coloraxis\":{\"colorbar\":{\"outlinewidth\":0,\"ticks\":\"\"}},\"colorscale\":{\"diverging\":[[0,\"#8e0152\"],[0.1,\"#c51b7d\"],[0.2,\"#de77ae\"],[0.3,\"#f1b6da\"],[0.4,\"#fde0ef\"],[0.5,\"#f7f7f7\"],[0.6,\"#e6f5d0\"],[0.7,\"#b8e186\"],[0.8,\"#7fbc41\"],[0.9,\"#4d9221\"],[1,\"#276419\"]],\"sequential\":[[0.0,\"#0d0887\"],[0.1111111111111111,\"#46039f\"],[0.2222222222222222,\"#7201a8\"],[0.3333333333333333,\"#9c179e\"],[0.4444444444444444,\"#bd3786\"],[0.5555555555555556,\"#d8576b\"],[0.6666666666666666,\"#ed7953\"],[0.7777777777777778,\"#fb9f3a\"],[0.8888888888888888,\"#fdca26\"],[1.0,\"#f0f921\"]],\"sequentialminus\":[[0.0,\"#0d0887\"],[0.1111111111111111,\"#46039f\"],[0.2222222222222222,\"#7201a8\"],[0.3333333333333333,\"#9c179e\"],[0.4444444444444444,\"#bd3786\"],[0.5555555555555556,\"#d8576b\"],[0.6666666666666666,\"#ed7953\"],[0.7777777777777778,\"#fb9f3a\"],[0.8888888888888888,\"#fdca26\"],[1.0,\"#f0f921\"]]},\"colorway\":[\"#636efa\",\"#EF553B\",\"#00cc96\",\"#ab63fa\",\"#FFA15A\",\"#19d3f3\",\"#FF6692\",\"#B6E880\",\"#FF97FF\",\"#FECB52\"],\"font\":{\"color\":\"#f2f5fa\"},\"geo\":{\"bgcolor\":\"rgb(17,17,17)\",\"lakecolor\":\"rgb(17,17,17)\",\"landcolor\":\"rgb(17,17,17)\",\"showlakes\":true,\"showland\":true,\"subunitcolor\":\"#506784\"},\"hoverlabel\":{\"align\":\"left\"},\"hovermode\":\"closest\",\"mapbox\":{\"style\":\"dark\"},\"paper_bgcolor\":\"rgb(17,17,17)\",\"plot_bgcolor\":\"rgb(17,17,17)\",\"polar\":{\"angularaxis\":{\"gridcolor\":\"#506784\",\"linecolor\":\"#506784\",\"ticks\":\"\"},\"bgcolor\":\"rgb(17,17,17)\",\"radialaxis\":{\"gridcolor\":\"#506784\",\"linecolor\":\"#506784\",\"ticks\":\"\"}},\"scene\":{\"xaxis\":{\"backgroundcolor\":\"rgb(17,17,17)\",\"gridcolor\":\"#506784\",\"gridwidth\":2,\"linecolor\":\"#506784\",\"showbackground\":true,\"ticks\":\"\",\"zerolinecolor\":\"#C8D4E3\"},\"yaxis\":{\"backgroundcolor\":\"rgb(17,17,17)\",\"gridcolor\":\"#506784\",\"gridwidth\":2,\"linecolor\":\"#506784\",\"showbackground\":true,\"ticks\":\"\",\"zerolinecolor\":\"#C8D4E3\"},\"zaxis\":{\"backgroundcolor\":\"rgb(17,17,17)\",\"gridcolor\":\"#506784\",\"gridwidth\":2,\"linecolor\":\"#506784\",\"showbackground\":true,\"ticks\":\"\",\"zerolinecolor\":\"#C8D4E3\"}},\"shapedefaults\":{\"line\":{\"color\":\"#f2f5fa\"}},\"sliderdefaults\":{\"bgcolor\":\"#C8D4E3\",\"bordercolor\":\"rgb(17,17,17)\",\"borderwidth\":1,\"tickwidth\":0},\"ternary\":{\"aaxis\":{\"gridcolor\":\"#506784\",\"linecolor\":\"#506784\",\"ticks\":\"\"},\"baxis\":{\"gridcolor\":\"#506784\",\"linecolor\":\"#506784\",\"ticks\":\"\"},\"bgcolor\":\"rgb(17,17,17)\",\"caxis\":{\"gridcolor\":\"#506784\",\"linecolor\":\"#506784\",\"ticks\":\"\"}},\"title\":{\"x\":0.05},\"updatemenudefaults\":{\"bgcolor\":\"#506784\",\"borderwidth\":0},\"xaxis\":{\"automargin\":true,\"gridcolor\":\"#283442\",\"linecolor\":\"#506784\",\"ticks\":\"\",\"title\":{\"standoff\":15},\"zerolinecolor\":\"#283442\",\"zerolinewidth\":2},\"yaxis\":{\"automargin\":true,\"gridcolor\":\"#283442\",\"linecolor\":\"#506784\",\"ticks\":\"\",\"title\":{\"standoff\":15},\"zerolinecolor\":\"#283442\",\"zerolinewidth\":2}}},\"title\":{\"text\":\"Train vs Test Loss\"},\"width\":800,\"xaxis\":{\"gridcolor\":\"gray\",\"gridwidth\":1,\"linecolor\":\"white\",\"linewidth\":2,\"mirror\":true,\"showgrid\":true,\"tickmode\":\"array\",\"tickvals\":[1,5,10,15,20,25,30],\"title\":{\"text\":\"Epoch\"},\"zeroline\":true,\"zerolinewidth\":2},\"yaxis\":{\"gridcolor\":\"gray\",\"gridwidth\":1,\"linecolor\":\"white\",\"linewidth\":2,\"mirror\":true,\"showgrid\":true,\"title\":{\"text\":\"Loss\"},\"zeroline\":true,\"zerolinewidth\":2}},                        {\"responsive\": true}                    ).then(function(){\n",
       "                            \n",
       "var gd = document.getElementById('43373fc4-50e0-4f0a-a883-0719ec40f7a1');\n",
       "var x = new MutationObserver(function (mutations, observer) {{\n",
       "        var display = window.getComputedStyle(gd).display;\n",
       "        if (!display || display === 'none') {{\n",
       "            console.log([gd, 'removed!']);\n",
       "            Plotly.purge(gd);\n",
       "            observer.disconnect();\n",
       "        }}\n",
       "}});\n",
       "\n",
       "// Listen for the removal of the full notebook cells\n",
       "var notebookContainer = gd.closest('#notebook-container');\n",
       "if (notebookContainer) {{\n",
       "    x.observe(notebookContainer, {childList: true});\n",
       "}}\n",
       "\n",
       "// Listen for the clearing of the current output cell\n",
       "var outputEl = gd.closest('.output');\n",
       "if (outputEl) {{\n",
       "    x.observe(outputEl, {childList: true});\n",
       "}}\n",
       "\n",
       "                        })                };            </script>        </div>"
      ]
     },
     "metadata": {},
     "output_type": "display_data"
    },
    {
     "data": {
      "application/vnd.plotly.v1+json": {
       "config": {
        "linkText": "Export to plot.ly",
        "plotlyServerURL": "https://plot.ly",
        "showLink": false
       },
       "data": [
        {
         "hoverinfo": "text",
         "hovertext": [
          "Epoch 1: 65.49%",
          "Epoch 2: 65.28%",
          "Epoch 3: 65.76%",
          "Epoch 4: 66.37%",
          "Epoch 5: 66.72%",
          "Epoch 6: 67.33%",
          "Epoch 7: 67.92%",
          "Epoch 8: 68.48%",
          "Epoch 9: 69.31%",
          "Epoch 10: 69.50%",
          "Epoch 11: 69.39%",
          "Epoch 12: 70.01%",
          "Epoch 13: 70.97%",
          "Epoch 14: 70.22%",
          "Epoch 15: 70.89%",
          "Epoch 16: 71.10%",
          "Epoch 17: 71.10%",
          "Epoch 18: 71.34%",
          "Epoch 19: 71.08%",
          "Epoch 20: 70.28%",
          "Epoch 21: 71.34%",
          "Epoch 22: 71.61%",
          "Epoch 23: 71.24%",
          "Epoch 24: 71.56%",
          "Epoch 25: 71.45%",
          "Epoch 26: 71.29%",
          "Epoch 27: 71.67%",
          "Epoch 28: 71.69%",
          "Epoch 29: 71.50%",
          "Epoch 30: 71.05%"
         ],
         "line": {
          "width": 3
         },
         "mode": "lines+markers",
         "name": "Test Accuracy",
         "type": "scatter",
         "x": [
          1,
          2,
          3,
          4,
          5,
          6,
          7,
          8,
          9,
          10,
          11,
          12,
          13,
          14,
          15,
          16,
          17,
          18,
          19,
          20,
          21,
          22,
          23,
          24,
          25,
          26,
          27,
          28,
          29,
          30
         ],
         "y": [
          65.49051055867415,
          65.2766639935846,
          65.75781876503609,
          66.37262763966854,
          66.72012830793905,
          67.33493718257151,
          67.92301523656776,
          68.48436246992783,
          69.31301790964983,
          69.50013365410318,
          69.39321037155841,
          70.00801924619086,
          70.97032878909383,
          70.22186581128041,
          70.89013632718525,
          71.10398289227479,
          71.10398289227479,
          71.34456027800053,
          71.0772520716386,
          70.27532745255279,
          71.34456027800053,
          71.61186848436247,
          71.23763699545576,
          71.55840684309008,
          71.45148356054531,
          71.29109863672815,
          71.66533012563485,
          71.69206094627106,
          71.50494520181769,
          71.05052125100241
         ]
        }
       ],
       "layout": {
        "height": 420,
        "legend": {
         "bgcolor": "rgba(0,0,0,0.3)",
         "bordercolor": "white",
         "borderwidth": 1,
         "x": 0.98,
         "xanchor": "right",
         "y": 0.98,
         "yanchor": "top"
        },
        "margin": {
         "b": 40,
         "l": 40,
         "r": 30,
         "t": 40
        },
        "paper_bgcolor": "rgba(30, 30, 30, 1)",
        "plot_bgcolor": "rgba(40, 40, 40, 1)",
        "shapes": [
         {
          "line": {
           "color": "orange",
           "dash": "dash",
           "width": 2
          },
          "type": "line",
          "x0": 1,
          "x1": 30,
          "y0": 70,
          "y1": 70
         }
        ],
        "template": {
         "data": {
          "bar": [
           {
            "error_x": {
             "color": "#f2f5fa"
            },
            "error_y": {
             "color": "#f2f5fa"
            },
            "marker": {
             "line": {
              "color": "rgb(17,17,17)",
              "width": 0.5
             },
             "pattern": {
              "fillmode": "overlay",
              "size": 10,
              "solidity": 0.2
             }
            },
            "type": "bar"
           }
          ],
          "barpolar": [
           {
            "marker": {
             "line": {
              "color": "rgb(17,17,17)",
              "width": 0.5
             },
             "pattern": {
              "fillmode": "overlay",
              "size": 10,
              "solidity": 0.2
             }
            },
            "type": "barpolar"
           }
          ],
          "carpet": [
           {
            "aaxis": {
             "endlinecolor": "#A2B1C6",
             "gridcolor": "#506784",
             "linecolor": "#506784",
             "minorgridcolor": "#506784",
             "startlinecolor": "#A2B1C6"
            },
            "baxis": {
             "endlinecolor": "#A2B1C6",
             "gridcolor": "#506784",
             "linecolor": "#506784",
             "minorgridcolor": "#506784",
             "startlinecolor": "#A2B1C6"
            },
            "type": "carpet"
           }
          ],
          "choropleth": [
           {
            "colorbar": {
             "outlinewidth": 0,
             "ticks": ""
            },
            "type": "choropleth"
           }
          ],
          "contour": [
           {
            "colorbar": {
             "outlinewidth": 0,
             "ticks": ""
            },
            "colorscale": [
             [
              0,
              "#0d0887"
             ],
             [
              0.1111111111111111,
              "#46039f"
             ],
             [
              0.2222222222222222,
              "#7201a8"
             ],
             [
              0.3333333333333333,
              "#9c179e"
             ],
             [
              0.4444444444444444,
              "#bd3786"
             ],
             [
              0.5555555555555556,
              "#d8576b"
             ],
             [
              0.6666666666666666,
              "#ed7953"
             ],
             [
              0.7777777777777778,
              "#fb9f3a"
             ],
             [
              0.8888888888888888,
              "#fdca26"
             ],
             [
              1,
              "#f0f921"
             ]
            ],
            "type": "contour"
           }
          ],
          "contourcarpet": [
           {
            "colorbar": {
             "outlinewidth": 0,
             "ticks": ""
            },
            "type": "contourcarpet"
           }
          ],
          "heatmap": [
           {
            "colorbar": {
             "outlinewidth": 0,
             "ticks": ""
            },
            "colorscale": [
             [
              0,
              "#0d0887"
             ],
             [
              0.1111111111111111,
              "#46039f"
             ],
             [
              0.2222222222222222,
              "#7201a8"
             ],
             [
              0.3333333333333333,
              "#9c179e"
             ],
             [
              0.4444444444444444,
              "#bd3786"
             ],
             [
              0.5555555555555556,
              "#d8576b"
             ],
             [
              0.6666666666666666,
              "#ed7953"
             ],
             [
              0.7777777777777778,
              "#fb9f3a"
             ],
             [
              0.8888888888888888,
              "#fdca26"
             ],
             [
              1,
              "#f0f921"
             ]
            ],
            "type": "heatmap"
           }
          ],
          "histogram": [
           {
            "marker": {
             "pattern": {
              "fillmode": "overlay",
              "size": 10,
              "solidity": 0.2
             }
            },
            "type": "histogram"
           }
          ],
          "histogram2d": [
           {
            "colorbar": {
             "outlinewidth": 0,
             "ticks": ""
            },
            "colorscale": [
             [
              0,
              "#0d0887"
             ],
             [
              0.1111111111111111,
              "#46039f"
             ],
             [
              0.2222222222222222,
              "#7201a8"
             ],
             [
              0.3333333333333333,
              "#9c179e"
             ],
             [
              0.4444444444444444,
              "#bd3786"
             ],
             [
              0.5555555555555556,
              "#d8576b"
             ],
             [
              0.6666666666666666,
              "#ed7953"
             ],
             [
              0.7777777777777778,
              "#fb9f3a"
             ],
             [
              0.8888888888888888,
              "#fdca26"
             ],
             [
              1,
              "#f0f921"
             ]
            ],
            "type": "histogram2d"
           }
          ],
          "histogram2dcontour": [
           {
            "colorbar": {
             "outlinewidth": 0,
             "ticks": ""
            },
            "colorscale": [
             [
              0,
              "#0d0887"
             ],
             [
              0.1111111111111111,
              "#46039f"
             ],
             [
              0.2222222222222222,
              "#7201a8"
             ],
             [
              0.3333333333333333,
              "#9c179e"
             ],
             [
              0.4444444444444444,
              "#bd3786"
             ],
             [
              0.5555555555555556,
              "#d8576b"
             ],
             [
              0.6666666666666666,
              "#ed7953"
             ],
             [
              0.7777777777777778,
              "#fb9f3a"
             ],
             [
              0.8888888888888888,
              "#fdca26"
             ],
             [
              1,
              "#f0f921"
             ]
            ],
            "type": "histogram2dcontour"
           }
          ],
          "mesh3d": [
           {
            "colorbar": {
             "outlinewidth": 0,
             "ticks": ""
            },
            "type": "mesh3d"
           }
          ],
          "parcoords": [
           {
            "line": {
             "colorbar": {
              "outlinewidth": 0,
              "ticks": ""
             }
            },
            "type": "parcoords"
           }
          ],
          "pie": [
           {
            "automargin": true,
            "type": "pie"
           }
          ],
          "scatter": [
           {
            "marker": {
             "line": {
              "color": "#283442"
             }
            },
            "type": "scatter"
           }
          ],
          "scatter3d": [
           {
            "line": {
             "colorbar": {
              "outlinewidth": 0,
              "ticks": ""
             }
            },
            "marker": {
             "colorbar": {
              "outlinewidth": 0,
              "ticks": ""
             }
            },
            "type": "scatter3d"
           }
          ],
          "scattercarpet": [
           {
            "marker": {
             "colorbar": {
              "outlinewidth": 0,
              "ticks": ""
             }
            },
            "type": "scattercarpet"
           }
          ],
          "scattergeo": [
           {
            "marker": {
             "colorbar": {
              "outlinewidth": 0,
              "ticks": ""
             }
            },
            "type": "scattergeo"
           }
          ],
          "scattergl": [
           {
            "marker": {
             "line": {
              "color": "#283442"
             }
            },
            "type": "scattergl"
           }
          ],
          "scattermap": [
           {
            "marker": {
             "colorbar": {
              "outlinewidth": 0,
              "ticks": ""
             }
            },
            "type": "scattermap"
           }
          ],
          "scattermapbox": [
           {
            "marker": {
             "colorbar": {
              "outlinewidth": 0,
              "ticks": ""
             }
            },
            "type": "scattermapbox"
           }
          ],
          "scatterpolar": [
           {
            "marker": {
             "colorbar": {
              "outlinewidth": 0,
              "ticks": ""
             }
            },
            "type": "scatterpolar"
           }
          ],
          "scatterpolargl": [
           {
            "marker": {
             "colorbar": {
              "outlinewidth": 0,
              "ticks": ""
             }
            },
            "type": "scatterpolargl"
           }
          ],
          "scatterternary": [
           {
            "marker": {
             "colorbar": {
              "outlinewidth": 0,
              "ticks": ""
             }
            },
            "type": "scatterternary"
           }
          ],
          "surface": [
           {
            "colorbar": {
             "outlinewidth": 0,
             "ticks": ""
            },
            "colorscale": [
             [
              0,
              "#0d0887"
             ],
             [
              0.1111111111111111,
              "#46039f"
             ],
             [
              0.2222222222222222,
              "#7201a8"
             ],
             [
              0.3333333333333333,
              "#9c179e"
             ],
             [
              0.4444444444444444,
              "#bd3786"
             ],
             [
              0.5555555555555556,
              "#d8576b"
             ],
             [
              0.6666666666666666,
              "#ed7953"
             ],
             [
              0.7777777777777778,
              "#fb9f3a"
             ],
             [
              0.8888888888888888,
              "#fdca26"
             ],
             [
              1,
              "#f0f921"
             ]
            ],
            "type": "surface"
           }
          ],
          "table": [
           {
            "cells": {
             "fill": {
              "color": "#506784"
             },
             "line": {
              "color": "rgb(17,17,17)"
             }
            },
            "header": {
             "fill": {
              "color": "#2a3f5f"
             },
             "line": {
              "color": "rgb(17,17,17)"
             }
            },
            "type": "table"
           }
          ]
         },
         "layout": {
          "annotationdefaults": {
           "arrowcolor": "#f2f5fa",
           "arrowhead": 0,
           "arrowwidth": 1
          },
          "autotypenumbers": "strict",
          "coloraxis": {
           "colorbar": {
            "outlinewidth": 0,
            "ticks": ""
           }
          },
          "colorscale": {
           "diverging": [
            [
             0,
             "#8e0152"
            ],
            [
             0.1,
             "#c51b7d"
            ],
            [
             0.2,
             "#de77ae"
            ],
            [
             0.3,
             "#f1b6da"
            ],
            [
             0.4,
             "#fde0ef"
            ],
            [
             0.5,
             "#f7f7f7"
            ],
            [
             0.6,
             "#e6f5d0"
            ],
            [
             0.7,
             "#b8e186"
            ],
            [
             0.8,
             "#7fbc41"
            ],
            [
             0.9,
             "#4d9221"
            ],
            [
             1,
             "#276419"
            ]
           ],
           "sequential": [
            [
             0,
             "#0d0887"
            ],
            [
             0.1111111111111111,
             "#46039f"
            ],
            [
             0.2222222222222222,
             "#7201a8"
            ],
            [
             0.3333333333333333,
             "#9c179e"
            ],
            [
             0.4444444444444444,
             "#bd3786"
            ],
            [
             0.5555555555555556,
             "#d8576b"
            ],
            [
             0.6666666666666666,
             "#ed7953"
            ],
            [
             0.7777777777777778,
             "#fb9f3a"
            ],
            [
             0.8888888888888888,
             "#fdca26"
            ],
            [
             1,
             "#f0f921"
            ]
           ],
           "sequentialminus": [
            [
             0,
             "#0d0887"
            ],
            [
             0.1111111111111111,
             "#46039f"
            ],
            [
             0.2222222222222222,
             "#7201a8"
            ],
            [
             0.3333333333333333,
             "#9c179e"
            ],
            [
             0.4444444444444444,
             "#bd3786"
            ],
            [
             0.5555555555555556,
             "#d8576b"
            ],
            [
             0.6666666666666666,
             "#ed7953"
            ],
            [
             0.7777777777777778,
             "#fb9f3a"
            ],
            [
             0.8888888888888888,
             "#fdca26"
            ],
            [
             1,
             "#f0f921"
            ]
           ]
          },
          "colorway": [
           "#636efa",
           "#EF553B",
           "#00cc96",
           "#ab63fa",
           "#FFA15A",
           "#19d3f3",
           "#FF6692",
           "#B6E880",
           "#FF97FF",
           "#FECB52"
          ],
          "font": {
           "color": "#f2f5fa"
          },
          "geo": {
           "bgcolor": "rgb(17,17,17)",
           "lakecolor": "rgb(17,17,17)",
           "landcolor": "rgb(17,17,17)",
           "showlakes": true,
           "showland": true,
           "subunitcolor": "#506784"
          },
          "hoverlabel": {
           "align": "left"
          },
          "hovermode": "closest",
          "mapbox": {
           "style": "dark"
          },
          "paper_bgcolor": "rgb(17,17,17)",
          "plot_bgcolor": "rgb(17,17,17)",
          "polar": {
           "angularaxis": {
            "gridcolor": "#506784",
            "linecolor": "#506784",
            "ticks": ""
           },
           "bgcolor": "rgb(17,17,17)",
           "radialaxis": {
            "gridcolor": "#506784",
            "linecolor": "#506784",
            "ticks": ""
           }
          },
          "scene": {
           "xaxis": {
            "backgroundcolor": "rgb(17,17,17)",
            "gridcolor": "#506784",
            "gridwidth": 2,
            "linecolor": "#506784",
            "showbackground": true,
            "ticks": "",
            "zerolinecolor": "#C8D4E3"
           },
           "yaxis": {
            "backgroundcolor": "rgb(17,17,17)",
            "gridcolor": "#506784",
            "gridwidth": 2,
            "linecolor": "#506784",
            "showbackground": true,
            "ticks": "",
            "zerolinecolor": "#C8D4E3"
           },
           "zaxis": {
            "backgroundcolor": "rgb(17,17,17)",
            "gridcolor": "#506784",
            "gridwidth": 2,
            "linecolor": "#506784",
            "showbackground": true,
            "ticks": "",
            "zerolinecolor": "#C8D4E3"
           }
          },
          "shapedefaults": {
           "line": {
            "color": "#f2f5fa"
           }
          },
          "sliderdefaults": {
           "bgcolor": "#C8D4E3",
           "bordercolor": "rgb(17,17,17)",
           "borderwidth": 1,
           "tickwidth": 0
          },
          "ternary": {
           "aaxis": {
            "gridcolor": "#506784",
            "linecolor": "#506784",
            "ticks": ""
           },
           "baxis": {
            "gridcolor": "#506784",
            "linecolor": "#506784",
            "ticks": ""
           },
           "bgcolor": "rgb(17,17,17)",
           "caxis": {
            "gridcolor": "#506784",
            "linecolor": "#506784",
            "ticks": ""
           }
          },
          "title": {
           "x": 0.05
          },
          "updatemenudefaults": {
           "bgcolor": "#506784",
           "borderwidth": 0
          },
          "xaxis": {
           "automargin": true,
           "gridcolor": "#283442",
           "linecolor": "#506784",
           "ticks": "",
           "title": {
            "standoff": 15
           },
           "zerolinecolor": "#283442",
           "zerolinewidth": 2
          },
          "yaxis": {
           "automargin": true,
           "gridcolor": "#283442",
           "linecolor": "#506784",
           "ticks": "",
           "title": {
            "standoff": 15
           },
           "zerolinecolor": "#283442",
           "zerolinewidth": 2
          }
         }
        },
        "title": {
         "text": "Test Accuracy Over Time"
        },
        "width": 800,
        "xaxis": {
         "gridcolor": "gray",
         "gridwidth": 1,
         "linecolor": "white",
         "linewidth": 2,
         "mirror": true,
         "showgrid": true,
         "tickmode": "array",
         "tickvals": [
          1,
          5,
          10,
          15,
          20,
          25,
          30
         ],
         "title": {
          "text": "Epoch"
         },
         "zeroline": true,
         "zerolinewidth": 2
        },
        "yaxis": {
         "gridcolor": "gray",
         "gridwidth": 1,
         "linecolor": "white",
         "linewidth": 2,
         "mirror": true,
         "showgrid": true,
         "title": {
          "text": "Accuracy (%)"
         },
         "zeroline": true,
         "zerolinewidth": 2
        }
       }
      },
      "text/html": [
       "<div>            <script src=\"https://cdnjs.cloudflare.com/ajax/libs/mathjax/2.7.5/MathJax.js?config=TeX-AMS-MML_SVG\"></script><script type=\"text/javascript\">if (window.MathJax && window.MathJax.Hub && window.MathJax.Hub.Config) {window.MathJax.Hub.Config({SVG: {font: \"STIX-Web\"}});}</script>                <script type=\"text/javascript\">window.PlotlyConfig = {MathJaxConfig: 'local'};</script>\n",
       "        <script charset=\"utf-8\" src=\"https://cdn.plot.ly/plotly-3.0.1.min.js\"></script>                <div id=\"5375684c-bcbe-4339-b4b9-fa3f76a9f5a5\" class=\"plotly-graph-div\" style=\"height:420px; width:800px;\"></div>            <script type=\"text/javascript\">                window.PLOTLYENV=window.PLOTLYENV || {};                                if (document.getElementById(\"5375684c-bcbe-4339-b4b9-fa3f76a9f5a5\")) {                    Plotly.newPlot(                        \"5375684c-bcbe-4339-b4b9-fa3f76a9f5a5\",                        [{\"hoverinfo\":\"text\",\"hovertext\":[\"Epoch 1: 65.49%\",\"Epoch 2: 65.28%\",\"Epoch 3: 65.76%\",\"Epoch 4: 66.37%\",\"Epoch 5: 66.72%\",\"Epoch 6: 67.33%\",\"Epoch 7: 67.92%\",\"Epoch 8: 68.48%\",\"Epoch 9: 69.31%\",\"Epoch 10: 69.50%\",\"Epoch 11: 69.39%\",\"Epoch 12: 70.01%\",\"Epoch 13: 70.97%\",\"Epoch 14: 70.22%\",\"Epoch 15: 70.89%\",\"Epoch 16: 71.10%\",\"Epoch 17: 71.10%\",\"Epoch 18: 71.34%\",\"Epoch 19: 71.08%\",\"Epoch 20: 70.28%\",\"Epoch 21: 71.34%\",\"Epoch 22: 71.61%\",\"Epoch 23: 71.24%\",\"Epoch 24: 71.56%\",\"Epoch 25: 71.45%\",\"Epoch 26: 71.29%\",\"Epoch 27: 71.67%\",\"Epoch 28: 71.69%\",\"Epoch 29: 71.50%\",\"Epoch 30: 71.05%\"],\"line\":{\"width\":3},\"mode\":\"lines+markers\",\"name\":\"Test Accuracy\",\"x\":[1,2,3,4,5,6,7,8,9,10,11,12,13,14,15,16,17,18,19,20,21,22,23,24,25,26,27,28,29,30],\"y\":[65.49051055867415,65.2766639935846,65.75781876503609,66.37262763966854,66.72012830793905,67.33493718257151,67.92301523656776,68.48436246992783,69.31301790964983,69.50013365410318,69.39321037155841,70.00801924619086,70.97032878909383,70.22186581128041,70.89013632718525,71.10398289227479,71.10398289227479,71.34456027800053,71.0772520716386,70.27532745255279,71.34456027800053,71.61186848436247,71.23763699545576,71.55840684309008,71.45148356054531,71.29109863672815,71.66533012563485,71.69206094627106,71.50494520181769,71.05052125100241],\"type\":\"scatter\"}],                        {\"height\":420,\"legend\":{\"bgcolor\":\"rgba(0,0,0,0.3)\",\"bordercolor\":\"white\",\"borderwidth\":1,\"x\":0.98,\"xanchor\":\"right\",\"y\":0.98,\"yanchor\":\"top\"},\"margin\":{\"b\":40,\"l\":40,\"r\":30,\"t\":40},\"paper_bgcolor\":\"rgba(30, 30, 30, 1)\",\"plot_bgcolor\":\"rgba(40, 40, 40, 1)\",\"shapes\":[{\"line\":{\"color\":\"orange\",\"dash\":\"dash\",\"width\":2},\"type\":\"line\",\"x0\":1,\"x1\":30,\"y0\":70,\"y1\":70}],\"template\":{\"data\":{\"barpolar\":[{\"marker\":{\"line\":{\"color\":\"rgb(17,17,17)\",\"width\":0.5},\"pattern\":{\"fillmode\":\"overlay\",\"size\":10,\"solidity\":0.2}},\"type\":\"barpolar\"}],\"bar\":[{\"error_x\":{\"color\":\"#f2f5fa\"},\"error_y\":{\"color\":\"#f2f5fa\"},\"marker\":{\"line\":{\"color\":\"rgb(17,17,17)\",\"width\":0.5},\"pattern\":{\"fillmode\":\"overlay\",\"size\":10,\"solidity\":0.2}},\"type\":\"bar\"}],\"carpet\":[{\"aaxis\":{\"endlinecolor\":\"#A2B1C6\",\"gridcolor\":\"#506784\",\"linecolor\":\"#506784\",\"minorgridcolor\":\"#506784\",\"startlinecolor\":\"#A2B1C6\"},\"baxis\":{\"endlinecolor\":\"#A2B1C6\",\"gridcolor\":\"#506784\",\"linecolor\":\"#506784\",\"minorgridcolor\":\"#506784\",\"startlinecolor\":\"#A2B1C6\"},\"type\":\"carpet\"}],\"choropleth\":[{\"colorbar\":{\"outlinewidth\":0,\"ticks\":\"\"},\"type\":\"choropleth\"}],\"contourcarpet\":[{\"colorbar\":{\"outlinewidth\":0,\"ticks\":\"\"},\"type\":\"contourcarpet\"}],\"contour\":[{\"colorbar\":{\"outlinewidth\":0,\"ticks\":\"\"},\"colorscale\":[[0.0,\"#0d0887\"],[0.1111111111111111,\"#46039f\"],[0.2222222222222222,\"#7201a8\"],[0.3333333333333333,\"#9c179e\"],[0.4444444444444444,\"#bd3786\"],[0.5555555555555556,\"#d8576b\"],[0.6666666666666666,\"#ed7953\"],[0.7777777777777778,\"#fb9f3a\"],[0.8888888888888888,\"#fdca26\"],[1.0,\"#f0f921\"]],\"type\":\"contour\"}],\"heatmap\":[{\"colorbar\":{\"outlinewidth\":0,\"ticks\":\"\"},\"colorscale\":[[0.0,\"#0d0887\"],[0.1111111111111111,\"#46039f\"],[0.2222222222222222,\"#7201a8\"],[0.3333333333333333,\"#9c179e\"],[0.4444444444444444,\"#bd3786\"],[0.5555555555555556,\"#d8576b\"],[0.6666666666666666,\"#ed7953\"],[0.7777777777777778,\"#fb9f3a\"],[0.8888888888888888,\"#fdca26\"],[1.0,\"#f0f921\"]],\"type\":\"heatmap\"}],\"histogram2dcontour\":[{\"colorbar\":{\"outlinewidth\":0,\"ticks\":\"\"},\"colorscale\":[[0.0,\"#0d0887\"],[0.1111111111111111,\"#46039f\"],[0.2222222222222222,\"#7201a8\"],[0.3333333333333333,\"#9c179e\"],[0.4444444444444444,\"#bd3786\"],[0.5555555555555556,\"#d8576b\"],[0.6666666666666666,\"#ed7953\"],[0.7777777777777778,\"#fb9f3a\"],[0.8888888888888888,\"#fdca26\"],[1.0,\"#f0f921\"]],\"type\":\"histogram2dcontour\"}],\"histogram2d\":[{\"colorbar\":{\"outlinewidth\":0,\"ticks\":\"\"},\"colorscale\":[[0.0,\"#0d0887\"],[0.1111111111111111,\"#46039f\"],[0.2222222222222222,\"#7201a8\"],[0.3333333333333333,\"#9c179e\"],[0.4444444444444444,\"#bd3786\"],[0.5555555555555556,\"#d8576b\"],[0.6666666666666666,\"#ed7953\"],[0.7777777777777778,\"#fb9f3a\"],[0.8888888888888888,\"#fdca26\"],[1.0,\"#f0f921\"]],\"type\":\"histogram2d\"}],\"histogram\":[{\"marker\":{\"pattern\":{\"fillmode\":\"overlay\",\"size\":10,\"solidity\":0.2}},\"type\":\"histogram\"}],\"mesh3d\":[{\"colorbar\":{\"outlinewidth\":0,\"ticks\":\"\"},\"type\":\"mesh3d\"}],\"parcoords\":[{\"line\":{\"colorbar\":{\"outlinewidth\":0,\"ticks\":\"\"}},\"type\":\"parcoords\"}],\"pie\":[{\"automargin\":true,\"type\":\"pie\"}],\"scatter3d\":[{\"line\":{\"colorbar\":{\"outlinewidth\":0,\"ticks\":\"\"}},\"marker\":{\"colorbar\":{\"outlinewidth\":0,\"ticks\":\"\"}},\"type\":\"scatter3d\"}],\"scattercarpet\":[{\"marker\":{\"colorbar\":{\"outlinewidth\":0,\"ticks\":\"\"}},\"type\":\"scattercarpet\"}],\"scattergeo\":[{\"marker\":{\"colorbar\":{\"outlinewidth\":0,\"ticks\":\"\"}},\"type\":\"scattergeo\"}],\"scattergl\":[{\"marker\":{\"line\":{\"color\":\"#283442\"}},\"type\":\"scattergl\"}],\"scattermapbox\":[{\"marker\":{\"colorbar\":{\"outlinewidth\":0,\"ticks\":\"\"}},\"type\":\"scattermapbox\"}],\"scattermap\":[{\"marker\":{\"colorbar\":{\"outlinewidth\":0,\"ticks\":\"\"}},\"type\":\"scattermap\"}],\"scatterpolargl\":[{\"marker\":{\"colorbar\":{\"outlinewidth\":0,\"ticks\":\"\"}},\"type\":\"scatterpolargl\"}],\"scatterpolar\":[{\"marker\":{\"colorbar\":{\"outlinewidth\":0,\"ticks\":\"\"}},\"type\":\"scatterpolar\"}],\"scatter\":[{\"marker\":{\"line\":{\"color\":\"#283442\"}},\"type\":\"scatter\"}],\"scatterternary\":[{\"marker\":{\"colorbar\":{\"outlinewidth\":0,\"ticks\":\"\"}},\"type\":\"scatterternary\"}],\"surface\":[{\"colorbar\":{\"outlinewidth\":0,\"ticks\":\"\"},\"colorscale\":[[0.0,\"#0d0887\"],[0.1111111111111111,\"#46039f\"],[0.2222222222222222,\"#7201a8\"],[0.3333333333333333,\"#9c179e\"],[0.4444444444444444,\"#bd3786\"],[0.5555555555555556,\"#d8576b\"],[0.6666666666666666,\"#ed7953\"],[0.7777777777777778,\"#fb9f3a\"],[0.8888888888888888,\"#fdca26\"],[1.0,\"#f0f921\"]],\"type\":\"surface\"}],\"table\":[{\"cells\":{\"fill\":{\"color\":\"#506784\"},\"line\":{\"color\":\"rgb(17,17,17)\"}},\"header\":{\"fill\":{\"color\":\"#2a3f5f\"},\"line\":{\"color\":\"rgb(17,17,17)\"}},\"type\":\"table\"}]},\"layout\":{\"annotationdefaults\":{\"arrowcolor\":\"#f2f5fa\",\"arrowhead\":0,\"arrowwidth\":1},\"autotypenumbers\":\"strict\",\"coloraxis\":{\"colorbar\":{\"outlinewidth\":0,\"ticks\":\"\"}},\"colorscale\":{\"diverging\":[[0,\"#8e0152\"],[0.1,\"#c51b7d\"],[0.2,\"#de77ae\"],[0.3,\"#f1b6da\"],[0.4,\"#fde0ef\"],[0.5,\"#f7f7f7\"],[0.6,\"#e6f5d0\"],[0.7,\"#b8e186\"],[0.8,\"#7fbc41\"],[0.9,\"#4d9221\"],[1,\"#276419\"]],\"sequential\":[[0.0,\"#0d0887\"],[0.1111111111111111,\"#46039f\"],[0.2222222222222222,\"#7201a8\"],[0.3333333333333333,\"#9c179e\"],[0.4444444444444444,\"#bd3786\"],[0.5555555555555556,\"#d8576b\"],[0.6666666666666666,\"#ed7953\"],[0.7777777777777778,\"#fb9f3a\"],[0.8888888888888888,\"#fdca26\"],[1.0,\"#f0f921\"]],\"sequentialminus\":[[0.0,\"#0d0887\"],[0.1111111111111111,\"#46039f\"],[0.2222222222222222,\"#7201a8\"],[0.3333333333333333,\"#9c179e\"],[0.4444444444444444,\"#bd3786\"],[0.5555555555555556,\"#d8576b\"],[0.6666666666666666,\"#ed7953\"],[0.7777777777777778,\"#fb9f3a\"],[0.8888888888888888,\"#fdca26\"],[1.0,\"#f0f921\"]]},\"colorway\":[\"#636efa\",\"#EF553B\",\"#00cc96\",\"#ab63fa\",\"#FFA15A\",\"#19d3f3\",\"#FF6692\",\"#B6E880\",\"#FF97FF\",\"#FECB52\"],\"font\":{\"color\":\"#f2f5fa\"},\"geo\":{\"bgcolor\":\"rgb(17,17,17)\",\"lakecolor\":\"rgb(17,17,17)\",\"landcolor\":\"rgb(17,17,17)\",\"showlakes\":true,\"showland\":true,\"subunitcolor\":\"#506784\"},\"hoverlabel\":{\"align\":\"left\"},\"hovermode\":\"closest\",\"mapbox\":{\"style\":\"dark\"},\"paper_bgcolor\":\"rgb(17,17,17)\",\"plot_bgcolor\":\"rgb(17,17,17)\",\"polar\":{\"angularaxis\":{\"gridcolor\":\"#506784\",\"linecolor\":\"#506784\",\"ticks\":\"\"},\"bgcolor\":\"rgb(17,17,17)\",\"radialaxis\":{\"gridcolor\":\"#506784\",\"linecolor\":\"#506784\",\"ticks\":\"\"}},\"scene\":{\"xaxis\":{\"backgroundcolor\":\"rgb(17,17,17)\",\"gridcolor\":\"#506784\",\"gridwidth\":2,\"linecolor\":\"#506784\",\"showbackground\":true,\"ticks\":\"\",\"zerolinecolor\":\"#C8D4E3\"},\"yaxis\":{\"backgroundcolor\":\"rgb(17,17,17)\",\"gridcolor\":\"#506784\",\"gridwidth\":2,\"linecolor\":\"#506784\",\"showbackground\":true,\"ticks\":\"\",\"zerolinecolor\":\"#C8D4E3\"},\"zaxis\":{\"backgroundcolor\":\"rgb(17,17,17)\",\"gridcolor\":\"#506784\",\"gridwidth\":2,\"linecolor\":\"#506784\",\"showbackground\":true,\"ticks\":\"\",\"zerolinecolor\":\"#C8D4E3\"}},\"shapedefaults\":{\"line\":{\"color\":\"#f2f5fa\"}},\"sliderdefaults\":{\"bgcolor\":\"#C8D4E3\",\"bordercolor\":\"rgb(17,17,17)\",\"borderwidth\":1,\"tickwidth\":0},\"ternary\":{\"aaxis\":{\"gridcolor\":\"#506784\",\"linecolor\":\"#506784\",\"ticks\":\"\"},\"baxis\":{\"gridcolor\":\"#506784\",\"linecolor\":\"#506784\",\"ticks\":\"\"},\"bgcolor\":\"rgb(17,17,17)\",\"caxis\":{\"gridcolor\":\"#506784\",\"linecolor\":\"#506784\",\"ticks\":\"\"}},\"title\":{\"x\":0.05},\"updatemenudefaults\":{\"bgcolor\":\"#506784\",\"borderwidth\":0},\"xaxis\":{\"automargin\":true,\"gridcolor\":\"#283442\",\"linecolor\":\"#506784\",\"ticks\":\"\",\"title\":{\"standoff\":15},\"zerolinecolor\":\"#283442\",\"zerolinewidth\":2},\"yaxis\":{\"automargin\":true,\"gridcolor\":\"#283442\",\"linecolor\":\"#506784\",\"ticks\":\"\",\"title\":{\"standoff\":15},\"zerolinecolor\":\"#283442\",\"zerolinewidth\":2}}},\"title\":{\"text\":\"Test Accuracy Over Time\"},\"width\":800,\"xaxis\":{\"gridcolor\":\"gray\",\"gridwidth\":1,\"linecolor\":\"white\",\"linewidth\":2,\"mirror\":true,\"showgrid\":true,\"tickmode\":\"array\",\"tickvals\":[1,5,10,15,20,25,30],\"title\":{\"text\":\"Epoch\"},\"zeroline\":true,\"zerolinewidth\":2},\"yaxis\":{\"gridcolor\":\"gray\",\"gridwidth\":1,\"linecolor\":\"white\",\"linewidth\":2,\"mirror\":true,\"showgrid\":true,\"title\":{\"text\":\"Accuracy (%)\"},\"zeroline\":true,\"zerolinewidth\":2}},                        {\"responsive\": true}                    ).then(function(){\n",
       "                            \n",
       "var gd = document.getElementById('5375684c-bcbe-4339-b4b9-fa3f76a9f5a5');\n",
       "var x = new MutationObserver(function (mutations, observer) {{\n",
       "        var display = window.getComputedStyle(gd).display;\n",
       "        if (!display || display === 'none') {{\n",
       "            console.log([gd, 'removed!']);\n",
       "            Plotly.purge(gd);\n",
       "            observer.disconnect();\n",
       "        }}\n",
       "}});\n",
       "\n",
       "// Listen for the removal of the full notebook cells\n",
       "var notebookContainer = gd.closest('#notebook-container');\n",
       "if (notebookContainer) {{\n",
       "    x.observe(notebookContainer, {childList: true});\n",
       "}}\n",
       "\n",
       "// Listen for the clearing of the current output cell\n",
       "var outputEl = gd.closest('.output');\n",
       "if (outputEl) {{\n",
       "    x.observe(outputEl, {childList: true});\n",
       "}}\n",
       "\n",
       "                        })                };            </script>        </div>"
      ]
     },
     "metadata": {},
     "output_type": "display_data"
    }
   ],
   "source": [
    "from evaluation import plot_training_results\n",
    "\n",
    "# Generate plots\n",
    "plot_training_results(train_losses, test_losses, accuracies, EPOCHS)"
   ]
  }
 ],
 "metadata": {
  "kernelspec": {
   "display_name": ".venv",
   "language": "python",
   "name": "python3"
  },
  "language_info": {
   "codemirror_mode": {
    "name": "ipython",
    "version": 3
   },
   "file_extension": ".py",
   "mimetype": "text/x-python",
   "name": "python",
   "nbconvert_exporter": "python",
   "pygments_lexer": "ipython3",
   "version": "3.11.6"
  }
 },
 "nbformat": 4,
 "nbformat_minor": 5
}
