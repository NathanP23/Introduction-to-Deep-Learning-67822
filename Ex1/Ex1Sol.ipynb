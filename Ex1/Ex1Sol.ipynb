{
 "cells": [
  {
   "cell_type": "markdown",
   "id": "6166850e",
   "metadata": {},
   "source": [
    "# Introduction to Deep Learning 67822 - [Ex1](https://docs.google.com/document/d/11Q1ejfwTH_tHjdQob0gYLA3bS88lNsBStpBWz085rB0/edit?tab=t.0)\n",
    "### NAME1 (ID1) & NAME2 (ID2)"
   ]
  },
  {
   "cell_type": "markdown",
   "id": "bd986d4c",
   "metadata": {},
   "source": [
    "### Section 1: Load and Prepare the Data\n",
    "#### Split training data (from the .txt files)\n",
    "We are training a model to classify 9-mer peptides based on whether they are detected by the immune system via specific HLA alleles. Each positive sample is associated with one of six common alleles. The negative samples are peptides not detected by any of the alleles.\n",
    "\n",
    "When splitting the data into training and test sets, it’s crucial to avoid introducing bias. One tempting idea is to take the first 90% of each file for training and the last 10% for testing. However, this assumes that the peptide order inside each file is random — which may not be true. The files might be sorted by binding strength, similarity, or even alphabetically, which could skew the distribution.\n",
    "\n",
    "To prevent such biases and ensure fair training and evaluation, we use a **stratified random split per allele**:\n",
    "\n",
    "1. We load and shuffle the peptides from each positive allele file individually.\n",
    "2. We split each file into a 90% training / 10% test set.\n",
    "3. We do the same for the negative examples (from `negs.txt`).\n",
    "4. Finally, we combine all subsets and shuffle them again.\n",
    "\n",
    "This approach ensures that all alleles are represented in both training and test sets, the overall class balance between positive and negative is maintained and no ordering bias from the original files leaks into the learning process."
   ]
  },
  {
   "cell_type": "code",
   "execution_count": 318,
   "id": "531f7145",
   "metadata": {},
   "outputs": [
    {
     "name": "stdout",
     "output_type": "stream",
     "text": [
      "Train set size: 33642 (89.99%))\n",
      "Test set size: 3741 (10.01%)\n",
      "\n",
      "Train set distribution:\n",
      "  NEG    (label 0): 22042 samples (65.52%)\n",
      "  A0101  (label 1): 1142 samples (3.39%)\n",
      "  A0201  (label 2): 2352 samples (6.99%)\n",
      "  A0203  (label 3): 1645 samples (4.89%)\n",
      "  A0207  (label 4): 2982 samples (8.86%)\n",
      "  A0301  (label 5): 1493 samples (4.44%)\n",
      "  A2402  (label 6): 1986 samples (5.90%)\n",
      "\n",
      "Test set distribution:\n",
      "  NEG    (label 0): 2450 samples (65.49%)\n",
      "  A0101  (label 1): 127 samples (3.39%)\n",
      "  A0201  (label 2): 262 samples (7.00%)\n",
      "  A0203  (label 3): 183 samples (4.89%)\n",
      "  A0207  (label 4): 332 samples (8.87%)\n",
      "  A0301  (label 5): 166 samples (4.44%)\n",
      "  A2402  (label 6): 221 samples (5.91%)\n"
     ]
    }
   ],
   "source": [
    "import os\n",
    "import random\n",
    "from pathlib import Path\n",
    "\n",
    "# Config\n",
    "data_dir = Path(\"Data/HLA_Dataset\")\n",
    "train_ratio = 0.9\n",
    "\n",
    "# Define allele-to-label mapping\n",
    "allele_label_map = {\n",
    "    \"A0101\": 1,\n",
    "    \"A0201\": 2,\n",
    "    \"A0203\": 3,\n",
    "    \"A0207\": 4,\n",
    "    \"A0301\": 5,\n",
    "    \"A2402\": 6,\n",
    "    \"NEG\": 0\n",
    "}\n",
    "\n",
    "# Locate all positive allele files\n",
    "allele_files = [f for f in data_dir.glob(\"*.txt\") if \"neg\" not in f.name]\n",
    "\n",
    "# Store train/test samples\n",
    "pos_train, pos_test = [], []\n",
    "\n",
    "# Process each allele file separately\n",
    "for file in allele_files:\n",
    "    allele = file.stem.replace(\"_pos\", \"\")\n",
    "    label = allele_label_map[allele]\n",
    "    with open(file) as f:\n",
    "        peptides = [line.strip() for line in f if line.strip()]\n",
    "        random.shuffle(peptides)\n",
    "        split_idx = int(len(peptides) * train_ratio)\n",
    "        pos_train += [(pep, allele, label) for pep in peptides[:split_idx]]\n",
    "        pos_test  += [(pep, allele, label) for pep in peptides[split_idx:]]\n",
    "\n",
    "# Process negatives\n",
    "with open(data_dir / \"negs.txt\") as f:\n",
    "    neg_peptides = [line.strip() for line in f if line.strip()]\n",
    "    random.shuffle(neg_peptides)\n",
    "    split_idx = int(len(neg_peptides) * train_ratio)\n",
    "    neg_train = [(pep, \"NEG\", 0) for pep in neg_peptides[:split_idx]]\n",
    "    neg_test  = [(pep, \"NEG\", 0) for pep in neg_peptides[split_idx:]]\n",
    "\n",
    "# Combine and shuffle\n",
    "train_data = pos_train + neg_train\n",
    "test_data = pos_test + neg_test\n",
    "random.shuffle(train_data)\n",
    "random.shuffle(test_data)\n",
    "\n",
    "# Print final stats\n",
    "from collections import Counter\n",
    "\n",
    "def print_dist(data, name):\n",
    "    counter = Counter([label for _, _, label in data])\n",
    "    total = sum(counter.values())\n",
    "    print(f\"\\n{name} set distribution:\")\n",
    "    for lbl in sorted(counter):\n",
    "        allele = [a for a, l in allele_label_map.items() if l == lbl][0]\n",
    "        print(f\"  {allele:6s} (label {lbl}): {counter[lbl]} samples ({100 * counter[lbl]/total:.2f}%)\")\n",
    "\n",
    "print(f\"Train set size: {len(train_data)} ({((len(train_data) / (len(train_data) + len(test_data))) * 100):.2f}%))\")\n",
    "print(f\"Test set size: {len(test_data)} ({((len(test_data) / (len(train_data) + len(test_data))) * 100):.2f}%)\")\n",
    "print_dist(train_data, \"Train\")\n",
    "print_dist(test_data, \"Test\")"
   ]
  },
  {
   "cell_type": "markdown",
   "id": "0caf2c18",
   "metadata": {},
   "source": [
    "### Section 2 – Peptide Representation\n",
    "\n",
    "#### How would you represent these 9-mers of amino acids?\n",
    "\n",
    "We considered two approaches:\n",
    "\n",
    "**1. One-hot encoding:**  \n",
    "Each amino acid is represented as a 20-dimensional one-hot vector. For a 9-mer peptide, this would require 180 input features. While this is straightforward, it’s sparse and does not capture biological similarities between amino acids.\n",
    "\n",
    "**2. Embedding (used):**  \n",
    "Instead, we map each amino acid to a dense embedding vector of size `d` (e.g., 4 or 8). This allows the model to learn meaningful representations during training, such as that hydrophobic or acidic amino acids may behave similarly.\n",
    "\n",
    "Each peptide is converted to 9 indices (integers from 0–19), then embedded to get a `9 × d` matrix, which is then flattened for input to an MLP.\n",
    "\n",
    "#### How would you represent the associate alleles?\n",
    "\n",
    "Each positive sample comes from a known allele, and each negative sample is from none. We label:\n",
    "- `0` → NEG (non-detecting)\n",
    "- `1–6` → Alleles A0101 to A2402\n",
    "\n",
    "This forms a 7-class multi-class classification problem.\n"
   ]
  },
  {
   "cell_type": "code",
   "execution_count": 319,
   "id": "d0bdd42b",
   "metadata": {},
   "outputs": [
    {
     "name": "stdout",
     "output_type": "stream",
     "text": [
      "X_train shape: torch.Size([33642, 9])\n",
      "y_train shape: torch.Size([33642])\n",
      "X_test shape: torch.Size([3741, 9])\n",
      "y_test shape: torch.Size([3741])\n",
      "\n",
      "Example input (peptide indices): tensor([17, 19, 12,  0, 15,  8, 10,  4, 12])\n",
      "Corresponding label (allele class): tensor(6)\n"
     ]
    }
   ],
   "source": [
    "# Amino acid to index mapping\n",
    "AMINO_ACIDS = 'ACDEFGHIKLMNPQRSTVWY'\n",
    "aa_to_idx = {aa: i for i, aa in enumerate(AMINO_ACIDS)}\n",
    "\n",
    "# Convert peptide (string of 9 amino acids) to list of indices\n",
    "def peptide_to_indices(peptide):\n",
    "    return [aa_to_idx[aa] for aa in peptide]\n",
    "\n",
    "import torch\n",
    "\n",
    "# Split features (X) and labels (y) for train and test\n",
    "X_train = [peptide_to_indices(p) for p, _, _ in train_data]\n",
    "y_train = [label for _, _, label in train_data]\n",
    "\n",
    "X_test  = [peptide_to_indices(p) for p, _, _ in test_data]\n",
    "y_test  = [label for _, _, label in test_data]\n",
    "\n",
    "# Convert to tensors\n",
    "X_train = torch.tensor(X_train, dtype=torch.long)\n",
    "y_train = torch.tensor(y_train, dtype=torch.long)\n",
    "\n",
    "X_test  = torch.tensor(X_test, dtype=torch.long)\n",
    "y_test  = torch.tensor(y_test, dtype=torch.long)\n",
    "\n",
    "print(\"X_train shape:\", X_train.shape)\n",
    "print(\"y_train shape:\", y_train.shape)\n",
    "print(\"X_test shape:\", X_test.shape)\n",
    "print(\"y_test shape:\", y_test.shape)\n",
    "\n",
    "# Check a sample\n",
    "print(\"\\nExample input (peptide indices):\", X_train[0])\n",
    "print(\"Corresponding label (allele class):\", y_train[0])"
   ]
  },
  {
   "cell_type": "markdown",
   "id": "5b4ae60f",
   "metadata": {},
   "source": [
    "### Section 3 – Network Architecture\n",
    "\n",
    "#### What will the network’s input dimension be?\n",
    "With embeddings of size `d` and peptides of length 9, the input dimension is `9 × d`.  \n",
    "For example, using `d = 4`, the input to the MLP is of size 36.\n",
    "\n",
    "#### Implement an MLP that keeps this dimension for 2 inner layers\n",
    "We construct a small feedforward neural network (MLP) with the following layers:\n",
    "- **Embedding layer:** Maps 20 amino acid types to `d`-dimensional learnable vectors.\n",
    "- **Flatten layer:** Concatenates the 9 embedded amino acids into a single vector of size `9 × d`.\n",
    "- **Two hidden layers:** Fully connected, both using the same dimension (`9 × d`) with ReLU activations.\n",
    "- **Output layer:** A linear layer with 7 outputs, representing the 7 classification labels (6 alleles + NEG).\n",
    "\n",
    "We use `CrossEntropyLoss` as our loss function, and the `Adam` optimizer. During training, we track both training and validation loss.\n",
    "\n",
    "#### Does the input dimension cause training problems?\n",
    "In our setup, Each amino acid is embedded into a small vector (e.g. 4D), A peptide of length 9 becomes a 36D input vector (`9 × 4`) and the hidden layers also use this dimension.\n",
    "\n",
    "This is a relatively small dimensional space (especially compared to one-hot encoding with 180 features). The network trains quickly and converges within a few epochs. No numerical instability or overfitting is observed.\n",
    "\n",
    "**Conclusion:** The embedding-based representation allows the model to learn efficiently without overfitting or struggling with too high-dimensional sparse inputs.\n",
    "\n",
    "#### Architecture Overview\n",
    "We use a Multi-Layer Perceptron (MLP) that receives a 9-mer peptide encoded as indices of amino acids (integers from 0 to 19).\n",
    "- We pass the input through an `nn.Embedding` layer that maps each amino acid to a learnable dense vector of dimension `d` (e.g., 4 or 8).\n",
    "- The resulting tensor of shape `[batch_size, 9, d]` is flattened into `[batch_size, 9 × d]`.\n",
    "- This is passed through two fully connected layers of the same size, with ReLU activations.\n",
    "- The final layer outputs 7 logits corresponding to 7 classes (6 alleles + negative class).\n",
    "- We apply `CrossEntropyLoss`, which internally applies softmax + log likelihood.\n",
    "\n",
    "We also track training and test loss and accuracy over multiple epochs.\n"
   ]
  },
  {
   "cell_type": "markdown",
   "id": "03ccdbc7",
   "metadata": {},
   "source": [
    "#### Defining the MLP Model"
   ]
  },
  {
   "cell_type": "code",
   "execution_count": 320,
   "id": "02cac5fb",
   "metadata": {},
   "outputs": [],
   "source": [
    "import torch\n",
    "import torch.nn as nn\n",
    "\n",
    "# Configurable constants\n",
    "PEPTIDE_LENGTH = 9\n",
    "NUM_AMINO_ACIDS = 20\n",
    "NUM_CLASSES = 7\n",
    "\n",
    "\n",
    "class PeptideClassifier(nn.Module):\n",
    "    \"\"\"\n",
    "    Feedforward classifier for 9-mer peptide sequences using fixed-width hidden layers.\n",
    "    - Embedding layer: (20 → emb_dim)\n",
    "    - Flattened input\n",
    "    - Two hidden layers of same dimension (as required)\n",
    "    - Output layer: 7 classes\n",
    "    \"\"\"\n",
    "\n",
    "    def __init__(self, emb_dim=4):\n",
    "        \"\"\"\n",
    "        Initializes the model layers.\n",
    "        Args:\n",
    "            emb_dim (int): Size of the embedding vector for each amino acid.\n",
    "        \"\"\"\n",
    "        super().__init__()\n",
    "\n",
    "        self.embedding = nn.Embedding(NUM_AMINO_ACIDS, emb_dim)\n",
    "        input_dim = PEPTIDE_LENGTH * emb_dim\n",
    "\n",
    "        self.model = nn.Sequential(\n",
    "            nn.Flatten(),\n",
    "            nn.Linear(input_dim, input_dim),\n",
    "            nn.ReLU(),\n",
    "            nn.Linear(input_dim, input_dim),\n",
    "            nn.ReLU(),\n",
    "            nn.Linear(input_dim, NUM_CLASSES)\n",
    "        )\n",
    "\n",
    "    def forward(self, x: torch.Tensor) -> torch.Tensor:\n",
    "        \"\"\"\n",
    "        Forward pass of the model.\n",
    "        Args:\n",
    "            x (Tensor): Peptide input of shape (B, 9)\n",
    "        Returns:\n",
    "            Tensor: Class logits of shape (B, 7)\n",
    "        \"\"\"\n",
    "        x = self.embedding(x)  # (B, 9, emb_dim)\n",
    "        return self.model(x)   # (B, 7)\n"
   ]
  },
  {
   "cell_type": "markdown",
   "id": "5c478789",
   "metadata": {},
   "source": [
    "#### Loss & Optimization "
   ]
  },
  {
   "cell_type": "code",
   "execution_count": 321,
   "id": "c345e3a1",
   "metadata": {},
   "outputs": [
    {
     "name": "stdout",
     "output_type": "stream",
     "text": [
      "Model, optimizer, and loss function initialized!\n"
     ]
    }
   ],
   "source": [
    "# Imports\n",
    "import torch\n",
    "import torch.nn as nn\n",
    "from torch.utils.data import DataLoader, TensorDataset\n",
    "\n",
    "# Model (assuming it was defined/imported from a cell above)\n",
    "model = PeptideClassifier(emb_dim=4)\n",
    "\n",
    "# Training Config\n",
    "EPOCHS = 30\n",
    "BATCH_SIZE = 256\n",
    "LEARNING_RATE = 0.001\n",
    "\n",
    "# Prepare DataLoaders\n",
    "train_dataset = TensorDataset(X_train, y_train)\n",
    "test_dataset = TensorDataset(X_test, y_test)\n",
    "\n",
    "train_loader = DataLoader(train_dataset, batch_size=BATCH_SIZE, shuffle=True)\n",
    "test_loader = DataLoader(test_dataset, batch_size=BATCH_SIZE)\n",
    "\n",
    "# Loss Function: CrossEntropy (optionally add class weights here)\n",
    "class_counts = torch.bincount(y_train)\n",
    "class_weights = 1.0 / (class_counts.float() + 1e-6)\n",
    "class_weights = class_weights / class_weights.sum()  # Normalize\n",
    "\n",
    "loss_fn = nn.CrossEntropyLoss()\n",
    "\n",
    "# Optimizer: Adam (adaptive learning rate)\n",
    "optimizer = torch.optim.Adam(model.parameters(), lr=LEARNING_RATE)\n",
    "\n",
    "# Sanity check\n",
    "print(\"Model, optimizer, and loss function initialized!\")"
   ]
  },
  {
   "cell_type": "markdown",
   "id": "ad72f4ca",
   "metadata": {},
   "source": [
    "#### Training Loop"
   ]
  },
  {
   "cell_type": "code",
   "execution_count": 322,
   "id": "0ab01a2d",
   "metadata": {},
   "outputs": [
    {
     "name": "stdout",
     "output_type": "stream",
     "text": [
      "Epoch  1/30 | Train Loss: 1.3667 | Test Loss: 1.1748 | Accuracy: 65.49%\n",
      "Epoch  2/30 | Train Loss: 1.0803 | Test Loss: 0.9615 | Accuracy: 65.20%\n",
      "Epoch  3/30 | Train Loss: 0.9044 | Test Loss: 0.8625 | Accuracy: 66.11%\n",
      "Epoch  4/30 | Train Loss: 0.8396 | Test Loss: 0.8206 | Accuracy: 66.11%\n",
      "Epoch  5/30 | Train Loss: 0.8030 | Test Loss: 0.7935 | Accuracy: 67.39%\n",
      "Epoch  6/30 | Train Loss: 0.7784 | Test Loss: 0.7763 | Accuracy: 68.08%\n",
      "Epoch  7/30 | Train Loss: 0.7598 | Test Loss: 0.7629 | Accuracy: 68.43%\n",
      "Epoch  8/30 | Train Loss: 0.7463 | Test Loss: 0.7522 | Accuracy: 68.83%\n",
      "Epoch  9/30 | Train Loss: 0.7348 | Test Loss: 0.7424 | Accuracy: 69.10%\n",
      "Epoch 10/30 | Train Loss: 0.7251 | Test Loss: 0.7381 | Accuracy: 69.79%\n",
      "Epoch 11/30 | Train Loss: 0.7175 | Test Loss: 0.7327 | Accuracy: 69.95%\n",
      "Epoch 12/30 | Train Loss: 0.7112 | Test Loss: 0.7238 | Accuracy: 70.73%\n",
      "Epoch 13/30 | Train Loss: 0.7052 | Test Loss: 0.7219 | Accuracy: 70.30%\n",
      "Epoch 14/30 | Train Loss: 0.7001 | Test Loss: 0.7181 | Accuracy: 70.20%\n",
      "Epoch 15/30 | Train Loss: 0.6949 | Test Loss: 0.7135 | Accuracy: 69.66%\n",
      "Epoch 16/30 | Train Loss: 0.6906 | Test Loss: 0.7157 | Accuracy: 69.87%\n",
      "Epoch 17/30 | Train Loss: 0.6854 | Test Loss: 0.7086 | Accuracy: 70.70%\n",
      "Epoch 18/30 | Train Loss: 0.6819 | Test Loss: 0.7062 | Accuracy: 69.74%\n",
      "Epoch 19/30 | Train Loss: 0.6774 | Test Loss: 0.7046 | Accuracy: 69.82%\n",
      "Epoch 20/30 | Train Loss: 0.6748 | Test Loss: 0.7032 | Accuracy: 70.03%\n",
      "Epoch 21/30 | Train Loss: 0.6721 | Test Loss: 0.7009 | Accuracy: 70.41%\n",
      "Epoch 22/30 | Train Loss: 0.6685 | Test Loss: 0.6961 | Accuracy: 70.06%\n",
      "Epoch 23/30 | Train Loss: 0.6660 | Test Loss: 0.6975 | Accuracy: 69.66%\n",
      "Epoch 24/30 | Train Loss: 0.6636 | Test Loss: 0.6949 | Accuracy: 70.44%\n",
      "Epoch 25/30 | Train Loss: 0.6610 | Test Loss: 0.6961 | Accuracy: 69.77%\n",
      "Epoch 26/30 | Train Loss: 0.6589 | Test Loss: 0.6965 | Accuracy: 69.87%\n",
      "Epoch 27/30 | Train Loss: 0.6574 | Test Loss: 0.6946 | Accuracy: 70.36%\n",
      "Epoch 28/30 | Train Loss: 0.6562 | Test Loss: 0.6924 | Accuracy: 69.98%\n",
      "Epoch 29/30 | Train Loss: 0.6531 | Test Loss: 0.6932 | Accuracy: 69.98%\n",
      "Epoch 30/30 | Train Loss: 0.6519 | Test Loss: 0.6936 | Accuracy: 69.77%\n"
     ]
    }
   ],
   "source": [
    "import matplotlib.pyplot as plt\n",
    "\n",
    "# Metrics Tracking\n",
    "train_losses = []\n",
    "test_losses = []\n",
    "accuracies = []\n",
    "\n",
    "# Training Loop\n",
    "for epoch in range(EPOCHS):\n",
    "    model.train()\n",
    "    running_loss = 0.0\n",
    "\n",
    "    for batch_x, batch_y in train_loader:\n",
    "        optimizer.zero_grad()            # 1. Reset gradients\n",
    "        logits = model(batch_x)          # 2. Forward pass\n",
    "        loss = loss_fn(logits, batch_y)  # 3. Compute loss\n",
    "        loss.backward()                  # 4. Backpropagation\n",
    "        optimizer.step()                 # 5. Update weights\n",
    "\n",
    "        running_loss += loss.item() * batch_x.size(0)  # track loss\n",
    "\n",
    "    # Epoch Summary\n",
    "    epoch_train_loss = running_loss / len(train_loader.dataset)\n",
    "    train_losses.append(epoch_train_loss)\n",
    "\n",
    "    # Evaluate on Test Set\n",
    "    model.eval()\n",
    "    test_loss = 0.0\n",
    "    correct = 0\n",
    "    total = 0\n",
    "\n",
    "    with torch.no_grad():\n",
    "        for batch_x, batch_y in test_loader:\n",
    "            logits = model(batch_x)\n",
    "            loss = loss_fn(logits, batch_y)\n",
    "            test_loss += loss.item() * batch_x.size(0)\n",
    "\n",
    "            preds = logits.argmax(dim=1)\n",
    "            correct += (preds == batch_y).sum().item()\n",
    "            total += batch_y.size(0)\n",
    "\n",
    "    epoch_test_loss = test_loss / len(test_loader.dataset)\n",
    "    epoch_accuracy = 100 * correct / total\n",
    "    test_losses.append(epoch_test_loss)\n",
    "    accuracies.append(epoch_accuracy)\n",
    "\n",
    "    # Log Results\n",
    "    print(f\"Epoch {epoch+1:2d}/{EPOCHS} | \"\n",
    "          f\"Train Loss: {epoch_train_loss:.4f} | \"\n",
    "          f\"Test Loss: {epoch_test_loss:.4f} | \"\n",
    "          f\"Accuracy: {epoch_accuracy:.2f}%\")"
   ]
  },
  {
   "cell_type": "markdown",
   "id": "afa41ab9",
   "metadata": {},
   "source": [
    "####  Plot Train/Test Loss"
   ]
  },
  {
   "cell_type": "code",
   "execution_count": 323,
   "id": "0ea73426",
   "metadata": {},
   "outputs": [
    {
     "data": {
      "text/html": [
       "        <script type=\"text/javascript\">\n",
       "        window.PlotlyConfig = {MathJaxConfig: 'local'};\n",
       "        if (window.MathJax && window.MathJax.Hub && window.MathJax.Hub.Config) {window.MathJax.Hub.Config({SVG: {font: \"STIX-Web\"}});}\n",
       "        </script>\n",
       "        <script type=\"module\">import \"https://cdn.plot.ly/plotly-3.0.1.min\"</script>\n",
       "        "
      ]
     },
     "metadata": {},
     "output_type": "display_data"
    },
    {
     "data": {
      "application/vnd.plotly.v1+json": {
       "config": {
        "linkText": "Export to plot.ly",
        "plotlyServerURL": "https://plot.ly",
        "showLink": false
       },
       "data": [
        {
         "hoverinfo": "text",
         "hovertext": [
          "Epoch 1: 1.3667",
          "Epoch 2: 1.0803",
          "Epoch 3: 0.9044",
          "Epoch 4: 0.8396",
          "Epoch 5: 0.8030",
          "Epoch 6: 0.7784",
          "Epoch 7: 0.7598",
          "Epoch 8: 0.7463",
          "Epoch 9: 0.7348",
          "Epoch 10: 0.7251",
          "Epoch 11: 0.7175",
          "Epoch 12: 0.7112",
          "Epoch 13: 0.7052",
          "Epoch 14: 0.7001",
          "Epoch 15: 0.6949",
          "Epoch 16: 0.6906",
          "Epoch 17: 0.6854",
          "Epoch 18: 0.6819",
          "Epoch 19: 0.6774",
          "Epoch 20: 0.6748",
          "Epoch 21: 0.6721",
          "Epoch 22: 0.6685",
          "Epoch 23: 0.6660",
          "Epoch 24: 0.6636",
          "Epoch 25: 0.6610",
          "Epoch 26: 0.6589",
          "Epoch 27: 0.6574",
          "Epoch 28: 0.6562",
          "Epoch 29: 0.6531",
          "Epoch 30: 0.6519"
         ],
         "line": {
          "width": 3
         },
         "mode": "lines+markers",
         "name": "Train Loss",
         "type": "scatter",
         "x": [
          1,
          2,
          3,
          4,
          5,
          6,
          7,
          8,
          9,
          10,
          11,
          12,
          13,
          14,
          15,
          16,
          17,
          18,
          19,
          20,
          21,
          22,
          23,
          24,
          25,
          26,
          27,
          28,
          29,
          30
         ],
         "y": [
          1.3667077322322587,
          1.080289701829802,
          0.9044023974033508,
          0.8396205626063593,
          0.8030404782658078,
          0.7783902983632583,
          0.7597968890517994,
          0.7463388415495866,
          0.7347816076355792,
          0.7250686237137508,
          0.7174863797377679,
          0.7111829657112685,
          0.7052400115624696,
          0.7001038854169361,
          0.6948989335850397,
          0.6905623365437883,
          0.6853721517812383,
          0.6819250582727381,
          0.6774096331480999,
          0.674800313707552,
          0.6720990191514594,
          0.6684642060957754,
          0.6660067122293407,
          0.6636258657725145,
          0.6610427835234124,
          0.6588755697020806,
          0.6573604580855853,
          0.6561544102902688,
          0.6530537195342041,
          0.6519089145918648
         ]
        },
        {
         "hoverinfo": "text",
         "hovertext": [
          "Epoch 1: 1.1748",
          "Epoch 2: 0.9615",
          "Epoch 3: 0.8625",
          "Epoch 4: 0.8206",
          "Epoch 5: 0.7935",
          "Epoch 6: 0.7763",
          "Epoch 7: 0.7629",
          "Epoch 8: 0.7522",
          "Epoch 9: 0.7424",
          "Epoch 10: 0.7381",
          "Epoch 11: 0.7327",
          "Epoch 12: 0.7238",
          "Epoch 13: 0.7219",
          "Epoch 14: 0.7181",
          "Epoch 15: 0.7135",
          "Epoch 16: 0.7157",
          "Epoch 17: 0.7086",
          "Epoch 18: 0.7062",
          "Epoch 19: 0.7046",
          "Epoch 20: 0.7032",
          "Epoch 21: 0.7009",
          "Epoch 22: 0.6961",
          "Epoch 23: 0.6975",
          "Epoch 24: 0.6949",
          "Epoch 25: 0.6961",
          "Epoch 26: 0.6965",
          "Epoch 27: 0.6946",
          "Epoch 28: 0.6924",
          "Epoch 29: 0.6932",
          "Epoch 30: 0.6936"
         ],
         "line": {
          "width": 3
         },
         "mode": "lines+markers",
         "name": "Test Loss",
         "type": "scatter",
         "x": [
          1,
          2,
          3,
          4,
          5,
          6,
          7,
          8,
          9,
          10,
          11,
          12,
          13,
          14,
          15,
          16,
          17,
          18,
          19,
          20,
          21,
          22,
          23,
          24,
          25,
          26,
          27,
          28,
          29,
          30
         ],
         "y": [
          1.1748443047205608,
          0.9614819395959584,
          0.8625156644256763,
          0.820619236957705,
          0.7935161294703877,
          0.7762562287615379,
          0.7628866086602689,
          0.7522116069231591,
          0.7423610663515972,
          0.7380927090688174,
          0.7326894414294247,
          0.723845843897883,
          0.7218963643568335,
          0.7181248387784379,
          0.7135177294668174,
          0.7156663394745453,
          0.7085991560600238,
          0.7062269732678711,
          0.7045541184052398,
          0.7032043047366822,
          0.7008987128877984,
          0.6960902948552865,
          0.6974896517579997,
          0.6948638657808495,
          0.6960691414679859,
          0.6964637401014112,
          0.6945629645974456,
          0.6924313734285782,
          0.6932316503082485,
          0.6935811423420492
         ]
        }
       ],
       "layout": {
        "height": 420,
        "legend": {
         "bgcolor": "rgba(0,0,0,0.3)",
         "bordercolor": "white",
         "borderwidth": 1,
         "x": 0.98,
         "xanchor": "right",
         "y": 0.98,
         "yanchor": "top"
        },
        "margin": {
         "b": 40,
         "l": 40,
         "r": 30,
         "t": 40
        },
        "paper_bgcolor": "rgba(30, 30, 30, 1)",
        "plot_bgcolor": "rgba(40, 40, 40, 1)",
        "template": {
         "data": {
          "bar": [
           {
            "error_x": {
             "color": "#f2f5fa"
            },
            "error_y": {
             "color": "#f2f5fa"
            },
            "marker": {
             "line": {
              "color": "rgb(17,17,17)",
              "width": 0.5
             },
             "pattern": {
              "fillmode": "overlay",
              "size": 10,
              "solidity": 0.2
             }
            },
            "type": "bar"
           }
          ],
          "barpolar": [
           {
            "marker": {
             "line": {
              "color": "rgb(17,17,17)",
              "width": 0.5
             },
             "pattern": {
              "fillmode": "overlay",
              "size": 10,
              "solidity": 0.2
             }
            },
            "type": "barpolar"
           }
          ],
          "carpet": [
           {
            "aaxis": {
             "endlinecolor": "#A2B1C6",
             "gridcolor": "#506784",
             "linecolor": "#506784",
             "minorgridcolor": "#506784",
             "startlinecolor": "#A2B1C6"
            },
            "baxis": {
             "endlinecolor": "#A2B1C6",
             "gridcolor": "#506784",
             "linecolor": "#506784",
             "minorgridcolor": "#506784",
             "startlinecolor": "#A2B1C6"
            },
            "type": "carpet"
           }
          ],
          "choropleth": [
           {
            "colorbar": {
             "outlinewidth": 0,
             "ticks": ""
            },
            "type": "choropleth"
           }
          ],
          "contour": [
           {
            "colorbar": {
             "outlinewidth": 0,
             "ticks": ""
            },
            "colorscale": [
             [
              0,
              "#0d0887"
             ],
             [
              0.1111111111111111,
              "#46039f"
             ],
             [
              0.2222222222222222,
              "#7201a8"
             ],
             [
              0.3333333333333333,
              "#9c179e"
             ],
             [
              0.4444444444444444,
              "#bd3786"
             ],
             [
              0.5555555555555556,
              "#d8576b"
             ],
             [
              0.6666666666666666,
              "#ed7953"
             ],
             [
              0.7777777777777778,
              "#fb9f3a"
             ],
             [
              0.8888888888888888,
              "#fdca26"
             ],
             [
              1,
              "#f0f921"
             ]
            ],
            "type": "contour"
           }
          ],
          "contourcarpet": [
           {
            "colorbar": {
             "outlinewidth": 0,
             "ticks": ""
            },
            "type": "contourcarpet"
           }
          ],
          "heatmap": [
           {
            "colorbar": {
             "outlinewidth": 0,
             "ticks": ""
            },
            "colorscale": [
             [
              0,
              "#0d0887"
             ],
             [
              0.1111111111111111,
              "#46039f"
             ],
             [
              0.2222222222222222,
              "#7201a8"
             ],
             [
              0.3333333333333333,
              "#9c179e"
             ],
             [
              0.4444444444444444,
              "#bd3786"
             ],
             [
              0.5555555555555556,
              "#d8576b"
             ],
             [
              0.6666666666666666,
              "#ed7953"
             ],
             [
              0.7777777777777778,
              "#fb9f3a"
             ],
             [
              0.8888888888888888,
              "#fdca26"
             ],
             [
              1,
              "#f0f921"
             ]
            ],
            "type": "heatmap"
           }
          ],
          "histogram": [
           {
            "marker": {
             "pattern": {
              "fillmode": "overlay",
              "size": 10,
              "solidity": 0.2
             }
            },
            "type": "histogram"
           }
          ],
          "histogram2d": [
           {
            "colorbar": {
             "outlinewidth": 0,
             "ticks": ""
            },
            "colorscale": [
             [
              0,
              "#0d0887"
             ],
             [
              0.1111111111111111,
              "#46039f"
             ],
             [
              0.2222222222222222,
              "#7201a8"
             ],
             [
              0.3333333333333333,
              "#9c179e"
             ],
             [
              0.4444444444444444,
              "#bd3786"
             ],
             [
              0.5555555555555556,
              "#d8576b"
             ],
             [
              0.6666666666666666,
              "#ed7953"
             ],
             [
              0.7777777777777778,
              "#fb9f3a"
             ],
             [
              0.8888888888888888,
              "#fdca26"
             ],
             [
              1,
              "#f0f921"
             ]
            ],
            "type": "histogram2d"
           }
          ],
          "histogram2dcontour": [
           {
            "colorbar": {
             "outlinewidth": 0,
             "ticks": ""
            },
            "colorscale": [
             [
              0,
              "#0d0887"
             ],
             [
              0.1111111111111111,
              "#46039f"
             ],
             [
              0.2222222222222222,
              "#7201a8"
             ],
             [
              0.3333333333333333,
              "#9c179e"
             ],
             [
              0.4444444444444444,
              "#bd3786"
             ],
             [
              0.5555555555555556,
              "#d8576b"
             ],
             [
              0.6666666666666666,
              "#ed7953"
             ],
             [
              0.7777777777777778,
              "#fb9f3a"
             ],
             [
              0.8888888888888888,
              "#fdca26"
             ],
             [
              1,
              "#f0f921"
             ]
            ],
            "type": "histogram2dcontour"
           }
          ],
          "mesh3d": [
           {
            "colorbar": {
             "outlinewidth": 0,
             "ticks": ""
            },
            "type": "mesh3d"
           }
          ],
          "parcoords": [
           {
            "line": {
             "colorbar": {
              "outlinewidth": 0,
              "ticks": ""
             }
            },
            "type": "parcoords"
           }
          ],
          "pie": [
           {
            "automargin": true,
            "type": "pie"
           }
          ],
          "scatter": [
           {
            "marker": {
             "line": {
              "color": "#283442"
             }
            },
            "type": "scatter"
           }
          ],
          "scatter3d": [
           {
            "line": {
             "colorbar": {
              "outlinewidth": 0,
              "ticks": ""
             }
            },
            "marker": {
             "colorbar": {
              "outlinewidth": 0,
              "ticks": ""
             }
            },
            "type": "scatter3d"
           }
          ],
          "scattercarpet": [
           {
            "marker": {
             "colorbar": {
              "outlinewidth": 0,
              "ticks": ""
             }
            },
            "type": "scattercarpet"
           }
          ],
          "scattergeo": [
           {
            "marker": {
             "colorbar": {
              "outlinewidth": 0,
              "ticks": ""
             }
            },
            "type": "scattergeo"
           }
          ],
          "scattergl": [
           {
            "marker": {
             "line": {
              "color": "#283442"
             }
            },
            "type": "scattergl"
           }
          ],
          "scattermap": [
           {
            "marker": {
             "colorbar": {
              "outlinewidth": 0,
              "ticks": ""
             }
            },
            "type": "scattermap"
           }
          ],
          "scattermapbox": [
           {
            "marker": {
             "colorbar": {
              "outlinewidth": 0,
              "ticks": ""
             }
            },
            "type": "scattermapbox"
           }
          ],
          "scatterpolar": [
           {
            "marker": {
             "colorbar": {
              "outlinewidth": 0,
              "ticks": ""
             }
            },
            "type": "scatterpolar"
           }
          ],
          "scatterpolargl": [
           {
            "marker": {
             "colorbar": {
              "outlinewidth": 0,
              "ticks": ""
             }
            },
            "type": "scatterpolargl"
           }
          ],
          "scatterternary": [
           {
            "marker": {
             "colorbar": {
              "outlinewidth": 0,
              "ticks": ""
             }
            },
            "type": "scatterternary"
           }
          ],
          "surface": [
           {
            "colorbar": {
             "outlinewidth": 0,
             "ticks": ""
            },
            "colorscale": [
             [
              0,
              "#0d0887"
             ],
             [
              0.1111111111111111,
              "#46039f"
             ],
             [
              0.2222222222222222,
              "#7201a8"
             ],
             [
              0.3333333333333333,
              "#9c179e"
             ],
             [
              0.4444444444444444,
              "#bd3786"
             ],
             [
              0.5555555555555556,
              "#d8576b"
             ],
             [
              0.6666666666666666,
              "#ed7953"
             ],
             [
              0.7777777777777778,
              "#fb9f3a"
             ],
             [
              0.8888888888888888,
              "#fdca26"
             ],
             [
              1,
              "#f0f921"
             ]
            ],
            "type": "surface"
           }
          ],
          "table": [
           {
            "cells": {
             "fill": {
              "color": "#506784"
             },
             "line": {
              "color": "rgb(17,17,17)"
             }
            },
            "header": {
             "fill": {
              "color": "#2a3f5f"
             },
             "line": {
              "color": "rgb(17,17,17)"
             }
            },
            "type": "table"
           }
          ]
         },
         "layout": {
          "annotationdefaults": {
           "arrowcolor": "#f2f5fa",
           "arrowhead": 0,
           "arrowwidth": 1
          },
          "autotypenumbers": "strict",
          "coloraxis": {
           "colorbar": {
            "outlinewidth": 0,
            "ticks": ""
           }
          },
          "colorscale": {
           "diverging": [
            [
             0,
             "#8e0152"
            ],
            [
             0.1,
             "#c51b7d"
            ],
            [
             0.2,
             "#de77ae"
            ],
            [
             0.3,
             "#f1b6da"
            ],
            [
             0.4,
             "#fde0ef"
            ],
            [
             0.5,
             "#f7f7f7"
            ],
            [
             0.6,
             "#e6f5d0"
            ],
            [
             0.7,
             "#b8e186"
            ],
            [
             0.8,
             "#7fbc41"
            ],
            [
             0.9,
             "#4d9221"
            ],
            [
             1,
             "#276419"
            ]
           ],
           "sequential": [
            [
             0,
             "#0d0887"
            ],
            [
             0.1111111111111111,
             "#46039f"
            ],
            [
             0.2222222222222222,
             "#7201a8"
            ],
            [
             0.3333333333333333,
             "#9c179e"
            ],
            [
             0.4444444444444444,
             "#bd3786"
            ],
            [
             0.5555555555555556,
             "#d8576b"
            ],
            [
             0.6666666666666666,
             "#ed7953"
            ],
            [
             0.7777777777777778,
             "#fb9f3a"
            ],
            [
             0.8888888888888888,
             "#fdca26"
            ],
            [
             1,
             "#f0f921"
            ]
           ],
           "sequentialminus": [
            [
             0,
             "#0d0887"
            ],
            [
             0.1111111111111111,
             "#46039f"
            ],
            [
             0.2222222222222222,
             "#7201a8"
            ],
            [
             0.3333333333333333,
             "#9c179e"
            ],
            [
             0.4444444444444444,
             "#bd3786"
            ],
            [
             0.5555555555555556,
             "#d8576b"
            ],
            [
             0.6666666666666666,
             "#ed7953"
            ],
            [
             0.7777777777777778,
             "#fb9f3a"
            ],
            [
             0.8888888888888888,
             "#fdca26"
            ],
            [
             1,
             "#f0f921"
            ]
           ]
          },
          "colorway": [
           "#636efa",
           "#EF553B",
           "#00cc96",
           "#ab63fa",
           "#FFA15A",
           "#19d3f3",
           "#FF6692",
           "#B6E880",
           "#FF97FF",
           "#FECB52"
          ],
          "font": {
           "color": "#f2f5fa"
          },
          "geo": {
           "bgcolor": "rgb(17,17,17)",
           "lakecolor": "rgb(17,17,17)",
           "landcolor": "rgb(17,17,17)",
           "showlakes": true,
           "showland": true,
           "subunitcolor": "#506784"
          },
          "hoverlabel": {
           "align": "left"
          },
          "hovermode": "closest",
          "mapbox": {
           "style": "dark"
          },
          "paper_bgcolor": "rgb(17,17,17)",
          "plot_bgcolor": "rgb(17,17,17)",
          "polar": {
           "angularaxis": {
            "gridcolor": "#506784",
            "linecolor": "#506784",
            "ticks": ""
           },
           "bgcolor": "rgb(17,17,17)",
           "radialaxis": {
            "gridcolor": "#506784",
            "linecolor": "#506784",
            "ticks": ""
           }
          },
          "scene": {
           "xaxis": {
            "backgroundcolor": "rgb(17,17,17)",
            "gridcolor": "#506784",
            "gridwidth": 2,
            "linecolor": "#506784",
            "showbackground": true,
            "ticks": "",
            "zerolinecolor": "#C8D4E3"
           },
           "yaxis": {
            "backgroundcolor": "rgb(17,17,17)",
            "gridcolor": "#506784",
            "gridwidth": 2,
            "linecolor": "#506784",
            "showbackground": true,
            "ticks": "",
            "zerolinecolor": "#C8D4E3"
           },
           "zaxis": {
            "backgroundcolor": "rgb(17,17,17)",
            "gridcolor": "#506784",
            "gridwidth": 2,
            "linecolor": "#506784",
            "showbackground": true,
            "ticks": "",
            "zerolinecolor": "#C8D4E3"
           }
          },
          "shapedefaults": {
           "line": {
            "color": "#f2f5fa"
           }
          },
          "sliderdefaults": {
           "bgcolor": "#C8D4E3",
           "bordercolor": "rgb(17,17,17)",
           "borderwidth": 1,
           "tickwidth": 0
          },
          "ternary": {
           "aaxis": {
            "gridcolor": "#506784",
            "linecolor": "#506784",
            "ticks": ""
           },
           "baxis": {
            "gridcolor": "#506784",
            "linecolor": "#506784",
            "ticks": ""
           },
           "bgcolor": "rgb(17,17,17)",
           "caxis": {
            "gridcolor": "#506784",
            "linecolor": "#506784",
            "ticks": ""
           }
          },
          "title": {
           "x": 0.05
          },
          "updatemenudefaults": {
           "bgcolor": "#506784",
           "borderwidth": 0
          },
          "xaxis": {
           "automargin": true,
           "gridcolor": "#283442",
           "linecolor": "#506784",
           "ticks": "",
           "title": {
            "standoff": 15
           },
           "zerolinecolor": "#283442",
           "zerolinewidth": 2
          },
          "yaxis": {
           "automargin": true,
           "gridcolor": "#283442",
           "linecolor": "#506784",
           "ticks": "",
           "title": {
            "standoff": 15
           },
           "zerolinecolor": "#283442",
           "zerolinewidth": 2
          }
         }
        },
        "title": {
         "text": "Train vs Test Loss"
        },
        "width": 800,
        "xaxis": {
         "gridcolor": "gray",
         "gridwidth": 1,
         "linecolor": "white",
         "linewidth": 2,
         "mirror": true,
         "showgrid": true,
         "tickmode": "array",
         "tickvals": [
          1,
          5,
          10,
          15,
          20,
          25,
          30
         ],
         "title": {
          "text": "Epoch"
         },
         "zeroline": true,
         "zerolinewidth": 2
        },
        "yaxis": {
         "gridcolor": "gray",
         "gridwidth": 1,
         "linecolor": "white",
         "linewidth": 2,
         "mirror": true,
         "showgrid": true,
         "title": {
          "text": "Loss"
         },
         "zeroline": true,
         "zerolinewidth": 2
        }
       }
      },
      "text/html": [
       "<div>            <script src=\"https://cdnjs.cloudflare.com/ajax/libs/mathjax/2.7.5/MathJax.js?config=TeX-AMS-MML_SVG\"></script><script type=\"text/javascript\">if (window.MathJax && window.MathJax.Hub && window.MathJax.Hub.Config) {window.MathJax.Hub.Config({SVG: {font: \"STIX-Web\"}});}</script>                <script type=\"text/javascript\">window.PlotlyConfig = {MathJaxConfig: 'local'};</script>\n",
       "        <script charset=\"utf-8\" src=\"https://cdn.plot.ly/plotly-3.0.1.min.js\"></script>                <div id=\"146938b5-d505-40b7-a513-8dd52724a091\" class=\"plotly-graph-div\" style=\"height:420px; width:800px;\"></div>            <script type=\"text/javascript\">                window.PLOTLYENV=window.PLOTLYENV || {};                                if (document.getElementById(\"146938b5-d505-40b7-a513-8dd52724a091\")) {                    Plotly.newPlot(                        \"146938b5-d505-40b7-a513-8dd52724a091\",                        [{\"hoverinfo\":\"text\",\"hovertext\":[\"Epoch 1: 1.3667\",\"Epoch 2: 1.0803\",\"Epoch 3: 0.9044\",\"Epoch 4: 0.8396\",\"Epoch 5: 0.8030\",\"Epoch 6: 0.7784\",\"Epoch 7: 0.7598\",\"Epoch 8: 0.7463\",\"Epoch 9: 0.7348\",\"Epoch 10: 0.7251\",\"Epoch 11: 0.7175\",\"Epoch 12: 0.7112\",\"Epoch 13: 0.7052\",\"Epoch 14: 0.7001\",\"Epoch 15: 0.6949\",\"Epoch 16: 0.6906\",\"Epoch 17: 0.6854\",\"Epoch 18: 0.6819\",\"Epoch 19: 0.6774\",\"Epoch 20: 0.6748\",\"Epoch 21: 0.6721\",\"Epoch 22: 0.6685\",\"Epoch 23: 0.6660\",\"Epoch 24: 0.6636\",\"Epoch 25: 0.6610\",\"Epoch 26: 0.6589\",\"Epoch 27: 0.6574\",\"Epoch 28: 0.6562\",\"Epoch 29: 0.6531\",\"Epoch 30: 0.6519\"],\"line\":{\"width\":3},\"mode\":\"lines+markers\",\"name\":\"Train Loss\",\"x\":[1,2,3,4,5,6,7,8,9,10,11,12,13,14,15,16,17,18,19,20,21,22,23,24,25,26,27,28,29,30],\"y\":[1.3667077322322587,1.080289701829802,0.9044023974033508,0.8396205626063593,0.8030404782658078,0.7783902983632583,0.7597968890517994,0.7463388415495866,0.7347816076355792,0.7250686237137508,0.7174863797377679,0.7111829657112685,0.7052400115624696,0.7001038854169361,0.6948989335850397,0.6905623365437883,0.6853721517812383,0.6819250582727381,0.6774096331480999,0.674800313707552,0.6720990191514594,0.6684642060957754,0.6660067122293407,0.6636258657725145,0.6610427835234124,0.6588755697020806,0.6573604580855853,0.6561544102902688,0.6530537195342041,0.6519089145918648],\"type\":\"scatter\"},{\"hoverinfo\":\"text\",\"hovertext\":[\"Epoch 1: 1.1748\",\"Epoch 2: 0.9615\",\"Epoch 3: 0.8625\",\"Epoch 4: 0.8206\",\"Epoch 5: 0.7935\",\"Epoch 6: 0.7763\",\"Epoch 7: 0.7629\",\"Epoch 8: 0.7522\",\"Epoch 9: 0.7424\",\"Epoch 10: 0.7381\",\"Epoch 11: 0.7327\",\"Epoch 12: 0.7238\",\"Epoch 13: 0.7219\",\"Epoch 14: 0.7181\",\"Epoch 15: 0.7135\",\"Epoch 16: 0.7157\",\"Epoch 17: 0.7086\",\"Epoch 18: 0.7062\",\"Epoch 19: 0.7046\",\"Epoch 20: 0.7032\",\"Epoch 21: 0.7009\",\"Epoch 22: 0.6961\",\"Epoch 23: 0.6975\",\"Epoch 24: 0.6949\",\"Epoch 25: 0.6961\",\"Epoch 26: 0.6965\",\"Epoch 27: 0.6946\",\"Epoch 28: 0.6924\",\"Epoch 29: 0.6932\",\"Epoch 30: 0.6936\"],\"line\":{\"width\":3},\"mode\":\"lines+markers\",\"name\":\"Test Loss\",\"x\":[1,2,3,4,5,6,7,8,9,10,11,12,13,14,15,16,17,18,19,20,21,22,23,24,25,26,27,28,29,30],\"y\":[1.1748443047205608,0.9614819395959584,0.8625156644256763,0.820619236957705,0.7935161294703877,0.7762562287615379,0.7628866086602689,0.7522116069231591,0.7423610663515972,0.7380927090688174,0.7326894414294247,0.723845843897883,0.7218963643568335,0.7181248387784379,0.7135177294668174,0.7156663394745453,0.7085991560600238,0.7062269732678711,0.7045541184052398,0.7032043047366822,0.7008987128877984,0.6960902948552865,0.6974896517579997,0.6948638657808495,0.6960691414679859,0.6964637401014112,0.6945629645974456,0.6924313734285782,0.6932316503082485,0.6935811423420492],\"type\":\"scatter\"}],                        {\"height\":420,\"legend\":{\"bgcolor\":\"rgba(0,0,0,0.3)\",\"bordercolor\":\"white\",\"borderwidth\":1,\"x\":0.98,\"xanchor\":\"right\",\"y\":0.98,\"yanchor\":\"top\"},\"margin\":{\"b\":40,\"l\":40,\"r\":30,\"t\":40},\"paper_bgcolor\":\"rgba(30, 30, 30, 1)\",\"plot_bgcolor\":\"rgba(40, 40, 40, 1)\",\"template\":{\"data\":{\"barpolar\":[{\"marker\":{\"line\":{\"color\":\"rgb(17,17,17)\",\"width\":0.5},\"pattern\":{\"fillmode\":\"overlay\",\"size\":10,\"solidity\":0.2}},\"type\":\"barpolar\"}],\"bar\":[{\"error_x\":{\"color\":\"#f2f5fa\"},\"error_y\":{\"color\":\"#f2f5fa\"},\"marker\":{\"line\":{\"color\":\"rgb(17,17,17)\",\"width\":0.5},\"pattern\":{\"fillmode\":\"overlay\",\"size\":10,\"solidity\":0.2}},\"type\":\"bar\"}],\"carpet\":[{\"aaxis\":{\"endlinecolor\":\"#A2B1C6\",\"gridcolor\":\"#506784\",\"linecolor\":\"#506784\",\"minorgridcolor\":\"#506784\",\"startlinecolor\":\"#A2B1C6\"},\"baxis\":{\"endlinecolor\":\"#A2B1C6\",\"gridcolor\":\"#506784\",\"linecolor\":\"#506784\",\"minorgridcolor\":\"#506784\",\"startlinecolor\":\"#A2B1C6\"},\"type\":\"carpet\"}],\"choropleth\":[{\"colorbar\":{\"outlinewidth\":0,\"ticks\":\"\"},\"type\":\"choropleth\"}],\"contourcarpet\":[{\"colorbar\":{\"outlinewidth\":0,\"ticks\":\"\"},\"type\":\"contourcarpet\"}],\"contour\":[{\"colorbar\":{\"outlinewidth\":0,\"ticks\":\"\"},\"colorscale\":[[0.0,\"#0d0887\"],[0.1111111111111111,\"#46039f\"],[0.2222222222222222,\"#7201a8\"],[0.3333333333333333,\"#9c179e\"],[0.4444444444444444,\"#bd3786\"],[0.5555555555555556,\"#d8576b\"],[0.6666666666666666,\"#ed7953\"],[0.7777777777777778,\"#fb9f3a\"],[0.8888888888888888,\"#fdca26\"],[1.0,\"#f0f921\"]],\"type\":\"contour\"}],\"heatmap\":[{\"colorbar\":{\"outlinewidth\":0,\"ticks\":\"\"},\"colorscale\":[[0.0,\"#0d0887\"],[0.1111111111111111,\"#46039f\"],[0.2222222222222222,\"#7201a8\"],[0.3333333333333333,\"#9c179e\"],[0.4444444444444444,\"#bd3786\"],[0.5555555555555556,\"#d8576b\"],[0.6666666666666666,\"#ed7953\"],[0.7777777777777778,\"#fb9f3a\"],[0.8888888888888888,\"#fdca26\"],[1.0,\"#f0f921\"]],\"type\":\"heatmap\"}],\"histogram2dcontour\":[{\"colorbar\":{\"outlinewidth\":0,\"ticks\":\"\"},\"colorscale\":[[0.0,\"#0d0887\"],[0.1111111111111111,\"#46039f\"],[0.2222222222222222,\"#7201a8\"],[0.3333333333333333,\"#9c179e\"],[0.4444444444444444,\"#bd3786\"],[0.5555555555555556,\"#d8576b\"],[0.6666666666666666,\"#ed7953\"],[0.7777777777777778,\"#fb9f3a\"],[0.8888888888888888,\"#fdca26\"],[1.0,\"#f0f921\"]],\"type\":\"histogram2dcontour\"}],\"histogram2d\":[{\"colorbar\":{\"outlinewidth\":0,\"ticks\":\"\"},\"colorscale\":[[0.0,\"#0d0887\"],[0.1111111111111111,\"#46039f\"],[0.2222222222222222,\"#7201a8\"],[0.3333333333333333,\"#9c179e\"],[0.4444444444444444,\"#bd3786\"],[0.5555555555555556,\"#d8576b\"],[0.6666666666666666,\"#ed7953\"],[0.7777777777777778,\"#fb9f3a\"],[0.8888888888888888,\"#fdca26\"],[1.0,\"#f0f921\"]],\"type\":\"histogram2d\"}],\"histogram\":[{\"marker\":{\"pattern\":{\"fillmode\":\"overlay\",\"size\":10,\"solidity\":0.2}},\"type\":\"histogram\"}],\"mesh3d\":[{\"colorbar\":{\"outlinewidth\":0,\"ticks\":\"\"},\"type\":\"mesh3d\"}],\"parcoords\":[{\"line\":{\"colorbar\":{\"outlinewidth\":0,\"ticks\":\"\"}},\"type\":\"parcoords\"}],\"pie\":[{\"automargin\":true,\"type\":\"pie\"}],\"scatter3d\":[{\"line\":{\"colorbar\":{\"outlinewidth\":0,\"ticks\":\"\"}},\"marker\":{\"colorbar\":{\"outlinewidth\":0,\"ticks\":\"\"}},\"type\":\"scatter3d\"}],\"scattercarpet\":[{\"marker\":{\"colorbar\":{\"outlinewidth\":0,\"ticks\":\"\"}},\"type\":\"scattercarpet\"}],\"scattergeo\":[{\"marker\":{\"colorbar\":{\"outlinewidth\":0,\"ticks\":\"\"}},\"type\":\"scattergeo\"}],\"scattergl\":[{\"marker\":{\"line\":{\"color\":\"#283442\"}},\"type\":\"scattergl\"}],\"scattermapbox\":[{\"marker\":{\"colorbar\":{\"outlinewidth\":0,\"ticks\":\"\"}},\"type\":\"scattermapbox\"}],\"scattermap\":[{\"marker\":{\"colorbar\":{\"outlinewidth\":0,\"ticks\":\"\"}},\"type\":\"scattermap\"}],\"scatterpolargl\":[{\"marker\":{\"colorbar\":{\"outlinewidth\":0,\"ticks\":\"\"}},\"type\":\"scatterpolargl\"}],\"scatterpolar\":[{\"marker\":{\"colorbar\":{\"outlinewidth\":0,\"ticks\":\"\"}},\"type\":\"scatterpolar\"}],\"scatter\":[{\"marker\":{\"line\":{\"color\":\"#283442\"}},\"type\":\"scatter\"}],\"scatterternary\":[{\"marker\":{\"colorbar\":{\"outlinewidth\":0,\"ticks\":\"\"}},\"type\":\"scatterternary\"}],\"surface\":[{\"colorbar\":{\"outlinewidth\":0,\"ticks\":\"\"},\"colorscale\":[[0.0,\"#0d0887\"],[0.1111111111111111,\"#46039f\"],[0.2222222222222222,\"#7201a8\"],[0.3333333333333333,\"#9c179e\"],[0.4444444444444444,\"#bd3786\"],[0.5555555555555556,\"#d8576b\"],[0.6666666666666666,\"#ed7953\"],[0.7777777777777778,\"#fb9f3a\"],[0.8888888888888888,\"#fdca26\"],[1.0,\"#f0f921\"]],\"type\":\"surface\"}],\"table\":[{\"cells\":{\"fill\":{\"color\":\"#506784\"},\"line\":{\"color\":\"rgb(17,17,17)\"}},\"header\":{\"fill\":{\"color\":\"#2a3f5f\"},\"line\":{\"color\":\"rgb(17,17,17)\"}},\"type\":\"table\"}]},\"layout\":{\"annotationdefaults\":{\"arrowcolor\":\"#f2f5fa\",\"arrowhead\":0,\"arrowwidth\":1},\"autotypenumbers\":\"strict\",\"coloraxis\":{\"colorbar\":{\"outlinewidth\":0,\"ticks\":\"\"}},\"colorscale\":{\"diverging\":[[0,\"#8e0152\"],[0.1,\"#c51b7d\"],[0.2,\"#de77ae\"],[0.3,\"#f1b6da\"],[0.4,\"#fde0ef\"],[0.5,\"#f7f7f7\"],[0.6,\"#e6f5d0\"],[0.7,\"#b8e186\"],[0.8,\"#7fbc41\"],[0.9,\"#4d9221\"],[1,\"#276419\"]],\"sequential\":[[0.0,\"#0d0887\"],[0.1111111111111111,\"#46039f\"],[0.2222222222222222,\"#7201a8\"],[0.3333333333333333,\"#9c179e\"],[0.4444444444444444,\"#bd3786\"],[0.5555555555555556,\"#d8576b\"],[0.6666666666666666,\"#ed7953\"],[0.7777777777777778,\"#fb9f3a\"],[0.8888888888888888,\"#fdca26\"],[1.0,\"#f0f921\"]],\"sequentialminus\":[[0.0,\"#0d0887\"],[0.1111111111111111,\"#46039f\"],[0.2222222222222222,\"#7201a8\"],[0.3333333333333333,\"#9c179e\"],[0.4444444444444444,\"#bd3786\"],[0.5555555555555556,\"#d8576b\"],[0.6666666666666666,\"#ed7953\"],[0.7777777777777778,\"#fb9f3a\"],[0.8888888888888888,\"#fdca26\"],[1.0,\"#f0f921\"]]},\"colorway\":[\"#636efa\",\"#EF553B\",\"#00cc96\",\"#ab63fa\",\"#FFA15A\",\"#19d3f3\",\"#FF6692\",\"#B6E880\",\"#FF97FF\",\"#FECB52\"],\"font\":{\"color\":\"#f2f5fa\"},\"geo\":{\"bgcolor\":\"rgb(17,17,17)\",\"lakecolor\":\"rgb(17,17,17)\",\"landcolor\":\"rgb(17,17,17)\",\"showlakes\":true,\"showland\":true,\"subunitcolor\":\"#506784\"},\"hoverlabel\":{\"align\":\"left\"},\"hovermode\":\"closest\",\"mapbox\":{\"style\":\"dark\"},\"paper_bgcolor\":\"rgb(17,17,17)\",\"plot_bgcolor\":\"rgb(17,17,17)\",\"polar\":{\"angularaxis\":{\"gridcolor\":\"#506784\",\"linecolor\":\"#506784\",\"ticks\":\"\"},\"bgcolor\":\"rgb(17,17,17)\",\"radialaxis\":{\"gridcolor\":\"#506784\",\"linecolor\":\"#506784\",\"ticks\":\"\"}},\"scene\":{\"xaxis\":{\"backgroundcolor\":\"rgb(17,17,17)\",\"gridcolor\":\"#506784\",\"gridwidth\":2,\"linecolor\":\"#506784\",\"showbackground\":true,\"ticks\":\"\",\"zerolinecolor\":\"#C8D4E3\"},\"yaxis\":{\"backgroundcolor\":\"rgb(17,17,17)\",\"gridcolor\":\"#506784\",\"gridwidth\":2,\"linecolor\":\"#506784\",\"showbackground\":true,\"ticks\":\"\",\"zerolinecolor\":\"#C8D4E3\"},\"zaxis\":{\"backgroundcolor\":\"rgb(17,17,17)\",\"gridcolor\":\"#506784\",\"gridwidth\":2,\"linecolor\":\"#506784\",\"showbackground\":true,\"ticks\":\"\",\"zerolinecolor\":\"#C8D4E3\"}},\"shapedefaults\":{\"line\":{\"color\":\"#f2f5fa\"}},\"sliderdefaults\":{\"bgcolor\":\"#C8D4E3\",\"bordercolor\":\"rgb(17,17,17)\",\"borderwidth\":1,\"tickwidth\":0},\"ternary\":{\"aaxis\":{\"gridcolor\":\"#506784\",\"linecolor\":\"#506784\",\"ticks\":\"\"},\"baxis\":{\"gridcolor\":\"#506784\",\"linecolor\":\"#506784\",\"ticks\":\"\"},\"bgcolor\":\"rgb(17,17,17)\",\"caxis\":{\"gridcolor\":\"#506784\",\"linecolor\":\"#506784\",\"ticks\":\"\"}},\"title\":{\"x\":0.05},\"updatemenudefaults\":{\"bgcolor\":\"#506784\",\"borderwidth\":0},\"xaxis\":{\"automargin\":true,\"gridcolor\":\"#283442\",\"linecolor\":\"#506784\",\"ticks\":\"\",\"title\":{\"standoff\":15},\"zerolinecolor\":\"#283442\",\"zerolinewidth\":2},\"yaxis\":{\"automargin\":true,\"gridcolor\":\"#283442\",\"linecolor\":\"#506784\",\"ticks\":\"\",\"title\":{\"standoff\":15},\"zerolinecolor\":\"#283442\",\"zerolinewidth\":2}}},\"title\":{\"text\":\"Train vs Test Loss\"},\"width\":800,\"xaxis\":{\"gridcolor\":\"gray\",\"gridwidth\":1,\"linecolor\":\"white\",\"linewidth\":2,\"mirror\":true,\"showgrid\":true,\"tickmode\":\"array\",\"tickvals\":[1,5,10,15,20,25,30],\"title\":{\"text\":\"Epoch\"},\"zeroline\":true,\"zerolinewidth\":2},\"yaxis\":{\"gridcolor\":\"gray\",\"gridwidth\":1,\"linecolor\":\"white\",\"linewidth\":2,\"mirror\":true,\"showgrid\":true,\"title\":{\"text\":\"Loss\"},\"zeroline\":true,\"zerolinewidth\":2}},                        {\"responsive\": true}                    ).then(function(){\n",
       "                            \n",
       "var gd = document.getElementById('146938b5-d505-40b7-a513-8dd52724a091');\n",
       "var x = new MutationObserver(function (mutations, observer) {{\n",
       "        var display = window.getComputedStyle(gd).display;\n",
       "        if (!display || display === 'none') {{\n",
       "            console.log([gd, 'removed!']);\n",
       "            Plotly.purge(gd);\n",
       "            observer.disconnect();\n",
       "        }}\n",
       "}});\n",
       "\n",
       "// Listen for the removal of the full notebook cells\n",
       "var notebookContainer = gd.closest('#notebook-container');\n",
       "if (notebookContainer) {{\n",
       "    x.observe(notebookContainer, {childList: true});\n",
       "}}\n",
       "\n",
       "// Listen for the clearing of the current output cell\n",
       "var outputEl = gd.closest('.output');\n",
       "if (outputEl) {{\n",
       "    x.observe(outputEl, {childList: true});\n",
       "}}\n",
       "\n",
       "                        })                };            </script>        </div>"
      ]
     },
     "metadata": {},
     "output_type": "display_data"
    },
    {
     "data": {
      "application/vnd.plotly.v1+json": {
       "config": {
        "linkText": "Export to plot.ly",
        "plotlyServerURL": "https://plot.ly",
        "showLink": false
       },
       "data": [
        {
         "hoverinfo": "text",
         "hovertext": [
          "Epoch 1: 65.49%",
          "Epoch 2: 65.20%",
          "Epoch 3: 66.11%",
          "Epoch 4: 66.11%",
          "Epoch 5: 67.39%",
          "Epoch 6: 68.08%",
          "Epoch 7: 68.43%",
          "Epoch 8: 68.83%",
          "Epoch 9: 69.10%",
          "Epoch 10: 69.79%",
          "Epoch 11: 69.95%",
          "Epoch 12: 70.73%",
          "Epoch 13: 70.30%",
          "Epoch 14: 70.20%",
          "Epoch 15: 69.66%",
          "Epoch 16: 69.87%",
          "Epoch 17: 70.70%",
          "Epoch 18: 69.74%",
          "Epoch 19: 69.82%",
          "Epoch 20: 70.03%",
          "Epoch 21: 70.41%",
          "Epoch 22: 70.06%",
          "Epoch 23: 69.66%",
          "Epoch 24: 70.44%",
          "Epoch 25: 69.77%",
          "Epoch 26: 69.87%",
          "Epoch 27: 70.36%",
          "Epoch 28: 69.98%",
          "Epoch 29: 69.98%",
          "Epoch 30: 69.77%"
         ],
         "line": {
          "width": 3
         },
         "mode": "lines+markers",
         "name": "Test Accuracy",
         "type": "scatter",
         "x": [
          1,
          2,
          3,
          4,
          5,
          6,
          7,
          8,
          9,
          10,
          11,
          12,
          13,
          14,
          15,
          16,
          17,
          18,
          19,
          20,
          21,
          22,
          23,
          24,
          25,
          26,
          27,
          28,
          29,
          30
         ],
         "y": [
          65.49051055867415,
          65.19647153167602,
          66.1053194333066,
          66.1053194333066,
          67.38839882384389,
          68.08340016038493,
          68.43090082865544,
          68.83186313819834,
          69.09917134456028,
          69.79417268110132,
          69.95455760491848,
          70.72975140336808,
          70.30205827318899,
          70.1951349906442,
          69.66051857792034,
          69.8743651430099,
          70.7030205827319,
          69.74071103982892,
          69.8209035017375,
          70.03475006682706,
          70.40898155573376,
          70.06148088746325,
          69.66051857792034,
          70.43571237636995,
          69.76744186046511,
          69.8743651430099,
          70.35551991446137,
          69.98128842555467,
          69.98128842555467,
          69.76744186046511
         ]
        }
       ],
       "layout": {
        "height": 420,
        "legend": {
         "bgcolor": "rgba(0,0,0,0.3)",
         "bordercolor": "white",
         "borderwidth": 1,
         "x": 0.98,
         "xanchor": "right",
         "y": 0.98,
         "yanchor": "top"
        },
        "margin": {
         "b": 40,
         "l": 40,
         "r": 30,
         "t": 40
        },
        "paper_bgcolor": "rgba(30, 30, 30, 1)",
        "plot_bgcolor": "rgba(40, 40, 40, 1)",
        "shapes": [
         {
          "line": {
           "color": "orange",
           "dash": "dash",
           "width": 2
          },
          "type": "line",
          "x0": 1,
          "x1": 30,
          "y0": 70,
          "y1": 70
         }
        ],
        "template": {
         "data": {
          "bar": [
           {
            "error_x": {
             "color": "#f2f5fa"
            },
            "error_y": {
             "color": "#f2f5fa"
            },
            "marker": {
             "line": {
              "color": "rgb(17,17,17)",
              "width": 0.5
             },
             "pattern": {
              "fillmode": "overlay",
              "size": 10,
              "solidity": 0.2
             }
            },
            "type": "bar"
           }
          ],
          "barpolar": [
           {
            "marker": {
             "line": {
              "color": "rgb(17,17,17)",
              "width": 0.5
             },
             "pattern": {
              "fillmode": "overlay",
              "size": 10,
              "solidity": 0.2
             }
            },
            "type": "barpolar"
           }
          ],
          "carpet": [
           {
            "aaxis": {
             "endlinecolor": "#A2B1C6",
             "gridcolor": "#506784",
             "linecolor": "#506784",
             "minorgridcolor": "#506784",
             "startlinecolor": "#A2B1C6"
            },
            "baxis": {
             "endlinecolor": "#A2B1C6",
             "gridcolor": "#506784",
             "linecolor": "#506784",
             "minorgridcolor": "#506784",
             "startlinecolor": "#A2B1C6"
            },
            "type": "carpet"
           }
          ],
          "choropleth": [
           {
            "colorbar": {
             "outlinewidth": 0,
             "ticks": ""
            },
            "type": "choropleth"
           }
          ],
          "contour": [
           {
            "colorbar": {
             "outlinewidth": 0,
             "ticks": ""
            },
            "colorscale": [
             [
              0,
              "#0d0887"
             ],
             [
              0.1111111111111111,
              "#46039f"
             ],
             [
              0.2222222222222222,
              "#7201a8"
             ],
             [
              0.3333333333333333,
              "#9c179e"
             ],
             [
              0.4444444444444444,
              "#bd3786"
             ],
             [
              0.5555555555555556,
              "#d8576b"
             ],
             [
              0.6666666666666666,
              "#ed7953"
             ],
             [
              0.7777777777777778,
              "#fb9f3a"
             ],
             [
              0.8888888888888888,
              "#fdca26"
             ],
             [
              1,
              "#f0f921"
             ]
            ],
            "type": "contour"
           }
          ],
          "contourcarpet": [
           {
            "colorbar": {
             "outlinewidth": 0,
             "ticks": ""
            },
            "type": "contourcarpet"
           }
          ],
          "heatmap": [
           {
            "colorbar": {
             "outlinewidth": 0,
             "ticks": ""
            },
            "colorscale": [
             [
              0,
              "#0d0887"
             ],
             [
              0.1111111111111111,
              "#46039f"
             ],
             [
              0.2222222222222222,
              "#7201a8"
             ],
             [
              0.3333333333333333,
              "#9c179e"
             ],
             [
              0.4444444444444444,
              "#bd3786"
             ],
             [
              0.5555555555555556,
              "#d8576b"
             ],
             [
              0.6666666666666666,
              "#ed7953"
             ],
             [
              0.7777777777777778,
              "#fb9f3a"
             ],
             [
              0.8888888888888888,
              "#fdca26"
             ],
             [
              1,
              "#f0f921"
             ]
            ],
            "type": "heatmap"
           }
          ],
          "histogram": [
           {
            "marker": {
             "pattern": {
              "fillmode": "overlay",
              "size": 10,
              "solidity": 0.2
             }
            },
            "type": "histogram"
           }
          ],
          "histogram2d": [
           {
            "colorbar": {
             "outlinewidth": 0,
             "ticks": ""
            },
            "colorscale": [
             [
              0,
              "#0d0887"
             ],
             [
              0.1111111111111111,
              "#46039f"
             ],
             [
              0.2222222222222222,
              "#7201a8"
             ],
             [
              0.3333333333333333,
              "#9c179e"
             ],
             [
              0.4444444444444444,
              "#bd3786"
             ],
             [
              0.5555555555555556,
              "#d8576b"
             ],
             [
              0.6666666666666666,
              "#ed7953"
             ],
             [
              0.7777777777777778,
              "#fb9f3a"
             ],
             [
              0.8888888888888888,
              "#fdca26"
             ],
             [
              1,
              "#f0f921"
             ]
            ],
            "type": "histogram2d"
           }
          ],
          "histogram2dcontour": [
           {
            "colorbar": {
             "outlinewidth": 0,
             "ticks": ""
            },
            "colorscale": [
             [
              0,
              "#0d0887"
             ],
             [
              0.1111111111111111,
              "#46039f"
             ],
             [
              0.2222222222222222,
              "#7201a8"
             ],
             [
              0.3333333333333333,
              "#9c179e"
             ],
             [
              0.4444444444444444,
              "#bd3786"
             ],
             [
              0.5555555555555556,
              "#d8576b"
             ],
             [
              0.6666666666666666,
              "#ed7953"
             ],
             [
              0.7777777777777778,
              "#fb9f3a"
             ],
             [
              0.8888888888888888,
              "#fdca26"
             ],
             [
              1,
              "#f0f921"
             ]
            ],
            "type": "histogram2dcontour"
           }
          ],
          "mesh3d": [
           {
            "colorbar": {
             "outlinewidth": 0,
             "ticks": ""
            },
            "type": "mesh3d"
           }
          ],
          "parcoords": [
           {
            "line": {
             "colorbar": {
              "outlinewidth": 0,
              "ticks": ""
             }
            },
            "type": "parcoords"
           }
          ],
          "pie": [
           {
            "automargin": true,
            "type": "pie"
           }
          ],
          "scatter": [
           {
            "marker": {
             "line": {
              "color": "#283442"
             }
            },
            "type": "scatter"
           }
          ],
          "scatter3d": [
           {
            "line": {
             "colorbar": {
              "outlinewidth": 0,
              "ticks": ""
             }
            },
            "marker": {
             "colorbar": {
              "outlinewidth": 0,
              "ticks": ""
             }
            },
            "type": "scatter3d"
           }
          ],
          "scattercarpet": [
           {
            "marker": {
             "colorbar": {
              "outlinewidth": 0,
              "ticks": ""
             }
            },
            "type": "scattercarpet"
           }
          ],
          "scattergeo": [
           {
            "marker": {
             "colorbar": {
              "outlinewidth": 0,
              "ticks": ""
             }
            },
            "type": "scattergeo"
           }
          ],
          "scattergl": [
           {
            "marker": {
             "line": {
              "color": "#283442"
             }
            },
            "type": "scattergl"
           }
          ],
          "scattermap": [
           {
            "marker": {
             "colorbar": {
              "outlinewidth": 0,
              "ticks": ""
             }
            },
            "type": "scattermap"
           }
          ],
          "scattermapbox": [
           {
            "marker": {
             "colorbar": {
              "outlinewidth": 0,
              "ticks": ""
             }
            },
            "type": "scattermapbox"
           }
          ],
          "scatterpolar": [
           {
            "marker": {
             "colorbar": {
              "outlinewidth": 0,
              "ticks": ""
             }
            },
            "type": "scatterpolar"
           }
          ],
          "scatterpolargl": [
           {
            "marker": {
             "colorbar": {
              "outlinewidth": 0,
              "ticks": ""
             }
            },
            "type": "scatterpolargl"
           }
          ],
          "scatterternary": [
           {
            "marker": {
             "colorbar": {
              "outlinewidth": 0,
              "ticks": ""
             }
            },
            "type": "scatterternary"
           }
          ],
          "surface": [
           {
            "colorbar": {
             "outlinewidth": 0,
             "ticks": ""
            },
            "colorscale": [
             [
              0,
              "#0d0887"
             ],
             [
              0.1111111111111111,
              "#46039f"
             ],
             [
              0.2222222222222222,
              "#7201a8"
             ],
             [
              0.3333333333333333,
              "#9c179e"
             ],
             [
              0.4444444444444444,
              "#bd3786"
             ],
             [
              0.5555555555555556,
              "#d8576b"
             ],
             [
              0.6666666666666666,
              "#ed7953"
             ],
             [
              0.7777777777777778,
              "#fb9f3a"
             ],
             [
              0.8888888888888888,
              "#fdca26"
             ],
             [
              1,
              "#f0f921"
             ]
            ],
            "type": "surface"
           }
          ],
          "table": [
           {
            "cells": {
             "fill": {
              "color": "#506784"
             },
             "line": {
              "color": "rgb(17,17,17)"
             }
            },
            "header": {
             "fill": {
              "color": "#2a3f5f"
             },
             "line": {
              "color": "rgb(17,17,17)"
             }
            },
            "type": "table"
           }
          ]
         },
         "layout": {
          "annotationdefaults": {
           "arrowcolor": "#f2f5fa",
           "arrowhead": 0,
           "arrowwidth": 1
          },
          "autotypenumbers": "strict",
          "coloraxis": {
           "colorbar": {
            "outlinewidth": 0,
            "ticks": ""
           }
          },
          "colorscale": {
           "diverging": [
            [
             0,
             "#8e0152"
            ],
            [
             0.1,
             "#c51b7d"
            ],
            [
             0.2,
             "#de77ae"
            ],
            [
             0.3,
             "#f1b6da"
            ],
            [
             0.4,
             "#fde0ef"
            ],
            [
             0.5,
             "#f7f7f7"
            ],
            [
             0.6,
             "#e6f5d0"
            ],
            [
             0.7,
             "#b8e186"
            ],
            [
             0.8,
             "#7fbc41"
            ],
            [
             0.9,
             "#4d9221"
            ],
            [
             1,
             "#276419"
            ]
           ],
           "sequential": [
            [
             0,
             "#0d0887"
            ],
            [
             0.1111111111111111,
             "#46039f"
            ],
            [
             0.2222222222222222,
             "#7201a8"
            ],
            [
             0.3333333333333333,
             "#9c179e"
            ],
            [
             0.4444444444444444,
             "#bd3786"
            ],
            [
             0.5555555555555556,
             "#d8576b"
            ],
            [
             0.6666666666666666,
             "#ed7953"
            ],
            [
             0.7777777777777778,
             "#fb9f3a"
            ],
            [
             0.8888888888888888,
             "#fdca26"
            ],
            [
             1,
             "#f0f921"
            ]
           ],
           "sequentialminus": [
            [
             0,
             "#0d0887"
            ],
            [
             0.1111111111111111,
             "#46039f"
            ],
            [
             0.2222222222222222,
             "#7201a8"
            ],
            [
             0.3333333333333333,
             "#9c179e"
            ],
            [
             0.4444444444444444,
             "#bd3786"
            ],
            [
             0.5555555555555556,
             "#d8576b"
            ],
            [
             0.6666666666666666,
             "#ed7953"
            ],
            [
             0.7777777777777778,
             "#fb9f3a"
            ],
            [
             0.8888888888888888,
             "#fdca26"
            ],
            [
             1,
             "#f0f921"
            ]
           ]
          },
          "colorway": [
           "#636efa",
           "#EF553B",
           "#00cc96",
           "#ab63fa",
           "#FFA15A",
           "#19d3f3",
           "#FF6692",
           "#B6E880",
           "#FF97FF",
           "#FECB52"
          ],
          "font": {
           "color": "#f2f5fa"
          },
          "geo": {
           "bgcolor": "rgb(17,17,17)",
           "lakecolor": "rgb(17,17,17)",
           "landcolor": "rgb(17,17,17)",
           "showlakes": true,
           "showland": true,
           "subunitcolor": "#506784"
          },
          "hoverlabel": {
           "align": "left"
          },
          "hovermode": "closest",
          "mapbox": {
           "style": "dark"
          },
          "paper_bgcolor": "rgb(17,17,17)",
          "plot_bgcolor": "rgb(17,17,17)",
          "polar": {
           "angularaxis": {
            "gridcolor": "#506784",
            "linecolor": "#506784",
            "ticks": ""
           },
           "bgcolor": "rgb(17,17,17)",
           "radialaxis": {
            "gridcolor": "#506784",
            "linecolor": "#506784",
            "ticks": ""
           }
          },
          "scene": {
           "xaxis": {
            "backgroundcolor": "rgb(17,17,17)",
            "gridcolor": "#506784",
            "gridwidth": 2,
            "linecolor": "#506784",
            "showbackground": true,
            "ticks": "",
            "zerolinecolor": "#C8D4E3"
           },
           "yaxis": {
            "backgroundcolor": "rgb(17,17,17)",
            "gridcolor": "#506784",
            "gridwidth": 2,
            "linecolor": "#506784",
            "showbackground": true,
            "ticks": "",
            "zerolinecolor": "#C8D4E3"
           },
           "zaxis": {
            "backgroundcolor": "rgb(17,17,17)",
            "gridcolor": "#506784",
            "gridwidth": 2,
            "linecolor": "#506784",
            "showbackground": true,
            "ticks": "",
            "zerolinecolor": "#C8D4E3"
           }
          },
          "shapedefaults": {
           "line": {
            "color": "#f2f5fa"
           }
          },
          "sliderdefaults": {
           "bgcolor": "#C8D4E3",
           "bordercolor": "rgb(17,17,17)",
           "borderwidth": 1,
           "tickwidth": 0
          },
          "ternary": {
           "aaxis": {
            "gridcolor": "#506784",
            "linecolor": "#506784",
            "ticks": ""
           },
           "baxis": {
            "gridcolor": "#506784",
            "linecolor": "#506784",
            "ticks": ""
           },
           "bgcolor": "rgb(17,17,17)",
           "caxis": {
            "gridcolor": "#506784",
            "linecolor": "#506784",
            "ticks": ""
           }
          },
          "title": {
           "x": 0.05
          },
          "updatemenudefaults": {
           "bgcolor": "#506784",
           "borderwidth": 0
          },
          "xaxis": {
           "automargin": true,
           "gridcolor": "#283442",
           "linecolor": "#506784",
           "ticks": "",
           "title": {
            "standoff": 15
           },
           "zerolinecolor": "#283442",
           "zerolinewidth": 2
          },
          "yaxis": {
           "automargin": true,
           "gridcolor": "#283442",
           "linecolor": "#506784",
           "ticks": "",
           "title": {
            "standoff": 15
           },
           "zerolinecolor": "#283442",
           "zerolinewidth": 2
          }
         }
        },
        "title": {
         "text": "Test Accuracy Over Time"
        },
        "width": 800,
        "xaxis": {
         "gridcolor": "gray",
         "gridwidth": 1,
         "linecolor": "white",
         "linewidth": 2,
         "mirror": true,
         "showgrid": true,
         "tickmode": "array",
         "tickvals": [
          1,
          5,
          10,
          15,
          20,
          25,
          30
         ],
         "title": {
          "text": "Epoch"
         },
         "zeroline": true,
         "zerolinewidth": 2
        },
        "yaxis": {
         "gridcolor": "gray",
         "gridwidth": 1,
         "linecolor": "white",
         "linewidth": 2,
         "mirror": true,
         "showgrid": true,
         "title": {
          "text": "Accuracy (%)"
         },
         "zeroline": true,
         "zerolinewidth": 2
        }
       }
      },
      "text/html": [
       "<div>            <script src=\"https://cdnjs.cloudflare.com/ajax/libs/mathjax/2.7.5/MathJax.js?config=TeX-AMS-MML_SVG\"></script><script type=\"text/javascript\">if (window.MathJax && window.MathJax.Hub && window.MathJax.Hub.Config) {window.MathJax.Hub.Config({SVG: {font: \"STIX-Web\"}});}</script>                <script type=\"text/javascript\">window.PlotlyConfig = {MathJaxConfig: 'local'};</script>\n",
       "        <script charset=\"utf-8\" src=\"https://cdn.plot.ly/plotly-3.0.1.min.js\"></script>                <div id=\"949146f8-f4b7-4767-9668-545b3b8478b0\" class=\"plotly-graph-div\" style=\"height:420px; width:800px;\"></div>            <script type=\"text/javascript\">                window.PLOTLYENV=window.PLOTLYENV || {};                                if (document.getElementById(\"949146f8-f4b7-4767-9668-545b3b8478b0\")) {                    Plotly.newPlot(                        \"949146f8-f4b7-4767-9668-545b3b8478b0\",                        [{\"hoverinfo\":\"text\",\"hovertext\":[\"Epoch 1: 65.49%\",\"Epoch 2: 65.20%\",\"Epoch 3: 66.11%\",\"Epoch 4: 66.11%\",\"Epoch 5: 67.39%\",\"Epoch 6: 68.08%\",\"Epoch 7: 68.43%\",\"Epoch 8: 68.83%\",\"Epoch 9: 69.10%\",\"Epoch 10: 69.79%\",\"Epoch 11: 69.95%\",\"Epoch 12: 70.73%\",\"Epoch 13: 70.30%\",\"Epoch 14: 70.20%\",\"Epoch 15: 69.66%\",\"Epoch 16: 69.87%\",\"Epoch 17: 70.70%\",\"Epoch 18: 69.74%\",\"Epoch 19: 69.82%\",\"Epoch 20: 70.03%\",\"Epoch 21: 70.41%\",\"Epoch 22: 70.06%\",\"Epoch 23: 69.66%\",\"Epoch 24: 70.44%\",\"Epoch 25: 69.77%\",\"Epoch 26: 69.87%\",\"Epoch 27: 70.36%\",\"Epoch 28: 69.98%\",\"Epoch 29: 69.98%\",\"Epoch 30: 69.77%\"],\"line\":{\"width\":3},\"mode\":\"lines+markers\",\"name\":\"Test Accuracy\",\"x\":[1,2,3,4,5,6,7,8,9,10,11,12,13,14,15,16,17,18,19,20,21,22,23,24,25,26,27,28,29,30],\"y\":[65.49051055867415,65.19647153167602,66.1053194333066,66.1053194333066,67.38839882384389,68.08340016038493,68.43090082865544,68.83186313819834,69.09917134456028,69.79417268110132,69.95455760491848,70.72975140336808,70.30205827318899,70.1951349906442,69.66051857792034,69.8743651430099,70.7030205827319,69.74071103982892,69.8209035017375,70.03475006682706,70.40898155573376,70.06148088746325,69.66051857792034,70.43571237636995,69.76744186046511,69.8743651430099,70.35551991446137,69.98128842555467,69.98128842555467,69.76744186046511],\"type\":\"scatter\"}],                        {\"height\":420,\"legend\":{\"bgcolor\":\"rgba(0,0,0,0.3)\",\"bordercolor\":\"white\",\"borderwidth\":1,\"x\":0.98,\"xanchor\":\"right\",\"y\":0.98,\"yanchor\":\"top\"},\"margin\":{\"b\":40,\"l\":40,\"r\":30,\"t\":40},\"paper_bgcolor\":\"rgba(30, 30, 30, 1)\",\"plot_bgcolor\":\"rgba(40, 40, 40, 1)\",\"shapes\":[{\"line\":{\"color\":\"orange\",\"dash\":\"dash\",\"width\":2},\"type\":\"line\",\"x0\":1,\"x1\":30,\"y0\":70,\"y1\":70}],\"template\":{\"data\":{\"barpolar\":[{\"marker\":{\"line\":{\"color\":\"rgb(17,17,17)\",\"width\":0.5},\"pattern\":{\"fillmode\":\"overlay\",\"size\":10,\"solidity\":0.2}},\"type\":\"barpolar\"}],\"bar\":[{\"error_x\":{\"color\":\"#f2f5fa\"},\"error_y\":{\"color\":\"#f2f5fa\"},\"marker\":{\"line\":{\"color\":\"rgb(17,17,17)\",\"width\":0.5},\"pattern\":{\"fillmode\":\"overlay\",\"size\":10,\"solidity\":0.2}},\"type\":\"bar\"}],\"carpet\":[{\"aaxis\":{\"endlinecolor\":\"#A2B1C6\",\"gridcolor\":\"#506784\",\"linecolor\":\"#506784\",\"minorgridcolor\":\"#506784\",\"startlinecolor\":\"#A2B1C6\"},\"baxis\":{\"endlinecolor\":\"#A2B1C6\",\"gridcolor\":\"#506784\",\"linecolor\":\"#506784\",\"minorgridcolor\":\"#506784\",\"startlinecolor\":\"#A2B1C6\"},\"type\":\"carpet\"}],\"choropleth\":[{\"colorbar\":{\"outlinewidth\":0,\"ticks\":\"\"},\"type\":\"choropleth\"}],\"contourcarpet\":[{\"colorbar\":{\"outlinewidth\":0,\"ticks\":\"\"},\"type\":\"contourcarpet\"}],\"contour\":[{\"colorbar\":{\"outlinewidth\":0,\"ticks\":\"\"},\"colorscale\":[[0.0,\"#0d0887\"],[0.1111111111111111,\"#46039f\"],[0.2222222222222222,\"#7201a8\"],[0.3333333333333333,\"#9c179e\"],[0.4444444444444444,\"#bd3786\"],[0.5555555555555556,\"#d8576b\"],[0.6666666666666666,\"#ed7953\"],[0.7777777777777778,\"#fb9f3a\"],[0.8888888888888888,\"#fdca26\"],[1.0,\"#f0f921\"]],\"type\":\"contour\"}],\"heatmap\":[{\"colorbar\":{\"outlinewidth\":0,\"ticks\":\"\"},\"colorscale\":[[0.0,\"#0d0887\"],[0.1111111111111111,\"#46039f\"],[0.2222222222222222,\"#7201a8\"],[0.3333333333333333,\"#9c179e\"],[0.4444444444444444,\"#bd3786\"],[0.5555555555555556,\"#d8576b\"],[0.6666666666666666,\"#ed7953\"],[0.7777777777777778,\"#fb9f3a\"],[0.8888888888888888,\"#fdca26\"],[1.0,\"#f0f921\"]],\"type\":\"heatmap\"}],\"histogram2dcontour\":[{\"colorbar\":{\"outlinewidth\":0,\"ticks\":\"\"},\"colorscale\":[[0.0,\"#0d0887\"],[0.1111111111111111,\"#46039f\"],[0.2222222222222222,\"#7201a8\"],[0.3333333333333333,\"#9c179e\"],[0.4444444444444444,\"#bd3786\"],[0.5555555555555556,\"#d8576b\"],[0.6666666666666666,\"#ed7953\"],[0.7777777777777778,\"#fb9f3a\"],[0.8888888888888888,\"#fdca26\"],[1.0,\"#f0f921\"]],\"type\":\"histogram2dcontour\"}],\"histogram2d\":[{\"colorbar\":{\"outlinewidth\":0,\"ticks\":\"\"},\"colorscale\":[[0.0,\"#0d0887\"],[0.1111111111111111,\"#46039f\"],[0.2222222222222222,\"#7201a8\"],[0.3333333333333333,\"#9c179e\"],[0.4444444444444444,\"#bd3786\"],[0.5555555555555556,\"#d8576b\"],[0.6666666666666666,\"#ed7953\"],[0.7777777777777778,\"#fb9f3a\"],[0.8888888888888888,\"#fdca26\"],[1.0,\"#f0f921\"]],\"type\":\"histogram2d\"}],\"histogram\":[{\"marker\":{\"pattern\":{\"fillmode\":\"overlay\",\"size\":10,\"solidity\":0.2}},\"type\":\"histogram\"}],\"mesh3d\":[{\"colorbar\":{\"outlinewidth\":0,\"ticks\":\"\"},\"type\":\"mesh3d\"}],\"parcoords\":[{\"line\":{\"colorbar\":{\"outlinewidth\":0,\"ticks\":\"\"}},\"type\":\"parcoords\"}],\"pie\":[{\"automargin\":true,\"type\":\"pie\"}],\"scatter3d\":[{\"line\":{\"colorbar\":{\"outlinewidth\":0,\"ticks\":\"\"}},\"marker\":{\"colorbar\":{\"outlinewidth\":0,\"ticks\":\"\"}},\"type\":\"scatter3d\"}],\"scattercarpet\":[{\"marker\":{\"colorbar\":{\"outlinewidth\":0,\"ticks\":\"\"}},\"type\":\"scattercarpet\"}],\"scattergeo\":[{\"marker\":{\"colorbar\":{\"outlinewidth\":0,\"ticks\":\"\"}},\"type\":\"scattergeo\"}],\"scattergl\":[{\"marker\":{\"line\":{\"color\":\"#283442\"}},\"type\":\"scattergl\"}],\"scattermapbox\":[{\"marker\":{\"colorbar\":{\"outlinewidth\":0,\"ticks\":\"\"}},\"type\":\"scattermapbox\"}],\"scattermap\":[{\"marker\":{\"colorbar\":{\"outlinewidth\":0,\"ticks\":\"\"}},\"type\":\"scattermap\"}],\"scatterpolargl\":[{\"marker\":{\"colorbar\":{\"outlinewidth\":0,\"ticks\":\"\"}},\"type\":\"scatterpolargl\"}],\"scatterpolar\":[{\"marker\":{\"colorbar\":{\"outlinewidth\":0,\"ticks\":\"\"}},\"type\":\"scatterpolar\"}],\"scatter\":[{\"marker\":{\"line\":{\"color\":\"#283442\"}},\"type\":\"scatter\"}],\"scatterternary\":[{\"marker\":{\"colorbar\":{\"outlinewidth\":0,\"ticks\":\"\"}},\"type\":\"scatterternary\"}],\"surface\":[{\"colorbar\":{\"outlinewidth\":0,\"ticks\":\"\"},\"colorscale\":[[0.0,\"#0d0887\"],[0.1111111111111111,\"#46039f\"],[0.2222222222222222,\"#7201a8\"],[0.3333333333333333,\"#9c179e\"],[0.4444444444444444,\"#bd3786\"],[0.5555555555555556,\"#d8576b\"],[0.6666666666666666,\"#ed7953\"],[0.7777777777777778,\"#fb9f3a\"],[0.8888888888888888,\"#fdca26\"],[1.0,\"#f0f921\"]],\"type\":\"surface\"}],\"table\":[{\"cells\":{\"fill\":{\"color\":\"#506784\"},\"line\":{\"color\":\"rgb(17,17,17)\"}},\"header\":{\"fill\":{\"color\":\"#2a3f5f\"},\"line\":{\"color\":\"rgb(17,17,17)\"}},\"type\":\"table\"}]},\"layout\":{\"annotationdefaults\":{\"arrowcolor\":\"#f2f5fa\",\"arrowhead\":0,\"arrowwidth\":1},\"autotypenumbers\":\"strict\",\"coloraxis\":{\"colorbar\":{\"outlinewidth\":0,\"ticks\":\"\"}},\"colorscale\":{\"diverging\":[[0,\"#8e0152\"],[0.1,\"#c51b7d\"],[0.2,\"#de77ae\"],[0.3,\"#f1b6da\"],[0.4,\"#fde0ef\"],[0.5,\"#f7f7f7\"],[0.6,\"#e6f5d0\"],[0.7,\"#b8e186\"],[0.8,\"#7fbc41\"],[0.9,\"#4d9221\"],[1,\"#276419\"]],\"sequential\":[[0.0,\"#0d0887\"],[0.1111111111111111,\"#46039f\"],[0.2222222222222222,\"#7201a8\"],[0.3333333333333333,\"#9c179e\"],[0.4444444444444444,\"#bd3786\"],[0.5555555555555556,\"#d8576b\"],[0.6666666666666666,\"#ed7953\"],[0.7777777777777778,\"#fb9f3a\"],[0.8888888888888888,\"#fdca26\"],[1.0,\"#f0f921\"]],\"sequentialminus\":[[0.0,\"#0d0887\"],[0.1111111111111111,\"#46039f\"],[0.2222222222222222,\"#7201a8\"],[0.3333333333333333,\"#9c179e\"],[0.4444444444444444,\"#bd3786\"],[0.5555555555555556,\"#d8576b\"],[0.6666666666666666,\"#ed7953\"],[0.7777777777777778,\"#fb9f3a\"],[0.8888888888888888,\"#fdca26\"],[1.0,\"#f0f921\"]]},\"colorway\":[\"#636efa\",\"#EF553B\",\"#00cc96\",\"#ab63fa\",\"#FFA15A\",\"#19d3f3\",\"#FF6692\",\"#B6E880\",\"#FF97FF\",\"#FECB52\"],\"font\":{\"color\":\"#f2f5fa\"},\"geo\":{\"bgcolor\":\"rgb(17,17,17)\",\"lakecolor\":\"rgb(17,17,17)\",\"landcolor\":\"rgb(17,17,17)\",\"showlakes\":true,\"showland\":true,\"subunitcolor\":\"#506784\"},\"hoverlabel\":{\"align\":\"left\"},\"hovermode\":\"closest\",\"mapbox\":{\"style\":\"dark\"},\"paper_bgcolor\":\"rgb(17,17,17)\",\"plot_bgcolor\":\"rgb(17,17,17)\",\"polar\":{\"angularaxis\":{\"gridcolor\":\"#506784\",\"linecolor\":\"#506784\",\"ticks\":\"\"},\"bgcolor\":\"rgb(17,17,17)\",\"radialaxis\":{\"gridcolor\":\"#506784\",\"linecolor\":\"#506784\",\"ticks\":\"\"}},\"scene\":{\"xaxis\":{\"backgroundcolor\":\"rgb(17,17,17)\",\"gridcolor\":\"#506784\",\"gridwidth\":2,\"linecolor\":\"#506784\",\"showbackground\":true,\"ticks\":\"\",\"zerolinecolor\":\"#C8D4E3\"},\"yaxis\":{\"backgroundcolor\":\"rgb(17,17,17)\",\"gridcolor\":\"#506784\",\"gridwidth\":2,\"linecolor\":\"#506784\",\"showbackground\":true,\"ticks\":\"\",\"zerolinecolor\":\"#C8D4E3\"},\"zaxis\":{\"backgroundcolor\":\"rgb(17,17,17)\",\"gridcolor\":\"#506784\",\"gridwidth\":2,\"linecolor\":\"#506784\",\"showbackground\":true,\"ticks\":\"\",\"zerolinecolor\":\"#C8D4E3\"}},\"shapedefaults\":{\"line\":{\"color\":\"#f2f5fa\"}},\"sliderdefaults\":{\"bgcolor\":\"#C8D4E3\",\"bordercolor\":\"rgb(17,17,17)\",\"borderwidth\":1,\"tickwidth\":0},\"ternary\":{\"aaxis\":{\"gridcolor\":\"#506784\",\"linecolor\":\"#506784\",\"ticks\":\"\"},\"baxis\":{\"gridcolor\":\"#506784\",\"linecolor\":\"#506784\",\"ticks\":\"\"},\"bgcolor\":\"rgb(17,17,17)\",\"caxis\":{\"gridcolor\":\"#506784\",\"linecolor\":\"#506784\",\"ticks\":\"\"}},\"title\":{\"x\":0.05},\"updatemenudefaults\":{\"bgcolor\":\"#506784\",\"borderwidth\":0},\"xaxis\":{\"automargin\":true,\"gridcolor\":\"#283442\",\"linecolor\":\"#506784\",\"ticks\":\"\",\"title\":{\"standoff\":15},\"zerolinecolor\":\"#283442\",\"zerolinewidth\":2},\"yaxis\":{\"automargin\":true,\"gridcolor\":\"#283442\",\"linecolor\":\"#506784\",\"ticks\":\"\",\"title\":{\"standoff\":15},\"zerolinecolor\":\"#283442\",\"zerolinewidth\":2}}},\"title\":{\"text\":\"Test Accuracy Over Time\"},\"width\":800,\"xaxis\":{\"gridcolor\":\"gray\",\"gridwidth\":1,\"linecolor\":\"white\",\"linewidth\":2,\"mirror\":true,\"showgrid\":true,\"tickmode\":\"array\",\"tickvals\":[1,5,10,15,20,25,30],\"title\":{\"text\":\"Epoch\"},\"zeroline\":true,\"zerolinewidth\":2},\"yaxis\":{\"gridcolor\":\"gray\",\"gridwidth\":1,\"linecolor\":\"white\",\"linewidth\":2,\"mirror\":true,\"showgrid\":true,\"title\":{\"text\":\"Accuracy (%)\"},\"zeroline\":true,\"zerolinewidth\":2}},                        {\"responsive\": true}                    ).then(function(){\n",
       "                            \n",
       "var gd = document.getElementById('949146f8-f4b7-4767-9668-545b3b8478b0');\n",
       "var x = new MutationObserver(function (mutations, observer) {{\n",
       "        var display = window.getComputedStyle(gd).display;\n",
       "        if (!display || display === 'none') {{\n",
       "            console.log([gd, 'removed!']);\n",
       "            Plotly.purge(gd);\n",
       "            observer.disconnect();\n",
       "        }}\n",
       "}});\n",
       "\n",
       "// Listen for the removal of the full notebook cells\n",
       "var notebookContainer = gd.closest('#notebook-container');\n",
       "if (notebookContainer) {{\n",
       "    x.observe(notebookContainer, {childList: true});\n",
       "}}\n",
       "\n",
       "// Listen for the clearing of the current output cell\n",
       "var outputEl = gd.closest('.output');\n",
       "if (outputEl) {{\n",
       "    x.observe(outputEl, {childList: true});\n",
       "}}\n",
       "\n",
       "                        })                };            </script>        </div>"
      ]
     },
     "metadata": {},
     "output_type": "display_data"
    }
   ],
   "source": [
    "import plotly.graph_objects as go\n",
    "import plotly.offline as pyo\n",
    "pyo.init_notebook_mode(connected=True)\n",
    "\n",
    "\n",
    "# Create an x-axis based on epoch numbers\n",
    "epochs = list(range(1, EPOCHS + 1))\n",
    "x_ticks = [1] + list(range(5, EPOCHS + 1, 5))\n",
    "\n",
    "# Axis and layout styles\n",
    "axis_style = dict(\n",
    "    showgrid=True,\n",
    "    gridcolor='gray',\n",
    "    gridwidth=1,\n",
    "    zeroline=True,\n",
    "    zerolinewidth=2,\n",
    "    linecolor='white',\n",
    "    linewidth=2,\n",
    "    mirror=True\n",
    ")\n",
    "\n",
    "layout_style = dict(\n",
    "    template=\"plotly_dark\",\n",
    "    plot_bgcolor='rgba(40, 40, 40, 1)',  \n",
    "    paper_bgcolor='rgba(30, 30, 30, 1)', \n",
    "    width=800,\n",
    "    height=420,\n",
    "    margin=dict(l=40, r=30, t=40, b=40),\n",
    "    legend=dict(\n",
    "        x=0.98,\n",
    "        y=0.98,\n",
    "        xanchor='right',\n",
    "        yanchor='top',\n",
    "        bgcolor='rgba(0,0,0,0.3)',\n",
    "        bordercolor='white',\n",
    "        borderwidth=1\n",
    "    )\n",
    ")\n",
    "\n",
    "# Loss Plot\n",
    "fig_loss = go.Figure()\n",
    "fig_loss.add_trace(go.Scatter(\n",
    "    x=epochs,\n",
    "    y=train_losses,\n",
    "    mode='lines+markers',\n",
    "    name='Train Loss',\n",
    "    line=dict(width=3),\n",
    "    hovertext=[f\"Epoch {e}: {v:.4f}\" for e, v in zip(epochs, train_losses)],\n",
    "    hoverinfo=\"text\"\n",
    "))\n",
    "fig_loss.add_trace(go.Scatter(\n",
    "    x=epochs,\n",
    "    y=test_losses,\n",
    "    mode='lines+markers',\n",
    "    name='Test Loss',\n",
    "    line=dict(width=3),\n",
    "    hovertext=[f\"Epoch {e}: {v:.4f}\" for e, v in zip(epochs, test_losses)],\n",
    "    hoverinfo=\"text\"\n",
    "))\n",
    "fig_loss.update_layout(\n",
    "    title=\"Train vs Test Loss\",\n",
    "    xaxis=dict(title=\"Epoch\", tickmode='array', tickvals=x_ticks, **axis_style),\n",
    "    yaxis=dict(title=\"Loss\", **axis_style),\n",
    "    **layout_style\n",
    ")\n",
    "pyo.iplot(fig_loss)\n",
    "\n",
    "# Accuracy Plot\n",
    "fig_acc = go.Figure()\n",
    "fig_acc.add_trace(go.Scatter(\n",
    "    x=epochs,\n",
    "    y=accuracies,\n",
    "    mode='lines+markers',\n",
    "    name='Test Accuracy',\n",
    "    line=dict(width=3),\n",
    "    hovertext=[f\"Epoch {e}: {v:.2f}%\" for e, v in zip(epochs, accuracies)],\n",
    "    hoverinfo=\"text\"\n",
    "))\n",
    "fig_acc.add_shape(type='line', x0=1, x1=EPOCHS, y0=70, y1=70,\n",
    "                  line=dict(color='orange', width=2, dash='dash'))\n",
    "\n",
    "fig_acc.update_layout(\n",
    "    title=\"Test Accuracy Over Time\",\n",
    "    xaxis=dict(title=\"Epoch\", tickmode='array', tickvals=x_ticks, **axis_style),\n",
    "    yaxis=dict(title=\"Accuracy (%)\", **axis_style),\n",
    "    **layout_style\n",
    ")\n",
    "pyo.iplot(fig_acc)\n"
   ]
  }
 ],
 "metadata": {
  "kernelspec": {
   "display_name": ".venv",
   "language": "python",
   "name": "python3"
  },
  "language_info": {
   "codemirror_mode": {
    "name": "ipython",
    "version": 3
   },
   "file_extension": ".py",
   "mimetype": "text/x-python",
   "name": "python",
   "nbconvert_exporter": "python",
   "pygments_lexer": "ipython3",
   "version": "3.11.6"
  }
 },
 "nbformat": 4,
 "nbformat_minor": 5
}
