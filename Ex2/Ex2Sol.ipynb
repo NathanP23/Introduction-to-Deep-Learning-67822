{
  "cells": [
    {
      "cell_type": "markdown",
      "id": "0cf47033",
      "metadata": {
        "id": "0cf47033"
      },
      "source": [
        "# Introduction to Deep Learning 67822 - [Ex2](https://docs.google.com/document/d/1HdHzN-z-TDoVNHxM_3NR1WWvFvxM1H6sm1HyncPvcCA/edit?pli=1&tab=t.0)"
      ]
    },
    {
      "cell_type": "markdown",
      "id": "64532e0e",
      "metadata": {
        "id": "64532e0e"
      },
      "source": [
        "## Programming Tasks\n",
        "Classifying and encoding the MNISTdigit dataset.\n",
        "\n",
        "The MNIST dataset consists of 60,000 (+10,000 test) small images of scanned hand-written digits (0-9). The dataset contains the digits values as labels. The original images are 28-by-28 pixels. The images are monochromatic, i.e., have a single brightness channel with values between zero (black) and one (white).\n",
        "\n",
        "In this exercise we will design and train both autoencoding and classification CNN networks.\n",
        "\n",
        "Specific tasks:\n",
        "For every section that includes training, paste the code of the training loop at the end of the section. If there are inner functions, you don’t need to paste them, as long they have clear, informative names.  "
      ]
    },
    {
      "cell_type": "markdown",
      "id": "b7536cde",
      "metadata": {
        "id": "b7536cde"
      },
      "source": [
        "### 1\n",
        "**Autoencoder**. Define a convolutional autoencoder to encode (and decode) the images through a small dimensional latent space."
      ]
    },
    {
      "cell_type": "markdown",
      "id": "cb9ec6c6",
      "metadata": {
        "id": "cb9ec6c6"
      },
      "source": [
        "#### a\n",
        "How will you make the architecture flexible enough to choose any latent dim d, regardless of the number of channels chosen?"
      ]
    },
    {
      "cell_type": "code",
      "execution_count": 1,
      "id": "b0d93820",
      "metadata": {},
      "outputs": [
        {
          "name": "stdout",
          "output_type": "stream",
          "text": [
            "Small model: ConvAE(\n",
            "  (enc): Encoder(\n",
            "    (backbone): Sequential(\n",
            "      (0): Sequential(\n",
            "        (0): Conv2d(1, 4, kernel_size=(3, 3), stride=(2, 2), padding=(1, 1), bias=False)\n",
            "        (1): BatchNorm2d(4, eps=1e-05, momentum=0.1, affine=True, track_running_stats=True)\n",
            "        (2): ReLU(inplace=True)\n",
            "      )\n",
            "      (1): Sequential(\n",
            "        (0): Conv2d(4, 8, kernel_size=(3, 3), stride=(2, 2), padding=(1, 1), bias=False)\n",
            "        (1): BatchNorm2d(8, eps=1e-05, momentum=0.1, affine=True, track_running_stats=True)\n",
            "        (2): ReLU(inplace=True)\n",
            "      )\n",
            "      (2): Sequential(\n",
            "        (0): Conv2d(8, 16, kernel_size=(3, 3), stride=(2, 2), padding=(1, 1), bias=False)\n",
            "        (1): BatchNorm2d(16, eps=1e-05, momentum=0.1, affine=True, track_running_stats=True)\n",
            "        (2): ReLU(inplace=True)\n",
            "      )\n",
            "    )\n",
            "    (fc): Linear(in_features=256, out_features=4, bias=True)\n",
            "  )\n",
            "  (dec): Decoder(\n",
            "    (fc): Linear(in_features=4, out_features=256, bias=True)\n",
            "    (up): Sequential(\n",
            "      (0): Sequential(\n",
            "        (0): ConvTranspose2d(16, 8, kernel_size=(3, 3), stride=(2, 2), padding=(1, 1), bias=False)\n",
            "        (1): BatchNorm2d(8, eps=1e-05, momentum=0.1, affine=True, track_running_stats=True)\n",
            "        (2): ReLU(inplace=True)\n",
            "      )\n",
            "      (1): Sequential(\n",
            "        (0): ConvTranspose2d(8, 4, kernel_size=(3, 3), stride=(2, 2), padding=(1, 1), output_padding=(1, 1), bias=False)\n",
            "        (1): BatchNorm2d(4, eps=1e-05, momentum=0.1, affine=True, track_running_stats=True)\n",
            "        (2): ReLU(inplace=True)\n",
            "      )\n",
            "      (2): ConvTranspose2d(4, 1, kernel_size=(3, 3), stride=(2, 2), padding=(1, 1), output_padding=(1, 1))\n",
            "      (3): Sigmoid()\n",
            "    )\n",
            "  )\n",
            ")\n",
            "\n",
            "Big model: ConvAE(\n",
            "  (enc): Encoder(\n",
            "    (backbone): Sequential(\n",
            "      (0): Sequential(\n",
            "        (0): Conv2d(1, 16, kernel_size=(3, 3), stride=(2, 2), padding=(1, 1), bias=False)\n",
            "        (1): BatchNorm2d(16, eps=1e-05, momentum=0.1, affine=True, track_running_stats=True)\n",
            "        (2): ReLU(inplace=True)\n",
            "      )\n",
            "      (1): Sequential(\n",
            "        (0): Conv2d(16, 32, kernel_size=(3, 3), stride=(2, 2), padding=(1, 1), bias=False)\n",
            "        (1): BatchNorm2d(32, eps=1e-05, momentum=0.1, affine=True, track_running_stats=True)\n",
            "        (2): ReLU(inplace=True)\n",
            "      )\n",
            "      (2): Sequential(\n",
            "        (0): Conv2d(32, 64, kernel_size=(3, 3), stride=(2, 2), padding=(1, 1), bias=False)\n",
            "        (1): BatchNorm2d(64, eps=1e-05, momentum=0.1, affine=True, track_running_stats=True)\n",
            "        (2): ReLU(inplace=True)\n",
            "      )\n",
            "    )\n",
            "    (fc): Linear(in_features=1024, out_features=16, bias=True)\n",
            "  )\n",
            "  (dec): Decoder(\n",
            "    (fc): Linear(in_features=16, out_features=1024, bias=True)\n",
            "    (up): Sequential(\n",
            "      (0): Sequential(\n",
            "        (0): ConvTranspose2d(64, 32, kernel_size=(3, 3), stride=(2, 2), padding=(1, 1), bias=False)\n",
            "        (1): BatchNorm2d(32, eps=1e-05, momentum=0.1, affine=True, track_running_stats=True)\n",
            "        (2): ReLU(inplace=True)\n",
            "      )\n",
            "      (1): Sequential(\n",
            "        (0): ConvTranspose2d(32, 16, kernel_size=(3, 3), stride=(2, 2), padding=(1, 1), output_padding=(1, 1), bias=False)\n",
            "        (1): BatchNorm2d(16, eps=1e-05, momentum=0.1, affine=True, track_running_stats=True)\n",
            "        (2): ReLU(inplace=True)\n",
            "      )\n",
            "      (2): ConvTranspose2d(16, 1, kernel_size=(3, 3), stride=(2, 2), padding=(1, 1), output_padding=(1, 1))\n",
            "      (3): Sigmoid()\n",
            "    )\n",
            "  )\n",
            ")\n"
          ]
        }
      ],
      "source": [
        "from mnistlib.data import get_mnist_loaders\n",
        "from mnistlib.ae   import ConvAE\n",
        "\n",
        "# no training yet – just instantiation to prove flexibility\n",
        "loaders = get_mnist_loaders(bs=256)\n",
        "\n",
        "ae_4x4  = ConvAE(base_c=4 , d_latent=4 )\n",
        "ae_16x16 = ConvAE(base_c=16, d_latent=16)\n",
        "\n",
        "print(\"Small model:\", ae_4x4)\n",
        "print(\"\\nBig model:\", ae_16x16)"
      ]
    },
    {
      "cell_type": "markdown",
      "id": "bdf6e91c",
      "metadata": {},
      "source": [
        "The constructor of `ConvAE` takes two knobs:\n",
        "\n",
        "* `base_c` – number of channels in the first conv layer  \n",
        "  ↳ determines the entire feature-width pyramid (`base_c`, `2×`, `4×`).\n",
        "* `d_latent` – the dimensionality of the bottleneck vector.\n",
        "\n",
        "Because the two hyper-parameters are independent, *any* (base_c, d_latent) pair is legal without touching internal code.  \n",
        "The two printouts above (4/4 and 16/16) demonstrate that a single Python class adapts seamlessly to both extremes."
      ]
    },
    {
      "cell_type": "markdown",
      "id": "0d330e5f",
      "metadata": {
        "id": "0d330e5f"
      },
      "source": [
        "#### b\n",
        "Explore two network configurations, one with a small number of channels (around 4 in the first layer, and similar numbers in the following layers) and a larger one (around 16 in the first layer) and report these tests as well; input vs. reconstructed images and the reconstruction loss obtained."
      ]
    },
    {
      "cell_type": "code",
      "execution_count": 2,
      "id": "058cbde1",
      "metadata": {},
      "outputs": [
        {
          "name": "stdout",
          "output_type": "stream",
          "text": [
            "\n",
            "=== Training small_d4 (base_c=4, d=4) ===\n",
            "[01/10]  train L1=0.2634  val L1=0.1449  (12.2s)\n",
            "[02/10]  train L1=0.1207  val L1=0.1106  (12.1s)\n",
            "[03/10]  train L1=0.1054  val L1=0.1035  (13.2s)\n",
            "[04/10]  train L1=0.1005  val L1=0.0997  (12.4s)\n",
            "[05/10]  train L1=0.0971  val L1=0.0965  (12.2s)\n",
            "[06/10]  train L1=0.0940  val L1=0.0934  (12.8s)\n",
            "[07/10]  train L1=0.0911  val L1=0.0906  (12.3s)\n",
            "[08/10]  train L1=0.0884  val L1=0.0875  (12.3s)\n",
            "[09/10]  train L1=0.0858  val L1=0.0852  (11.9s)\n",
            "[10/10]  train L1=0.0835  val L1=0.0828  (12.7s)\n",
            "\n",
            "=== Training small_d16 (base_c=4, d=16) ===\n",
            "[01/10]  train L1=0.2861  val L1=0.1322  (12.1s)\n",
            "[02/10]  train L1=0.1057  val L1=0.0935  (12.4s)\n",
            "[03/10]  train L1=0.0882  val L1=0.0857  (12.9s)\n",
            "[04/10]  train L1=0.0818  val L1=0.0797  (13.6s)\n",
            "[05/10]  train L1=0.0765  val L1=0.0749  (20.8s)\n",
            "[06/10]  train L1=0.0715  val L1=0.0693  (19.7s)\n",
            "[07/10]  train L1=0.0664  val L1=0.0644  (14.0s)\n",
            "[08/10]  train L1=0.0616  val L1=0.0595  (13.5s)\n",
            "[09/10]  train L1=0.0570  val L1=0.0550  (13.3s)\n",
            "[10/10]  train L1=0.0531  val L1=0.0515  (12.1s)\n",
            "\n",
            "=== Training big_d4 (base_c=16, d=4) ===\n",
            "[01/10]  train L1=0.1690  val L1=0.0975  (20.6s)\n",
            "[02/10]  train L1=0.0819  val L1=0.0751  (22.0s)\n",
            "[03/10]  train L1=0.0716  val L1=0.0705  (20.0s)\n",
            "[04/10]  train L1=0.0685  val L1=0.0670  (21.0s)\n",
            "[05/10]  train L1=0.0668  val L1=0.0661  (20.5s)\n",
            "[06/10]  train L1=0.0657  val L1=0.0652  (18.6s)\n",
            "[07/10]  train L1=0.0648  val L1=0.0644  (18.8s)\n",
            "[08/10]  train L1=0.0640  val L1=0.0645  (20.2s)\n",
            "[09/10]  train L1=0.0636  val L1=0.0634  (20.6s)\n",
            "[10/10]  train L1=0.0629  val L1=0.0631  (19.7s)\n",
            "\n",
            "=== Training big_d16 (base_c=16, d=16) ===\n",
            "[01/10]  train L1=0.1382  val L1=0.0525  (21.8s)\n",
            "[02/10]  train L1=0.0432  val L1=0.0370  (21.4s)\n",
            "[03/10]  train L1=0.0355  val L1=0.0329  (21.3s)\n",
            "[04/10]  train L1=0.0328  val L1=0.0313  (18.7s)\n",
            "[05/10]  train L1=0.0314  val L1=0.0303  (20.1s)\n",
            "[06/10]  train L1=0.0305  val L1=0.0295  (21.5s)\n",
            "[07/10]  train L1=0.0298  val L1=0.0290  (18.6s)\n",
            "[08/10]  train L1=0.0293  val L1=0.0289  (21.4s)\n",
            "[09/10]  train L1=0.0289  val L1=0.0285  (20.5s)\n",
            "[10/10]  train L1=0.0285  val L1=0.0280  (19.5s)\n",
            "\n",
            "Validation L1 losses: {'small_d4': 0.0828, 'small_d16': 0.0515, 'big_d4': 0.0631, 'big_d16': 0.028}\n"
          ]
        },
        {
          "data": {
            "image/png": "[encoded data removed]",
            "text/plain": [
              "<Figure size 960x300 with 16 Axes>"
            ]
          },
          "metadata": {},
          "output_type": "display_data"
        },
        {
          "data": {
            "image/png": "[encoded data removed]",
            "text/plain": [
              "<Figure size 960x300 with 16 Axes>"
            ]
          },
          "metadata": {},
          "output_type": "display_data"
        },
        {
          "data": {
            "image/png": "[encoded data removed]",
            "text/plain": [
              "<Figure size 960x300 with 16 Axes>"
            ]
          },
          "metadata": {},
          "output_type": "display_data"
        },
        {
          "data": {
            "image/png": "[encoded data removed]",
            "text/plain": [
              "<Figure size 960x300 with 16 Axes>"
            ]
          },
          "metadata": {},
          "output_type": "display_data"
        }
      ],
      "source": [
        "from copy import deepcopy\n",
        "from mnistlib.train import train_loop\n",
        "from mnistlib.viz  import show_reconstructions\n",
        "\n",
        "VALS = {}\n",
        "configs = {\"small_d4\": (4,4), \"small_d16\":(4,16),\n",
        "           \"big_d4\"  : (16,4),\"big_d16\" :(16,16)}\n",
        "\n",
        "for tag, (b,d) in configs.items():\n",
        "    print(f\"\\n=== Training {tag} (base_c={b}, d={d}) ===\")\n",
        "    model = ConvAE(b, d)\n",
        "    val = train_loop(model, *loaders, epochs=10)\n",
        "    VALS[tag] = round(val, 4)\n",
        "    show_reconstructions(model, loaders[1])\n",
        "\n",
        "print(\"\\nValidation L1 losses:\", VALS)"
      ]
    },
    {
      "cell_type": "markdown",
      "id": "5f3d24ad",
      "metadata": {},
      "source": [
        "##### training-loop snippet"
      ]
    },
    {
      "cell_type": "markdown",
      "id": "a5256634",
      "metadata": {},
      "source": [
        "**Training-loop snippet (reference only, from `mnistlib/train.py`)**:\n",
        "```python\n",
        "for epoch in range(epochs):\n",
        "    model.train()\n",
        "    for x,_ in loader_tr:\n",
        "        loss = crit(model(x.to(device)), x.to(device))\n",
        "        opt.zero_grad(); loss.backward(); opt.step()\n",
        "```\n",
        "*Note*: This snippet is illustrative; actual variables and execution happen inside the `train_loop()` function."
      ]
    },
    {
      "cell_type": "markdown",
      "id": "4823ba18",
      "metadata": {
        "id": "4823ba18"
      },
      "source": [
        "#### c\n",
        "Explore the loss you get for d=4/16, and rationalize it in your report."
      ]
    },
    {
      "cell_type": "markdown",
      "id": "9061c8ab",
      "metadata": {},
      "source": [
        "We trained two autoencoder configurations with different latent dimensions (**d=4** and **d=16**). Here are the resulting validation losses:\n",
        "\n",
        "| Configuration | Latent Dimension (d) | Validation L1 Loss |\n",
        "|---------------|----------------------|--------------------|\n",
        "| small_d4      | 4                    | **0.0828**         |\n",
        "| small_d16     | 16                   | **0.0515**         |\n",
        "\n",
        "Increasing the latent dimension from 4 to 16 significantly reduces the reconstruction loss (by approximately **38%**).  \n",
        "This improvement occurs because a larger latent dimension (**d=16**) gives the model a greater capacity to store detailed information from the original images. With more space to represent subtle differences and patterns in each digit, the reconstructions become noticeably clearer and sharper.\n",
        "\n",
        "However, increasing the latent dimension further beyond a certain point would yield diminishing returns, as the MNIST digits contain limited complexity. Thus, **d=16** strikes a good balance between model complexity and reconstruction quality."
      ]
    },
    {
      "cell_type": "markdown",
      "id": "8ec9bd1f",
      "metadata": {
        "id": "8ec9bd1f"
      },
      "source": [
        "#### d\n",
        "Describe and explain the network architecture you choose for this particular data (stride factors / #layers / #filters in each layer / non-linearity used).\n",
        "\n",
        "**Encoder**  \n",
        "*(compresses the original 28×28 image into a compact latent vector)*\n",
        "\n",
        "- **3 Convolutional Layers** *(extract features and reduce spatial dimensions gradually)*:\n",
        "  - Layer 1:  \n",
        "    - **Filters**: from 1 → `base_c` channels *(learn basic features like edges)*  \n",
        "    - **Kernel size**: 3×3 *(looks at local 3×3 pixel patches)*  \n",
        "    - **Stride**: 2 *(reduces image from 28×28 to 14×14)*  \n",
        "    - **Activation**: ReLU *(introduces non-linearity)* + Batch Normalization *(stabilizes training)*\n",
        "\n",
        "  - Layer 2:  \n",
        "    - **Filters**: from `base_c` → `2×base_c` *(learn more complex patterns)*  \n",
        "    - **Kernel size**: 3×3 *(local feature extraction)*  \n",
        "    - **Stride**: 2 *(reduces image from 14×14 to 7×7)*  \n",
        "    - **Activation**: ReLU *(non-linearity)* + Batch Normalization *(training stability)*\n",
        "\n",
        "  - Layer 3:  \n",
        "    - **Filters**: from `2×base_c` → `4×base_c` *(captures rich details)*  \n",
        "    - **Kernel size**: 3×3 *(local features)*  \n",
        "    - **Stride**: 2 *(reduces image from 7×7 to 4×4)*  \n",
        "    - **Activation**: ReLU *(non-linearity)* + Batch Normalization *(training stability)*\n",
        "\n",
        "- **Linear (fully connected) Layer** *(compresses features into compact form)*:  \n",
        "  - Converts the final convolutional features (size: `4×4×4×base_c`) into a small latent vector of dimension **d**.\n",
        "\n",
        "**Decoder**  \n",
        "*(reconstructs the original 28×28 image from the latent vector, by mirroring the encoder steps)*\n",
        "\n",
        "- **Linear (fully connected) Layer** *(expands compressed latent vector back into feature maps)*:  \n",
        "  - Converts latent vector (**d** dimensions) back to feature maps (`4×4×4×base_c`).\n",
        "\n",
        "- **3 Transposed Convolutional Layers** *(also called deconvolutions, to reconstruct and upscale the image)*:\n",
        "  - Layer 1:  \n",
        "    - **Filters**: from `4×base_c` → `2×base_c` *(reverses encoding step, reconstructing features)*  \n",
        "    - **Kernel size**: 3×3 *(fills in local details)*  \n",
        "    - **Stride**: 2 *(upscales from 4×4 to 7×7)*  \n",
        "    - **Activation**: ReLU *(non-linearity)* + Batch Normalization *(training stability)*\n",
        "\n",
        "  - Layer 2:  \n",
        "    - **Filters**: from `2×base_c` → `base_c` *(refines details further)*  \n",
        "    - **Kernel size**: 3×3 *(local details)*  \n",
        "    - **Stride**: 2 *(upscales from 7×7 to 14×14)*  \n",
        "    - **Activation**: ReLU *(non-linearity)* + Batch Normalization *(training stability)*\n",
        "\n",
        "  - Layer 3 *(output layer)*:  \n",
        "    - **Filters**: from `base_c` → 1 *(final grayscale output)*  \n",
        "    - **Kernel size**: 3×3 *(final reconstruction detail)*  \n",
        "    - **Stride**: 2 *(upscales from 14×14 to original 28×28)*  \n",
        "    - **Activation**: Sigmoid *(ensures final pixel values are between 0 and 1, matching original image)*\n",
        "\n",
        "**Choice Rationale**\n",
        "\n",
        "- **Stride of 2**:  \n",
        "  - Encoder: reduces spatial dimensions by half each step, capturing increasingly abstract features.  \n",
        "  - Decoder: precisely mirrors encoder, smoothly reconstructing images by doubling spatial dimensions.\n",
        "\n",
        "- **Kernel size of 3×3**: captures local details effectively while remaining computationally efficient.\n",
        "\n",
        "- **Channel doubling (base_c, 2×base_c, 4×base_c)**: progressively learns more complex features at each encoding step, enhancing reconstruction quality.\n",
        "\n",
        "- **ReLU + BatchNorm**: ReLU introduces flexibility (non-linearity) to learn complex patterns, while BatchNorm stabilizes and accelerates training.\n",
        "\n",
        "- **Sigmoid output**: produces final outputs in the valid range [0, 1], directly matching the original MNIST pixel scale.\n",
        "\n",
        "- **L1 loss (mean absolute error)**: chosen specifically because it clearly preserves the sharp edges and key details of digits, whereas L2 loss (mean squared error) would smooth reconstructions and reduce visual clarity.\n",
        "\n",
        "This structured design effectively captures essential digit features, compresses them efficiently, and reconstructs high-quality images clearly from the compressed latent representation."
      ]
    },
    {
      "cell_type": "markdown",
      "id": "cc1abd65",
      "metadata": {},
      "source": [
        "The best practice of implementing this code is by defining separate encoder and decoder models, both inheriting from nn.module. Use a mean L1 error to define the reconstruction loss."
      ]
    },
    {
      "cell_type": "markdown",
      "id": "d649d621",
      "metadata": {
        "id": "d649d621"
      },
      "source": [
        "### 2\n",
        "**Classifier**. Use the same architecture as the encoder in Q1 in order to define a classification network by combining it with a single-layered MLP network that will map the latent space into a 10 (digits) class prediction. Train this network to predict the digit classes using cross-entropy loss in two scenarios:"
      ]
    },
    {
      "cell_type": "markdown",
      "id": "2a0e6965",
      "metadata": {
        "id": "2a0e6965"
      },
      "source": [
        "#### (i)\n",
        "over the entire training set"
      ]
    },
    {
      "cell_type": "markdown",
      "id": "347e9211",
      "metadata": {
        "id": "347e9211"
      },
      "source": [
        "#### (ii)\n",
        "over only 100 random training examples"
      ]
    },
    {
      "cell_type": "markdown",
      "id": "8cb81f74",
      "metadata": {
        "id": "8cb81f74"
      },
      "source": [
        "#### Plot the training and test errors as well as accuracies.\n",
        "The best practice here is to keep the model divided into two models: the original encoder model and the added MLP model.\n"
      ]
    },
    {
      "cell_type": "markdown",
      "id": "d98acbba",
      "metadata": {
        "id": "d98acbba"
      },
      "source": [
        "### 3\n",
        "**Pre-trained Representation**. Repeat the two tests in Q2, this time by using the unsupervised pre-trained encoder weights from Q1 as a fixed (non-trainable encoder model), and only train the final MLP, once with the entire dataset, once with only 100 random training examples. Plot the training and test errors as well as accuracies. How do they compare to the ones in Q2? Write your conclusion as to the usefulness of unsupervised representation learning.\n"
      ]
    },
    {
      "cell_type": "markdown",
      "id": "a5147a7f",
      "metadata": {
        "id": "a5147a7f"
      },
      "source": [
        "### 4\n",
        "**Task Specific Encoding**: both Q1 and Q2 produce two different trained encoding networks. The one in Q1 already has a matching trained decoder, but the one in Q2 does not. Use this pretrained encoding network as a fixed (non-trainable model) and train a matching decoder over the entire dataset. Meaning that you are using an encoder trained for classification task, and coupling it with a decoder trained for reconstruction (trained from scratch along with the pretrained encoding/classifying network from Q2). Look at reconstructed images produced by these two sets of encoder-decoder networks and answer:"
      ]
    },
    {
      "cell_type": "markdown",
      "id": "d8e2a8c8",
      "metadata": {
        "id": "d8e2a8c8"
      },
      "source": [
        "#### a\n",
        "Which one results in better reconstruction error and why?"
      ]
    },
    {
      "cell_type": "markdown",
      "id": "e708dfd5",
      "metadata": {
        "id": "e708dfd5"
      },
      "source": [
        "#### b\n",
        "Describe the qualitative differences between the reconstructed results they produce. Explain why you think these are the differences."
      ]
    },
    {
      "cell_type": "markdown",
      "id": "139e2675",
      "metadata": {
        "id": "139e2675"
      },
      "source": [
        "#### c\n",
        "Where do you see higher in-class (per-digit) variability? (watch and show multiple instances of the same digit to answer this)"
      ]
    },
    {
      "cell_type": "markdown",
      "id": "6e752ea4",
      "metadata": {
        "id": "6e752ea4"
      },
      "source": [
        "#### d\n",
        "Where do you see higher inter-class (between digits) distance/separation? Explain both."
      ]
    },
    {
      "cell_type": "code",
      "execution_count": null,
      "id": "b4a8142b",
      "metadata": {
        "id": "b4a8142b",
        "outputId": "c016d464-886b-4971-9e5b-d9d2ccd814bd"
      },
      "outputs": [
        {
          "name": "stdout",
          "output_type": "stream",
          "text": [
            "Requirements saved to requirements.txt\n"
          ]
        }
      ],
      "source": [
        "%%bash\n",
        "pip freeze > requirements.txt\n",
        "echo \"Requirements saved to requirements.txt\""
      ]
    }
  ],
  "metadata": {
    "colab": {
      "provenance": []
    },
    "kernelspec": {
      "display_name": ".venv_Ex2",
      "language": "python",
      "name": "python3"
    },
    "language_info": {
      "codemirror_mode": {
        "name": "ipython",
        "version": 3
      },
      "file_extension": ".py",
      "mimetype": "text/x-python",
      "name": "python",
      "nbconvert_exporter": "python",
      "pygments_lexer": "ipython3",
      "version": "3.11.12"
    }
  },
  "nbformat": 4,
  "nbformat_minor": 5
}
